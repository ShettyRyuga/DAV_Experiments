{
  "nbformat": 4,
  "nbformat_minor": 0,
  "metadata": {
    "colab": {
      "provenance": [],
      "authorship_tag": "ABX9TyMJWInurnBSMSF94xHiuY27",
      "include_colab_link": true
    },
    "kernelspec": {
      "name": "python3",
      "display_name": "Python 3"
    },
    "language_info": {
      "name": "python"
    }
  },
  "cells": [
    {
      "cell_type": "markdown",
      "metadata": {
        "id": "view-in-github",
        "colab_type": "text"
      },
      "source": [
        "<a href=\"https://colab.research.google.com/github/ShettyRyuga/DAV_Experiments/blob/main/Introduction_to_D3_js.ipynb\" target=\"_parent\"><img src=\"https://colab.research.google.com/assets/colab-badge.svg\" alt=\"Open In Colab\"/></a>"
      ]
    },
    {
      "cell_type": "markdown",
      "source": [
        "Data visualization is the presentation of data in a pictorial or graphical format.\n",
        "\n",
        "### What is D3.js?\n",
        "D3.js is a JavaScript library used to create interactive visualizations in the browser. The D3.js library allows us to manipulate elements of a webpage in the context of a data set. These elements can be HTML, SVG, or Canvas elements and can be introduced, removed, or edited according to the contents of the data set. It is a library for manipulating the DOM objects. D3.js can be a valuable aid in data exploration, it gives you control over your data's representation and lets you add interactivity.\n",
        "\n",
        "D3.js Features\n",
        "D3.js is one of the best data visualization framework and it can be used to generate simple as well as complex visualizations along with user interaction and transition effects. Some of its salient features are listed below −\n",
        "\n",
        "* Extremely flexible.\n",
        "* Easy to use and fast.\n",
        "* Supports large datasets.\n",
        "* Declarative programming.\n",
        "* Code reusability.\n",
        "* Has wide variety of curve generating functions.\n",
        "* Associates data to an element or group of elements in the html page."
      ],
      "metadata": {
        "id": "yjFxUp3EQs-G"
      }
    },
    {
      "cell_type": "code",
      "execution_count": null,
      "metadata": {
        "colab": {
          "base_uri": "https://localhost:8080/",
          "height": 580
        },
        "id": "owKi7modPcqn",
        "outputId": "b5130e39-aa0b-4773-eec1-073d6fcab203"
      },
      "outputs": [
        {
          "output_type": "display_data",
          "data": {
            "text/plain": [
              "<IPython.core.display.HTML object>"
            ],
            "text/html": [
              "<!DOCTYPE html>\n",
              "<html lang = \"en\">\n",
              "   <head>\n",
              "      <meta charset = \"UTF-8\">\n",
              "      <title></title>\n",
              "   </head>\n",
              "\n",
              "   <body>\n",
              "   <h1> Soham </h1>\n",
              "   <svg width = \"500\" height = \"500\">\n",
              "   <rect x = \"0\" y = \"0\" width = \"300\" height = \"200\" fill = \"yellow\"></rect>\n",
              "</svg>\n",
              "   </body>\n",
              "</html>\n"
            ]
          },
          "metadata": {}
        }
      ],
      "source": [
        "%%HTML\n",
        "<!DOCTYPE html>\n",
        "<html lang = \"en\">\n",
        "   <head>\n",
        "      <meta charset = \"UTF-8\">\n",
        "      <title></title>\n",
        "   </head>\n",
        "\n",
        "   <body>\n",
        "   <h1> Soham </h1>\n",
        "   <svg width = \"500\" height = \"500\">\n",
        "   <rect x = \"0\" y = \"0\" width = \"300\" height = \"200\" fill = \"yellow\"></rect>\n",
        "</svg>\n",
        "   </body>\n",
        "</html>"
      ]
    },
    {
      "cell_type": "markdown",
      "source": [
        "D3.js helps to select elements from the HTML page using the following two methods −\n",
        "\n",
        "select() − Selects only one DOM element by matching the given CSS selector. If there are more than one elements for the given CSS selector, it selects the first one only.\n",
        "\n",
        "selectAll() − Selects all DOM elements by matching the given CSS selector. If you are familiar with selecting elements with jQuery, D3.js selectors are almost the same."
      ],
      "metadata": {
        "id": "e4vbwvzyViXP"
      }
    },
    {
      "cell_type": "code",
      "source": [
        "%%html\n",
        "<!DOCTYPE html>\n",
        "<html>\n",
        "   <head>\n",
        "      <script type = \"text/javascript\" src = \"https://d3js.org/d3.v4.min.js\"></script>\n",
        "   </head>\n",
        "\n",
        "   <body>\n",
        "      <div class = \"myclass\" >\n",
        "         Hello World!\n",
        "      </div>\n",
        "\n",
        "      <script>\n",
        "         d3.select(\"div\").text();\n",
        "         d3.select(\".myclass\").text();\n",
        "      </script>\n",
        "   </body>\n",
        "</html>\n"
      ],
      "metadata": {
        "colab": {
          "base_uri": "https://localhost:8080/",
          "height": 34
        },
        "id": "ykJG6g_TPnxE",
        "outputId": "2e441769-fe0f-4e0a-b4bc-e08ffb406c07"
      },
      "execution_count": null,
      "outputs": [
        {
          "output_type": "display_data",
          "data": {
            "text/plain": [
              "<IPython.core.display.HTML object>"
            ],
            "text/html": [
              "<!DOCTYPE html>\n",
              "<html>\n",
              "   <head>\n",
              "      <script type = \"text/javascript\" src = \"https://d3js.org/d3.v4.min.js\"></script>\n",
              "   </head>\n",
              "\n",
              "   <body>\n",
              "      <div class = \"myclass\" >\n",
              "         Hello World!    \n",
              "      </div>\n",
              "      \n",
              "      <script>\n",
              "         d3.select(\"div\").text();\n",
              "         d3.select(\".myclass\").text();\n",
              "      </script>\n",
              "   </body>\n",
              "</html>\n"
            ]
          },
          "metadata": {}
        }
      ]
    },
    {
      "cell_type": "markdown",
      "source": [
        "Adding DOM Elements\n",
        "\n",
        "%%The append() Method"
      ],
      "metadata": {
        "id": "iPMSG1kjXatG"
      }
    },
    {
      "cell_type": "code",
      "source": [
        "%%HTML\n",
        "\n",
        "\n",
        "<!DOCTYPE html>\n",
        "<html>\n",
        "   <head>\n",
        "      <script type = \"text/javascript\" src = \"https://d3js.org/d3.v4.min.js\"></script>\n",
        "   </head>\n",
        "\n",
        "   <body>\n",
        "\n",
        "      <div class = \"myclass\">\n",
        "         Hello World!\n",
        "      </div>\n",
        "\n",
        "      <script>\n",
        "         d3.select(\"div.myclass\").append(\"span\").text(\" from D3.js\");\n",
        "      </script>\n",
        "   </body>\n",
        "</html>\n"
      ],
      "metadata": {
        "colab": {
          "base_uri": "https://localhost:8080/",
          "height": 34
        },
        "id": "8Uz_WRo5TS43",
        "outputId": "d7039c29-5f54-41f0-f0a2-0e1c03629538"
      },
      "execution_count": null,
      "outputs": [
        {
          "output_type": "display_data",
          "data": {
            "text/plain": [
              "<IPython.core.display.HTML object>"
            ],
            "text/html": [
              " \n",
              "\n",
              "<!DOCTYPE html>\n",
              "<html>\n",
              "   <head>\n",
              "      <script type = \"text/javascript\" src = \"https://d3js.org/d3.v4.min.js\"></script>\n",
              "   </head>\n",
              "\n",
              "   <body>\n",
              "     \n",
              "      <div class = \"myclass\">\n",
              "         Hello World!\n",
              "      </div>\n",
              "      \n",
              "      <script>\n",
              "         d3.select(\"div.myclass\").append(\"span\").text(\" from D3.js\");\n",
              "      </script>\n",
              "   </body>\n",
              "</html>\n"
            ]
          },
          "metadata": {}
        }
      ]
    },
    {
      "cell_type": "markdown",
      "source": [
        "Here we are using element select to append a text \" from D3.js \" in a span tag using script tag(javascript)\n"
      ],
      "metadata": {
        "id": "A6t4m4s7ajEu"
      }
    },
    {
      "cell_type": "code",
      "source": [
        "%%html\n",
        "<!DOCTYPE html>\n",
        "<html>\n",
        "   <head>\n",
        "      <script type = \"text/javascript\" src = \"https://d3js.org/d3.v4.min.js\"></script>\n",
        "   </head>\n",
        "<body>\n",
        "      <div class = \"myclass\">\n",
        "         Hello World!\n",
        "      </div>\n",
        "\n",
        "      <script>\n",
        "         d3.select(\".myclass\").attr(\"style\", \"color: red\");\n",
        "      </script>\n",
        "   </body>\n",
        "  </html>"
      ],
      "metadata": {
        "colab": {
          "base_uri": "https://localhost:8080/",
          "height": 34
        },
        "id": "AAkxTBArX_5X",
        "outputId": "ec6f08b5-c688-408d-9375-09bb347130e7"
      },
      "execution_count": null,
      "outputs": [
        {
          "output_type": "display_data",
          "data": {
            "text/plain": [
              "<IPython.core.display.HTML object>"
            ],
            "text/html": [
              "<!DOCTYPE html>\n",
              "<html>\n",
              "   <head>\n",
              "      <script type = \"text/javascript\" src = \"https://d3js.org/d3.v4.min.js\"></script>\n",
              "   </head>\n",
              "<body>\n",
              "      <div class = \"myclass\">\n",
              "         Hello World!\n",
              "      </div>\n",
              "      \n",
              "      <script>\n",
              "         d3.select(\".myclass\").attr(\"style\", \"color: red\");\n",
              "      </script>\n",
              "   </body>\n",
              "  </html>\n"
            ]
          },
          "metadata": {}
        }
      ]
    },
    {
      "cell_type": "markdown",
      "source": [
        "using the attr() method we can add styles and more attributes to the select tag\n",
        "an alterantive is .style() method which can be used similarly"
      ],
      "metadata": {
        "id": "MkJzTX0tbyzn"
      }
    },
    {
      "cell_type": "code",
      "source": [
        "%%html\n",
        "<!DOCTYPE html>\n",
        "<html>\n",
        "   <head>\n",
        "      <script type = \"text/javascript\" src = \"https://d3js.org/d3.v4.min.js\"></script>\n",
        "   </head>\n",
        "<body>\n",
        "      <div class = \"myclass\" >\n",
        "         Hello World!\n",
        "      </div>\n",
        "\n",
        "      <script>\n",
        "        d3.select(\".myclass\").classed(\"myanotherclass\", True);\n",
        "         d3.select(\".myanotherclass\").attr(\"style\", \"color: red\");\n",
        "      </script>\n",
        "   </body>\n",
        "  </html>"
      ],
      "metadata": {
        "colab": {
          "base_uri": "https://localhost:8080/",
          "height": 34
        },
        "id": "jSFhSs7waB6v",
        "outputId": "534e745e-2c21-4f07-9793-a82d044ce224"
      },
      "execution_count": null,
      "outputs": [
        {
          "output_type": "display_data",
          "data": {
            "text/plain": [
              "<IPython.core.display.HTML object>"
            ],
            "text/html": [
              "<!DOCTYPE html>\n",
              "<html>\n",
              "   <head>\n",
              "      <script type = \"text/javascript\" src = \"https://d3js.org/d3.v4.min.js\"></script>\n",
              "   </head>\n",
              "<body>\n",
              "      <div class = \"myclass\" >\n",
              "         Hello World!\n",
              "      </div>\n",
              "      \n",
              "      <script>\n",
              "        d3.select(\".myclass\").classed(\"myanotherclass\", false);\n",
              "         d3.select(\".myanotherclass\").attr(\"style\", \"color: red\");\n",
              "      </script>\n",
              "   </body>\n",
              "  </html>\n"
            ]
          },
          "metadata": {}
        }
      ]
    },
    {
      "cell_type": "markdown",
      "source": [
        "Here We added a class using the classed() method and then added attributes to it"
      ],
      "metadata": {
        "id": "kXfaxjEOfOd-"
      }
    },
    {
      "cell_type": "code",
      "source": [
        "%%html\n",
        "\n",
        "<!DOCTYPE html>\n",
        "<html>\n",
        "   <head>\n",
        "      <script type = \"text/javascript\" src = \"https://d3js.org/d3.v4.min.js\"></script>\n",
        "   </head>\n",
        "\n",
        "   <body>\n",
        "      <h2 class = \"myclass\">Khalid is stupid </h2>\n",
        "      <div class = \"myclass\">\n",
        "        Will Alok be a good friend?\n",
        "      </div>\n",
        "\n",
        "      <script>\n",
        "         d3.selectAll(\".myclass\").attr(\"style\", \"color: red\");\n",
        "      </script>\n",
        "   </body>\n",
        "</html>"
      ],
      "metadata": {
        "colab": {
          "base_uri": "https://localhost:8080/",
          "height": 82
        },
        "id": "ka1aqft_esU2",
        "outputId": "198a43f8-bc48-425c-a7d8-760182d46e90"
      },
      "execution_count": null,
      "outputs": [
        {
          "output_type": "display_data",
          "data": {
            "text/plain": [
              "<IPython.core.display.HTML object>"
            ],
            "text/html": [
              "\n",
              "<!DOCTYPE html>\n",
              "<html>\n",
              "   <head>\n",
              "      <script type = \"text/javascript\" src = \"https://d3js.org/d3.v4.min.js\"></script>\n",
              "   </head>\n",
              "\n",
              "   <body>\n",
              "      <h2 class = \"myclass\">Khalid is stupid </h2>\n",
              "      <div class = \"myclass\">\n",
              "        Will Alok be a good friend? \n",
              "      </div>\n",
              "      \n",
              "      <script>\n",
              "         d3.selectAll(\".myclass\").attr(\"style\", \"color: red\");\n",
              "      </script>\n",
              "   </body>\n",
              "</html>\n"
            ]
          },
          "metadata": {}
        }
      ]
    },
    {
      "cell_type": "markdown",
      "source": [],
      "metadata": {
        "id": "WCq0HeXrgZVu"
      }
    },
    {
      "cell_type": "code",
      "source": [
        "%%html\n",
        "<!DOCTYPE html>\n",
        "<html>\n",
        "   <head>\n",
        "      <script type = \"text/javascript\" src = \"https://d3js.org/d3.v4.min.js\"></script>\n",
        "      <style>\n",
        "         body { font-family: Arial; }\n",
        "      </style>\n",
        "   </head>\n",
        "\n",
        "   <body>\n",
        "      <ul id = \"list\">\n",
        "         <li></li>\n",
        "         <li></li>\n",
        "      </ul>\n",
        "\n",
        "      <input type = \"button\" name = \"remove\" value = \"Remove fourth value\"\n",
        "         onclick = \"javascript:remove()\" />\n",
        "\n",
        "      <script>\n",
        "         d3.select(\"#list\").selectAll(\"li\")\n",
        "            .data([10, 20, 30, 25, 15])\n",
        "            .text(function(d)\n",
        "               { return \"This is pre-existing element and the value is \" + d; })\n",
        "            .enter()\n",
        "            .append(\"li\")\n",
        "            .text(function(d)\n",
        "               { return \"This is dynamically created element and the value is \" + d; });\n",
        "\n",
        "         function remove() {\n",
        "            d3.selectAll(\"li\")\n",
        "            .data([10, 20, 30, 15])\n",
        "            .exit()\n",
        "            .remove()\n",
        "         }\n",
        "      </script>\n",
        "   </body>\n",
        "</html>"
      ],
      "metadata": {
        "colab": {
          "base_uri": "https://localhost:8080/",
          "height": 135
        },
        "id": "cyTvJA_cgOkm",
        "outputId": "bdb36fd4-d7b2-4990-9376-05b206c9a3da"
      },
      "execution_count": null,
      "outputs": [
        {
          "output_type": "display_data",
          "data": {
            "text/plain": [
              "<IPython.core.display.HTML object>"
            ],
            "text/html": [
              "<!DOCTYPE html>\n",
              "<html>\n",
              "   <head>\n",
              "      <script type = \"text/javascript\" src = \"https://d3js.org/d3.v4.min.js\"></script>\n",
              "      <style>\n",
              "         body { font-family: Arial; }\n",
              "      </style>\n",
              "   </head>\n",
              "\n",
              "   <body>\n",
              "      <ul id = \"list\">\n",
              "         <li></li>\n",
              "         <li></li>\n",
              "      </ul>\n",
              "        \n",
              "      <input type = \"button\" name = \"remove\" value = \"Remove fourth value\" \n",
              "         onclick = \"javascript:remove()\" />\n",
              "      \n",
              "      <script>\n",
              "         d3.select(\"#list\").selectAll(\"li\")\n",
              "            .data([10, 20, 30, 25, 15])\n",
              "            .text(function(d) \n",
              "               { return \"This is pre-existing element and the value is \" + d; })\n",
              "            .enter()\n",
              "            .append(\"li\")\n",
              "            .text(function(d) \n",
              "               { return \"This is dynamically created element and the value is \" + d; });\n",
              "             \n",
              "         function remove() {\n",
              "            d3.selectAll(\"li\")\n",
              "            .data([10, 20, 30, 15])\n",
              "            .exit()\n",
              "            .remove()\n",
              "         }\n",
              "      </script>\n",
              "   </body>\n",
              "</html>\n"
            ]
          },
          "metadata": {}
        }
      ]
    },
    {
      "cell_type": "markdown",
      "source": [
        "**SVG stands for Scalable Vector Graphics**. SVG is an XML-based vector graphics format. It provides options to draw different shapes such as Lines, Rectangles, Circles, Ellipses, etc. Hence, designing visualizations with SVG gives you more power and flexibility.\n",
        "\n",
        "Features of SVG −\n",
        "\n",
        "SVG is a vector based image format and it is text-based.\n",
        "\n",
        "SVG is similar in structure to HTML.\n",
        "\n",
        "SVG can be represented as a Document object model.\n",
        "\n",
        "SVG properties can be specified as attributes.\n",
        "\n",
        "SVG should have absolute positions relative to the origin (0, 0).\n",
        "\n",
        "SVG can be included as is in the HTML document."
      ],
      "metadata": {
        "id": "nIpms3UHO5P6"
      }
    },
    {
      "cell_type": "code",
      "source": [
        "%%html\n",
        "<!DOCTYPE html>\n",
        "<html>\n",
        "   <head>\n",
        "      <script type = \"text/javascript\" src = \"https://d3js.org/d3.v4.min.js\"></script>\n",
        "   </head>\n",
        "\n",
        "   <body>\n",
        "      <div id = \"svgcontainer\"></div>\n",
        "      <script>\n",
        "         var width = 300;\n",
        "         var height = 300;\n",
        "         //Create SVG element\n",
        "         var svg = d3.select(\"#svgcontainer\")\n",
        "            .append(\"svg\")\n",
        "            .attr(\"width\", width)\n",
        "            .attr(\"height\", height);\n",
        "         //Append circle\n",
        "         svg.append(\"circle\")\n",
        "            .attr(\"cx\", 200)\n",
        "            .attr(\"cy\", 50)\n",
        "            .attr(\"r\", 20)\n",
        "            .attr(\"fill\", \"green\");\n",
        "      </script>\n",
        "   </body>\n",
        "</html>\n",
        "<html>\n",
        "   <head>\n",
        "      <script type = \"text/javascript\" src = \"https://d3js.org/d3.v4.min.js\"></script>\n",
        "   </head>\n",
        "\n",
        "   <body>\n",
        "      <div id = \"svgcontainer\"></div>\n",
        "      <script>\n",
        "         var width = 300;\n",
        "         var height = 300;\n",
        "         var svg = d3.select(\"#svgcontainer\")\n",
        "            .append(\"svg\")\n",
        "            .attr(\"width\", width)\n",
        "            .attr(\"height\", height);\n",
        "         svg.append(\"ellipse\")\n",
        "            .attr(\"cx\", 200)\n",
        "            .attr(\"cy\", 50)\n",
        "            .attr(\"rx\", 100)\n",
        "            .attr(\"ry\", 50)\n",
        "            .attr(\"fill\", \"green\")\n",
        "      </script>\n",
        "   </body>\n",
        "</html>\n"
      ],
      "metadata": {
        "id": "OCFLEnNMg5WW",
        "colab": {
          "base_uri": "https://localhost:8080/",
          "height": 321
        },
        "outputId": "118167b7-34ef-40c6-a163-1eff73d25cda"
      },
      "execution_count": 1,
      "outputs": [
        {
          "output_type": "display_data",
          "data": {
            "text/plain": [
              "<IPython.core.display.HTML object>"
            ],
            "text/html": [
              "<!DOCTYPE html>\n",
              "<html>\n",
              "   <head>\n",
              "      <script type = \"text/javascript\" src = \"https://d3js.org/d3.v4.min.js\"></script>\n",
              "   </head>\n",
              "\n",
              "   <body>\n",
              "      <div id = \"svgcontainer\"></div>\n",
              "      <script>\n",
              "         var width = 300;\n",
              "         var height = 300;\n",
              "         //Create SVG element\n",
              "         var svg = d3.select(\"#svgcontainer\")\n",
              "            .append(\"svg\")\n",
              "            .attr(\"width\", width)\n",
              "            .attr(\"height\", height);\n",
              "         //Append circle \n",
              "         svg.append(\"circle\")\n",
              "            .attr(\"cx\", 200)\n",
              "            .attr(\"cy\", 50)\n",
              "            .attr(\"r\", 20)\n",
              "            .attr(\"fill\", \"green\");\n",
              "      </script>\n",
              "   </body>\n",
              "</html>\n",
              "<html>\n",
              "   <head>\n",
              "      <script type = \"text/javascript\" src = \"https://d3js.org/d3.v4.min.js\"></script>\n",
              "   </head>\n",
              "\n",
              "   <body>\n",
              "      <div id = \"svgcontainer\"></div>\n",
              "      <script>\n",
              "         var width = 300;\n",
              "         var height = 300;\n",
              "         var svg = d3.select(\"#svgcontainer\")\n",
              "            .append(\"svg\")\n",
              "            .attr(\"width\", width)\n",
              "            .attr(\"height\", height);\n",
              "         svg.append(\"ellipse\")\n",
              "            .attr(\"cx\", 200)\n",
              "            .attr(\"cy\", 50)\n",
              "            .attr(\"rx\", 100)\n",
              "            .attr(\"ry\", 50)\n",
              "            .attr(\"fill\", \"green\")\n",
              "      </script>\n",
              "   </body>\n",
              "</html>\n"
            ]
          },
          "metadata": {}
        }
      ]
    },
    {
      "cell_type": "markdown",
      "source": [
        "Introduction to SVG Transformation\n",
        "\n",
        "* Translate − It takes two options,tx refers translation along the x-axis and ty refers to the translation along the y-axis.\n",
        "\n",
        "For Example− translate(30 30).\n",
        "\n",
        "* Rotate − It takes three options, angle refers rotation angle, cx and cy refers to the center of the rotation in the x and y axis. If cx and cy are not specified, then it defaults to the current origin of the coordinate system.\n",
        "\n",
        "\n",
        "For Example − rotate(60).\n",
        "\n",
        "* Scale − It takes two options, sx refers to the scaling factor along the x-axis and sy refers to the scaling factor along the y-axis. Here, sy is optional and it takes the value of sx, if it is not specified.\n",
        "\n",
        "For Example − scale(10).\n",
        "\n",
        "* Skew (SkewX and SkewY) − It takes a single option; the skew-angle refers to the angle along the x-axis for SkewX and the angle along the y-axis for SkewY.\n",
        "\n",
        " For Example − skewx(20)."
      ],
      "metadata": {
        "id": "pH1i9BYFWbiG"
      }
    },
    {
      "cell_type": "code",
      "source": [
        "%%html\n",
        "<html>\n",
        "   <head>\n",
        "      <script type = \"text/javascript\" src = \"https://d3js.org/d3.v4.min.js\"></script>\n",
        "   </head>\n",
        "\n",
        "   <body>\n",
        "      <svg width = \"300\" height = \"300\">\n",
        "         <g transform = \"translate(150,60) rotate(175)\">\n",
        "            <rect x = \"20\"\n",
        "               y = \"20\"\n",
        "               width = \"60\"\n",
        "               height = \"30\"\n",
        "               fill = \"green\">\n",
        "            </rect>\n",
        "            <circle cx = \"01\"\n",
        "               cy = \"-30\"\n",
        "               r = \"30\"\n",
        "               fill = \"red\"/>\n",
        "         </g>\n",
        "      </svg>\n",
        "   </body>\n",
        "</html>"
      ],
      "metadata": {
        "colab": {
          "base_uri": "https://localhost:8080/",
          "height": 321
        },
        "id": "th98L62jWSsg",
        "outputId": "828a1941-335a-4006-8719-cbab65b9e367"
      },
      "execution_count": 13,
      "outputs": [
        {
          "output_type": "display_data",
          "data": {
            "text/plain": [
              "<IPython.core.display.HTML object>"
            ],
            "text/html": [
              "<html>\n",
              "   <head>\n",
              "      <script type = \"text/javascript\" src = \"https://d3js.org/d3.v4.min.js\"></script>\n",
              "   </head>\n",
              "\n",
              "   <body>\n",
              "      <svg width = \"300\" height = \"300\">\n",
              "         <g transform = \"translate(150,60) rotate(175)\">\n",
              "            <rect x = \"20\" \n",
              "               y = \"20\" \n",
              "               width = \"60\" \n",
              "               height = \"30\" \n",
              "               fill = \"green\">\n",
              "            </rect>\n",
              "            <circle cx = \"01\" \n",
              "               cy = \"-30\" \n",
              "               r = \"30\" \n",
              "               fill = \"red\"/>\n",
              "         </g>\n",
              "      </svg>\n",
              "   </body>\n",
              "</html>\n"
            ]
          },
          "metadata": {}
        }
      ]
    },
    {
      "cell_type": "markdown",
      "source": [
        "The transition() method\n",
        "The transition() method is available for all selectors and it starts the transition process. This method supports most of the selection methods such as – attr(), style(), etc. But, It does not support the append() and the data() methods, which need to be called before the transition() method. Also, it provides methods specific to transition like duration(), ease(), etc. A simple transition can be defined as follows −"
      ],
      "metadata": {
        "id": "9nPBHaCnX5LL"
      }
    },
    {
      "cell_type": "code",
      "source": [
        "%%html\n",
        "\n",
        "<!DOCTYPE html>\n",
        "<html>\n",
        "   <head>\n",
        "      <script type = \"text/javascript\" src = \"https://d3js.org/d3.v4.min.js\"></script>\n",
        "   </head>\n",
        "\n",
        "   <body>\n",
        "      <h3>Simple transitions</h3>\n",
        "      <script>\n",
        "         d3.select(\"body\").transition().style(\"background-color\", \"gray\");\n",
        "      </script>\n",
        "   </body>\n",
        "</html>"
      ],
      "metadata": {
        "colab": {
          "base_uri": "https://localhost:8080/",
          "height": 58
        },
        "id": "FHzKBmGGXHWG",
        "outputId": "05d9471d-acd0-4303-936d-e5b046c42a63"
      },
      "execution_count": 16,
      "outputs": [
        {
          "output_type": "display_data",
          "data": {
            "text/plain": [
              "<IPython.core.display.HTML object>"
            ],
            "text/html": [
              "\n",
              "<!DOCTYPE html>\n",
              "<html>\n",
              "   <head>\n",
              "      <script type = \"text/javascript\" src = \"https://d3js.org/d3.v4.min.js\"></script>\n",
              "   </head>\n",
              "\n",
              "   <body>\n",
              "      <h3>Simple transitions</h3>\n",
              "      <script>\n",
              "         d3.select(\"body\").transition().style(\"background-color\", \"gray\");\n",
              "      </script>\n",
              "   </body>\n",
              "</html>\n"
            ]
          },
          "metadata": {}
        }
      ]
    },
    {
      "cell_type": "code",
      "source": [
        "%%html\n",
        "<!DOCTYPE html>\n",
        "<html>\n",
        "   <head>\n",
        "      <script type = \"text/javascript\" src = \"https://d3js.org/d3.v4.min.js\"></script>\n",
        "   </head>\n",
        "\n",
        "   <body>\n",
        "      <h3> Shreeprasad X Khalid </h3>\n",
        "      <script>\n",
        "          d3.select(\"body\").style(\"background-color\", \"lightblue\")\n",
        "         // make the background-color lightblue.transition()\n",
        "         .style(\"background-color\", \"gray\");\n",
        "         d3.selectAll(\"h3\").transition().style(\"color\",\"green\").duration(5000).style(\"font-size\",\"28px\").delay(2000).duration(2000);\n",
        "      </script>\n",
        "   </body>\n",
        "</html>"
      ],
      "metadata": {
        "colab": {
          "base_uri": "https://localhost:8080/",
          "height": 84
        },
        "id": "wVyh7xoUX9Pp",
        "outputId": "58b8f472-ff36-4227-963f-68b951bac06e"
      },
      "execution_count": 23,
      "outputs": [
        {
          "output_type": "display_data",
          "data": {
            "text/plain": [
              "<IPython.core.display.HTML object>"
            ],
            "text/html": [
              "<!DOCTYPE html>\n",
              "<html>\n",
              "   <head>\n",
              "      <script type = \"text/javascript\" src = \"https://d3js.org/d3.v4.min.js\"></script>\n",
              "   </head>\n",
              "\n",
              "   <body>\n",
              "      <h3> Shreeprasad X Khalid </h3>\n",
              "      <script>\n",
              "          d3.select(\"body\").style(\"background-color\", \"lightblue\") \n",
              "         // make the background-color lightblue.transition()\n",
              "         .style(\"background-color\", \"gray\");\n",
              "         d3.selectAll(\"h3\").transition().style(\"color\",\"green\").duration(5000).style(\"font-size\",\"28px\").delay(2000).duration(2000);\n",
              "      </script>\n",
              "   </body>\n",
              "</html>\n"
            ]
          },
          "metadata": {}
        }
      ]
    },
    {
      "cell_type": "code",
      "source": [
        "%%html\n",
        "<!DOCTYPE html>\n",
        "<html>\n",
        "   <head>\n",
        "      <script type = \"text/javascript\" src = \"https://d3js.org/d3.v4.min.js\"></script>\n",
        "   </head>\n",
        "\n",
        "   <body>\n",
        "      <h3> SAM  </h3>\n",
        "      <script>\n",
        "          d3.select(\"body\").transition().style(\"background-color\", \"lightblue\").delay(2000).each(\"start\", function() { d3.select(this).style(\"color\", \"green\"); }).style(\"color\", \"red\");\n",
        "\n",
        "      </script>\n",
        "   </body>\n",
        "</html>"
      ],
      "metadata": {
        "colab": {
          "base_uri": "https://localhost:8080/",
          "height": 58
        },
        "id": "t3l8vSQaYZ9n",
        "outputId": "74073f4d-2694-4aed-c8c6-ee9c5d42c9b3"
      },
      "execution_count": 32,
      "outputs": [
        {
          "output_type": "display_data",
          "data": {
            "text/plain": [
              "<IPython.core.display.HTML object>"
            ],
            "text/html": [
              "<!DOCTYPE html>\n",
              "<html>\n",
              "   <head>\n",
              "      <script type = \"text/javascript\" src = \"https://d3js.org/d3.v4.min.js\"></script>\n",
              "   </head>\n",
              "\n",
              "   <body>\n",
              "      <h3> SAM  </h3>\n",
              "      <script>\n",
              "          d3.select(\"body\").transition().style(\"background-color\", \"lightblue\").delay(2000).each(\"start\", function() { d3.select(this).style(\"color\", \"green\"); }).style(\"color\", \"red\");\n",
              "          d3.selectAll(\"h3\").transition().style(\"color\",\"green\").duration(5000).style(\"font-size\",\"28px\").delay(2000).duration(2000);\n",
              "      </script>\n",
              "   </body>\n",
              "</html>\n"
            ]
          },
          "metadata": {}
        }
      ]
    },
    {
      "cell_type": "markdown",
      "source": [
        "D3.js is used to create a static SVG chart. It helps to draw the following charts −\n",
        "\n",
        "* Bar Chart\n",
        "* Circle Chart\n",
        "* Pie Chart\n",
        "* Donut Chart\n",
        "* Line Chart\n",
        "* Bubble Chart, etc."
      ],
      "metadata": {
        "id": "DtzwL9RlaY5N"
      }
    },
    {
      "cell_type": "code",
      "source": [
        "%%html\n",
        "<html>\n",
        "   <head>\n",
        "      <script type = \"text/javascript\" src = \"https://d3js.org/d3.v4.min.js\"></script>\n",
        "   </head>\n",
        "\n",
        "   <body>\n",
        "      <script>\n",
        "         var width = 350;\n",
        "\n",
        "         var height = 350;\n",
        "\n",
        "         var data = [20, 30, 35];\n",
        "\n",
        "         var colors = ['green', 'purple', 'yellow'];\n",
        "\n",
        "         var svg = d3\n",
        "            .select(\"body\")\n",
        "            .append(\"svg\")\n",
        "            .attr(\"width\", width)\n",
        "            .attr(\"height\", height);\n",
        "\n",
        "         var g = svg.selectAll(\"g\")\n",
        "            .data(data)\n",
        "            .enter()\n",
        "            .append(\"g\")\n",
        "            .attr(\"transform\", function(d, i) {\n",
        "               return \"translate(0,0)\";\n",
        "            })\n",
        "\n",
        "         g.append(\"circle\").attr(\"cx\", function(d, i) {\n",
        "            return i*90 + 50;\n",
        "         })\n",
        "\n",
        "         .attr(\"cy\", function(d, i) {\n",
        "            return 75;\n",
        "         })\n",
        "\n",
        "         .attr(\"r\", function(d) {\n",
        "            return d*1.5;\n",
        "         })\n",
        "\n",
        "         .attr(\"fill\", function(d, i){\n",
        "            return colors[i];\n",
        "         })\n",
        "\n",
        "         g.append(\"text\").attr(\"x\", function(d, i) {\n",
        "            return i * 90 + 25;\n",
        "         })\n",
        "\n",
        "         .attr(\"y\", 80)\n",
        "         .attr(\"stroke\", \"teal\")\n",
        "         .attr(\"font-size\", \"10px\")\n",
        "         .attr(\"font-family\", \"sans-serif\").text(function(d) {\n",
        "            return d;\n",
        "         });\n",
        "      </script>\n",
        "   </body>\n",
        "</html>"
      ],
      "metadata": {
        "colab": {
          "base_uri": "https://localhost:8080/",
          "height": 371
        },
        "id": "T9rIa_uLZS2a",
        "outputId": "fe981b63-bef9-4924-c043-0e6c8a8181a4"
      },
      "execution_count": 40,
      "outputs": [
        {
          "output_type": "display_data",
          "data": {
            "text/plain": [
              "<IPython.core.display.HTML object>"
            ],
            "text/html": [
              "<html>\n",
              "   <head>\n",
              "      <script type = \"text/javascript\" src = \"https://d3js.org/d3.v4.min.js\"></script>\n",
              "   </head>\n",
              "\n",
              "   <body>\n",
              "      <script>\n",
              "         var width = 350;\n",
              "         \n",
              "         var height = 350;\n",
              "         \n",
              "         var data = [20, 30, 35];\n",
              "         \n",
              "         var colors = ['green', 'purple', 'yellow'];\n",
              "         \n",
              "         var svg = d3\n",
              "            .select(\"body\")\n",
              "            .append(\"svg\")\n",
              "            .attr(\"width\", width)\n",
              "            .attr(\"height\", height);\n",
              "         \n",
              "         var g = svg.selectAll(\"g\")\n",
              "            .data(data)\n",
              "            .enter()\n",
              "            .append(\"g\")\n",
              "            .attr(\"transform\", function(d, i) {\n",
              "               return \"translate(0,0)\";\n",
              "            })\n",
              "         \n",
              "         g.append(\"circle\").attr(\"cx\", function(d, i) {\n",
              "            return i*90 + 50;\n",
              "         })\n",
              "         \n",
              "         .attr(\"cy\", function(d, i) {\n",
              "            return 75;\n",
              "         })\n",
              "  \n",
              "         .attr(\"r\", function(d) {\n",
              "            return d*1.5;\n",
              "         })\n",
              "         \n",
              "         .attr(\"fill\", function(d, i){\n",
              "            return colors[i];\n",
              "         })\n",
              "         \n",
              "         g.append(\"text\").attr(\"x\", function(d, i) {\n",
              "            return i * 90 + 25;\n",
              "         })\n",
              "         \n",
              "         .attr(\"y\", 80)\n",
              "         .attr(\"stroke\", \"teal\")\n",
              "         .attr(\"font-size\", \"10px\")\n",
              "         .attr(\"font-family\", \"sans-serif\").text(function(d) {\n",
              "            return d;\n",
              "         });\n",
              "      </script>\n",
              "   </body>\n",
              "</html>\n"
            ]
          },
          "metadata": {}
        }
      ]
    },
    {
      "cell_type": "code",
      "source": [
        "%%html\n",
        "<!DOCTYPE html>\n",
        "<html lang=\"en\">\n",
        "<head>\n",
        "  <meta charset=\"UTF-8\">\n",
        "  <meta name=\"viewport\" content=\"width=device-width, initial-scale=1.0\">\n",
        "  <title>D3.js Map Example</title>\n",
        "  <script src=\"https://d3js.org/d3.v7.min.js\"></script>\n",
        "  <style>\n",
        "    svg {\n",
        "      width: 100%;\n",
        "      height: auto;\n",
        "    }\n",
        "  </style>\n",
        "</head>\n",
        "<body>\n",
        "  <svg id=\"map\"></svg>\n",
        "\n",
        "  <script>\n",
        "    // Width and height of the SVG container\n",
        "    const width = 800;\n",
        "    const height = 600;\n",
        "\n",
        "    // Create SVG element\n",
        "    const svg = d3.select(\"#map\")\n",
        "                  .attr(\"width\", width)\n",
        "                  .attr(\"height\", height);\n",
        "\n",
        "    // Define projection and path generator\n",
        "    const projection = d3.geoMercator()\n",
        "                         .center([0, 5])\n",
        "                         .scale(150)\n",
        "                         .rotate([-180,0]);\n",
        "\n",
        "    const path = d3.geoPath().projection(projection);\n",
        "\n",
        "    // Load GeoJSON data\n",
        "    d3.json(\"/content/india.topo.json\").then(function(world) {\n",
        "      // Draw map\n",
        "      svg.selectAll(\"path\")\n",
        "         .data(world.features)\n",
        "         .enter().append(\"path\")\n",
        "         .attr(\"d\", path)\n",
        "         .attr(\"fill\", \"lightblue\")\n",
        "         .attr(\"stroke\", \"black\");\n",
        "    }).catch(function(error) {\n",
        "      console.log(error);\n",
        "    });\n",
        "  </script>\n",
        "</body>\n",
        "</html>"
      ],
      "metadata": {
        "colab": {
          "resources": {
            "http://localhost:8080/content/india.topo.json": {
              "data": "CjwhRE9DVFlQRSBodG1sPgo8aHRtbCBsYW5nPWVuPgogIDxtZXRhIGNoYXJzZXQ9dXRmLTg+CiAgPG1ldGEgbmFtZT12aWV3cG9ydCBjb250ZW50PSJpbml0aWFsLXNjYWxlPTEsIG1pbmltdW0tc2NhbGU9MSwgd2lkdGg9ZGV2aWNlLXdpZHRoIj4KICA8dGl0bGU+RXJyb3IgNDA0IChOb3QgRm91bmQpISExPC90aXRsZT4KICA8c3R5bGU+CiAgICAqe21hcmdpbjowO3BhZGRpbmc6MH1odG1sLGNvZGV7Zm9udDoxNXB4LzIycHggYXJpYWwsc2Fucy1zZXJpZn1odG1se2JhY2tncm91bmQ6I2ZmZjtjb2xvcjojMjIyO3BhZGRpbmc6MTVweH1ib2R5e21hcmdpbjo3JSBhdXRvIDA7bWF4LXdpZHRoOjM5MHB4O21pbi1oZWlnaHQ6MTgwcHg7cGFkZGluZzozMHB4IDAgMTVweH0qID4gYm9keXtiYWNrZ3JvdW5kOnVybCgvL3d3dy5nb29nbGUuY29tL2ltYWdlcy9lcnJvcnMvcm9ib3QucG5nKSAxMDAlIDVweCBuby1yZXBlYXQ7cGFkZGluZy1yaWdodDoyMDVweH1we21hcmdpbjoxMXB4IDAgMjJweDtvdmVyZmxvdzpoaWRkZW59aW5ze2NvbG9yOiM3Nzc7dGV4dC1kZWNvcmF0aW9uOm5vbmV9YSBpbWd7Ym9yZGVyOjB9QG1lZGlhIHNjcmVlbiBhbmQgKG1heC13aWR0aDo3NzJweCl7Ym9keXtiYWNrZ3JvdW5kOm5vbmU7bWFyZ2luLXRvcDowO21heC13aWR0aDpub25lO3BhZGRpbmctcmlnaHQ6MH19I2xvZ297YmFja2dyb3VuZDp1cmwoLy93d3cuZ29vZ2xlLmNvbS9pbWFnZXMvbG9nb3MvZXJyb3JwYWdlL2Vycm9yX2xvZ28tMTUweDU0LnBuZykgbm8tcmVwZWF0O21hcmdpbi1sZWZ0Oi01cHh9QG1lZGlhIG9ubHkgc2NyZWVuIGFuZCAobWluLXJlc29sdXRpb246MTkyZHBpKXsjbG9nb3tiYWNrZ3JvdW5kOnVybCgvL3d3dy5nb29nbGUuY29tL2ltYWdlcy9sb2dvcy9lcnJvcnBhZ2UvZXJyb3JfbG9nby0xNTB4NTQtMngucG5nKSBuby1yZXBlYXQgMCUgMCUvMTAwJSAxMDAlOy1tb3otYm9yZGVyLWltYWdlOnVybCgvL3d3dy5nb29nbGUuY29tL2ltYWdlcy9sb2dvcy9lcnJvcnBhZ2UvZXJyb3JfbG9nby0xNTB4NTQtMngucG5nKSAwfX1AbWVkaWEgb25seSBzY3JlZW4gYW5kICgtd2Via2l0LW1pbi1kZXZpY2UtcGl4ZWwtcmF0aW86Mil7I2xvZ297YmFja2dyb3VuZDp1cmwoLy93d3cuZ29vZ2xlLmNvbS9pbWFnZXMvbG9nb3MvZXJyb3JwYWdlL2Vycm9yX2xvZ28tMTUweDU0LTJ4LnBuZykgbm8tcmVwZWF0Oy13ZWJraXQtYmFja2dyb3VuZC1zaXplOjEwMCUgMTAwJX19I2xvZ297ZGlzcGxheTppbmxpbmUtYmxvY2s7aGVpZ2h0OjU0cHg7d2lkdGg6MTUwcHh9CiAgPC9zdHlsZT4KICA8YSBocmVmPS8vd3d3Lmdvb2dsZS5jb20vPjxzcGFuIGlkPWxvZ28gYXJpYS1sYWJlbD1Hb29nbGU+PC9zcGFuPjwvYT4KICA8cD48Yj40MDQuPC9iPiA8aW5zPlRoYXTigJlzIGFuIGVycm9yLjwvaW5zPgogIDxwPiAgPGlucz5UaGF04oCZcyBhbGwgd2Uga25vdy48L2lucz4K",
              "ok": false,
              "headers": [
                [
                  "content-length",
                  "1449"
                ],
                [
                  "content-type",
                  "text/html; charset=utf-8"
                ]
              ],
              "status": 404,
              "status_text": ""
            }
          },
          "base_uri": "https://localhost:8080/",
          "height": 1000
        },
        "id": "QH87Bm-xaoeV",
        "outputId": "5da4c0d7-b6fa-4737-850b-91aef622157e"
      },
      "execution_count": 47,
      "outputs": [
        {
          "output_type": "display_data",
          "data": {
            "text/plain": [
              "<IPython.core.display.HTML object>"
            ],
            "text/html": [
              "<!DOCTYPE html>\n",
              "<html lang=\"en\">\n",
              "<head>\n",
              "  <meta charset=\"UTF-8\">\n",
              "  <meta name=\"viewport\" content=\"width=device-width, initial-scale=1.0\">\n",
              "  <title>D3.js Map Example</title>\n",
              "  <script src=\"https://d3js.org/d3.v7.min.js\"></script>\n",
              "  <style>\n",
              "    svg {\n",
              "      width: 100%;\n",
              "      height: auto;\n",
              "    }\n",
              "  </style>\n",
              "</head>\n",
              "<body>\n",
              "  <svg id=\"map\"></svg>\n",
              "\n",
              "  <script>\n",
              "    // Width and height of the SVG container\n",
              "    const width = 800;\n",
              "    const height = 600;\n",
              "\n",
              "    // Create SVG element\n",
              "    const svg = d3.select(\"#map\")\n",
              "                  .attr(\"width\", width)\n",
              "                  .attr(\"height\", height);\n",
              "\n",
              "    // Define projection and path generator\n",
              "    const projection = d3.geoMercator()\n",
              "                         .center([0, 5])\n",
              "                         .scale(150)\n",
              "                         .rotate([-180,0]);\n",
              "    \n",
              "    const path = d3.geoPath().projection(projection);\n",
              "\n",
              "    // Load GeoJSON data\n",
              "    d3.json(\"/content/india.topo.json\").then(function(world) {\n",
              "      // Draw map\n",
              "      svg.selectAll(\"path\")\n",
              "         .data(world.features)\n",
              "         .enter().append(\"path\")\n",
              "         .attr(\"d\", path)\n",
              "         .attr(\"fill\", \"lightblue\")\n",
              "         .attr(\"stroke\", \"black\");\n",
              "    }).catch(function(error) {\n",
              "      console.log(error);\n",
              "    });\n",
              "  </script>\n",
              "</body>\n",
              "</html>\n"
            ]
          },
          "metadata": {}
        }
      ]
    },
    {
      "cell_type": "code",
      "source": [
        "%%html\n",
        "<!DOCTYPE html>\n",
        "<html lang=\"en\">\n",
        "<head>\n",
        "  <meta charset=\"UTF-8\">\n",
        "  <meta name=\"viewport\" content=\"width=device-width, initial-scale=1.0\">\n",
        "  <title>D3.js Map Example</title>\n",
        "  <script src=\"https://d3js.org/d3.v7.min.js\"></script>\n",
        "  <style>\n",
        "    svg {\n",
        "      width: 100%;\n",
        "      height: auto;\n",
        "    }\n",
        "  </style>\n",
        "</head>\n",
        "<body>\n",
        "  <svg id=\"map\"></svg>\n",
        "\n",
        "  <script>\n",
        "    // Width and height of the SVG container\n",
        "    const width = 800;\n",
        "    const height = 600;\n",
        "\n",
        "    // Create SVG element\n",
        "    const svg = d3.select(\"#map\")\n",
        "                  .attr(\"width\", width)\n",
        "                  .attr(\"height\", height);\n",
        "\n",
        "    // Define projection and path generator\n",
        "    const projection = d3.geoMercator()\n",
        "                         .center([0, 20])\n",
        "                         .scale(600)\n",
        "                         .translate([width / 2, height / 2]);\n",
        "\n",
        "    const path = d3.geoPath().projection(projection);\n",
        "\n",
        "    // Load GeoJSON data\n",
        "    d3.json(\"/content/india.topo.json\").then(function(india) {\n",
        "      // Draw map\n",
        "      svg.selectAll(\"path\")\n",
        "         .data(topojson.feature(india, india.objects.india).features)\n",
        "         .enter().append(\"path\")\n",
        "         .attr(\"d\", path)\n",
        "         .attr(\"fill\", \"lightblue\")\n",
        "         .attr(\"stroke\", \"black\");\n",
        "    }).catch(function(error) {\n",
        "      console.log(error);\n",
        "    });\n",
        "  </script>\n",
        "</body>\n",
        "</html>\n"
      ],
      "metadata": {
        "colab": {
          "resources": {
            "http://localhost:8080/content/india.topo.json": {
              "data": "CjwhRE9DVFlQRSBodG1sPgo8aHRtbCBsYW5nPWVuPgogIDxtZXRhIGNoYXJzZXQ9dXRmLTg+CiAgPG1ldGEgbmFtZT12aWV3cG9ydCBjb250ZW50PSJpbml0aWFsLXNjYWxlPTEsIG1pbmltdW0tc2NhbGU9MSwgd2lkdGg9ZGV2aWNlLXdpZHRoIj4KICA8dGl0bGU+RXJyb3IgNDA0IChOb3QgRm91bmQpISExPC90aXRsZT4KICA8c3R5bGU+CiAgICAqe21hcmdpbjowO3BhZGRpbmc6MH1odG1sLGNvZGV7Zm9udDoxNXB4LzIycHggYXJpYWwsc2Fucy1zZXJpZn1odG1se2JhY2tncm91bmQ6I2ZmZjtjb2xvcjojMjIyO3BhZGRpbmc6MTVweH1ib2R5e21hcmdpbjo3JSBhdXRvIDA7bWF4LXdpZHRoOjM5MHB4O21pbi1oZWlnaHQ6MTgwcHg7cGFkZGluZzozMHB4IDAgMTVweH0qID4gYm9keXtiYWNrZ3JvdW5kOnVybCgvL3d3dy5nb29nbGUuY29tL2ltYWdlcy9lcnJvcnMvcm9ib3QucG5nKSAxMDAlIDVweCBuby1yZXBlYXQ7cGFkZGluZy1yaWdodDoyMDVweH1we21hcmdpbjoxMXB4IDAgMjJweDtvdmVyZmxvdzpoaWRkZW59aW5ze2NvbG9yOiM3Nzc7dGV4dC1kZWNvcmF0aW9uOm5vbmV9YSBpbWd7Ym9yZGVyOjB9QG1lZGlhIHNjcmVlbiBhbmQgKG1heC13aWR0aDo3NzJweCl7Ym9keXtiYWNrZ3JvdW5kOm5vbmU7bWFyZ2luLXRvcDowO21heC13aWR0aDpub25lO3BhZGRpbmctcmlnaHQ6MH19I2xvZ297YmFja2dyb3VuZDp1cmwoLy93d3cuZ29vZ2xlLmNvbS9pbWFnZXMvbG9nb3MvZXJyb3JwYWdlL2Vycm9yX2xvZ28tMTUweDU0LnBuZykgbm8tcmVwZWF0O21hcmdpbi1sZWZ0Oi01cHh9QG1lZGlhIG9ubHkgc2NyZWVuIGFuZCAobWluLXJlc29sdXRpb246MTkyZHBpKXsjbG9nb3tiYWNrZ3JvdW5kOnVybCgvL3d3dy5nb29nbGUuY29tL2ltYWdlcy9sb2dvcy9lcnJvcnBhZ2UvZXJyb3JfbG9nby0xNTB4NTQtMngucG5nKSBuby1yZXBlYXQgMCUgMCUvMTAwJSAxMDAlOy1tb3otYm9yZGVyLWltYWdlOnVybCgvL3d3dy5nb29nbGUuY29tL2ltYWdlcy9sb2dvcy9lcnJvcnBhZ2UvZXJyb3JfbG9nby0xNTB4NTQtMngucG5nKSAwfX1AbWVkaWEgb25seSBzY3JlZW4gYW5kICgtd2Via2l0LW1pbi1kZXZpY2UtcGl4ZWwtcmF0aW86Mil7I2xvZ297YmFja2dyb3VuZDp1cmwoLy93d3cuZ29vZ2xlLmNvbS9pbWFnZXMvbG9nb3MvZXJyb3JwYWdlL2Vycm9yX2xvZ28tMTUweDU0LTJ4LnBuZykgbm8tcmVwZWF0Oy13ZWJraXQtYmFja2dyb3VuZC1zaXplOjEwMCUgMTAwJX19I2xvZ297ZGlzcGxheTppbmxpbmUtYmxvY2s7aGVpZ2h0OjU0cHg7d2lkdGg6MTUwcHh9CiAgPC9zdHlsZT4KICA8YSBocmVmPS8vd3d3Lmdvb2dsZS5jb20vPjxzcGFuIGlkPWxvZ28gYXJpYS1sYWJlbD1Hb29nbGU+PC9zcGFuPjwvYT4KICA8cD48Yj40MDQuPC9iPiA8aW5zPlRoYXTigJlzIGFuIGVycm9yLjwvaW5zPgogIDxwPiAgPGlucz5UaGF04oCZcyBhbGwgd2Uga25vdy48L2lucz4K",
              "ok": false,
              "headers": [
                [
                  "content-length",
                  "1449"
                ],
                [
                  "content-type",
                  "text/html; charset=utf-8"
                ]
              ],
              "status": 404,
              "status_text": ""
            }
          },
          "base_uri": "https://localhost:8080/",
          "height": 1000
        },
        "id": "JhFhay7qcVRI",
        "outputId": "4ef28dce-ec58-4c3c-f95b-d27ddc847d55"
      },
      "execution_count": 49,
      "outputs": [
        {
          "output_type": "display_data",
          "data": {
            "text/plain": [
              "<IPython.core.display.HTML object>"
            ],
            "text/html": [
              "<!DOCTYPE html>\n",
              "<html lang=\"en\">\n",
              "<head>\n",
              "  <meta charset=\"UTF-8\">\n",
              "  <meta name=\"viewport\" content=\"width=device-width, initial-scale=1.0\">\n",
              "  <title>D3.js Map Example</title>\n",
              "  <script src=\"https://d3js.org/d3.v7.min.js\"></script>\n",
              "  <style>\n",
              "    svg {\n",
              "      width: 100%;\n",
              "      height: auto;\n",
              "    }\n",
              "  </style>\n",
              "</head>\n",
              "<body>\n",
              "  <svg id=\"map\"></svg>\n",
              "\n",
              "  <script>\n",
              "    // Width and height of the SVG container\n",
              "    const width = 800;\n",
              "    const height = 600;\n",
              "\n",
              "    // Create SVG element\n",
              "    const svg = d3.select(\"#map\")\n",
              "                  .attr(\"width\", width)\n",
              "                  .attr(\"height\", height);\n",
              "\n",
              "    // Define projection and path generator\n",
              "    const projection = d3.geoMercator()\n",
              "                         .center([0, 20])\n",
              "                         .scale(600)\n",
              "                         .translate([width / 2, height / 2]);\n",
              "    \n",
              "    const path = d3.geoPath().projection(projection);\n",
              "\n",
              "    // Load GeoJSON data\n",
              "    d3.json(\"/content/india.topo.json\").then(function(india) {\n",
              "      // Draw map\n",
              "      svg.selectAll(\"path\")\n",
              "         .data(topojson.feature(india, india.objects.india).features)\n",
              "         .enter().append(\"path\")\n",
              "         .attr(\"d\", path)\n",
              "         .attr(\"fill\", \"lightblue\")\n",
              "         .attr(\"stroke\", \"black\");\n",
              "    }).catch(function(error) {\n",
              "      console.log(error);\n",
              "    });\n",
              "  </script>\n",
              "</body>\n",
              "</html>\n"
            ]
          },
          "metadata": {}
        }
      ]
    },
    {
      "cell_type": "code",
      "source": [
        "%%html\n",
        "<html>\n",
        "   <head>\n",
        "      <script type = \"text/javascript\" src = \"https://d3js.org/d3.v4.min.js\"></script>\n",
        "   </head>\n",
        "\n",
        "   <body>\n",
        "      <h3>D3 collection API</h3>\n",
        "      <script>\n",
        "         var month = {\"jan\": 1, \"Feb\": 2, \"mar\": 3, \"apr\": 4};\n",
        "         console.log(d3.keys(month));\n",
        "         console.log(d3.values(month));\n",
        "         console.log(d3.entries(month));\n",
        "      </script>\n",
        "   </body>\n",
        "</html>"
      ],
      "metadata": {
        "colab": {
          "base_uri": "https://localhost:8080/",
          "height": 58
        },
        "id": "hb7_Knu6eEeX",
        "outputId": "bde843c2-8917-4f0d-f4cc-c1217719f618"
      },
      "execution_count": 50,
      "outputs": [
        {
          "output_type": "display_data",
          "data": {
            "text/plain": [
              "<IPython.core.display.HTML object>"
            ],
            "text/html": [
              "<html>\n",
              "   <head>\n",
              "      <script type = \"text/javascript\" src = \"https://d3js.org/d3.v4.min.js\"></script>\n",
              "   </head>\n",
              "\n",
              "   <body>\n",
              "      <h3>D3 collection API</h3>\n",
              "      <script>\n",
              "         var month = {\"jan\": 1, \"Feb\": 2, \"mar\": 3, \"apr\": 4};\n",
              "         console.log(d3.keys(month));\n",
              "         console.log(d3.values(month));\n",
              "         console.log(d3.entries(month));\n",
              "      </script>\n",
              "   </body>\n",
              "</html>\n"
            ]
          },
          "metadata": {}
        }
      ]
    },
    {
      "cell_type": "code",
      "source": [
        "%%html\n",
        "<!DOCTYPE html>\n",
        "<meta charset = \"UTF-8\">\n",
        "   <head>\n",
        "      <title>SVG path line Generator</title>\n",
        "   </head>\n",
        "\n",
        "   <style>\n",
        "      path {\n",
        "         fill: green;\n",
        "         stroke: #aaa;\n",
        "      }\n",
        "   </style>\n",
        "\n",
        "   <body>\n",
        "      <svg width = \"600\" height = \"100\">\n",
        "         <path transform = \"translate(200, 0)\" />\n",
        "      </svg>\n",
        "\n",
        "      <script src = \"https://d3js.org/d3.v4.min.js\"></script>\n",
        "      <script>\n",
        "         var data = [[0, 20], [50, 30], [100, 50], [200, 60], [300, 90]];\n",
        "         var lineGenerator = d3.line();\n",
        "         var pathString = lineGenerator(data);\n",
        "         d3.select('path').attr('d', pathString);\n",
        "      </script>\n",
        "   </body>\n",
        "</html>"
      ],
      "metadata": {
        "colab": {
          "base_uri": "https://localhost:8080/",
          "height": 121
        },
        "id": "xiX8Dk0EeUji",
        "outputId": "5d328177-6ea8-416e-f313-eee4b7a26170"
      },
      "execution_count": 52,
      "outputs": [
        {
          "output_type": "display_data",
          "data": {
            "text/plain": [
              "<IPython.core.display.HTML object>"
            ],
            "text/html": [
              "<!DOCTYPE html>\n",
              "<meta charset = \"UTF-8\">\n",
              "   <head>\n",
              "      <title>SVG path line Generator</title>\n",
              "   </head>\n",
              "\n",
              "   <style>\n",
              "      path {\n",
              "         fill: green;\n",
              "         stroke: #aaa;\n",
              "      }\n",
              "   </style>\n",
              "   \n",
              "   <body>\n",
              "      <svg width = \"600\" height = \"100\">\n",
              "         <path transform = \"translate(200, 0)\" />\n",
              "      </svg>\n",
              "      \n",
              "      <script src = \"https://d3js.org/d3.v4.min.js\"></script>\n",
              "      <script>\n",
              "         var data = [[0, 20], [50, 30], [100, 50], [200, 60], [300, 90]];\n",
              "         var lineGenerator = d3.line();\n",
              "         var pathString = lineGenerator(data);\n",
              "         d3.select('path').attr('d', pathString);\n",
              "      </script>\n",
              "   </body>\n",
              "</html>\n"
            ]
          },
          "metadata": {}
        }
      ]
    },
    {
      "cell_type": "code",
      "source": [
        "%%html\n",
        "<!DOCTYPE html>\n",
        "<html lang=\"en\">\n",
        "<head>\n",
        "  <meta charset=\"UTF-8\">\n",
        "  <meta name=\"viewport\" content=\"width=device-width, initial-scale=1.0\">\n",
        "  <title>D3 Zoom Example</title>\n",
        "  <script src=\"https://d3js.org/d3.v7.min.js\"></script>\n",
        "</head>\n",
        "<body>\n",
        "\n",
        "<div id=\"chart-container\"></div>\n",
        "\n",
        "<script>\n",
        "// Define the dimensions of the SVG canvas\n",
        "const width = 600;\n",
        "const height = 400;\n",
        "\n",
        "// Create SVG element\n",
        "const svg = d3.select(\"#chart-container\")\n",
        "  .append(\"svg\")\n",
        "  .attr(\"width\", width)\n",
        "  .attr(\"height\", height)\n",
        "  .style(\"border\", \"1px solid black\");\n",
        "\n",
        "// Create a rectangle inside the SVG\n",
        "svg.append(\"rect\")\n",
        "  .attr(\"width\", 200)\n",
        "  .attr(\"height\", 100)\n",
        "  .attr(\"fill\", \"lightblue\")\n",
        "  .attr(\"x\", 50)\n",
        "  .attr(\"y\", 50);\n",
        "\n",
        "// Define the zoom behavior\n",
        "const zoom = d3.zoom()\n",
        "  .scaleExtent([1, 8]) // Limit zoom scale\n",
        "  .on(\"zoom\", zoomed);\n",
        "\n",
        "// Apply zoom behavior to the SVG\n",
        "svg.call(zoom);\n",
        "\n",
        "// Function to handle zoom event\n",
        "function zoomed(event) {\n",
        "  // Update transform of SVG group element\n",
        "  svg.attr(\"transform\", event.transform);\n",
        "}\n",
        "\n",
        "</script>\n",
        "\n",
        "</body>\n",
        "</html>\n"
      ],
      "metadata": {
        "colab": {
          "base_uri": "https://localhost:8080/",
          "height": 461
        },
        "id": "_AAOKaDpeb8c",
        "outputId": "36430475-c111-4290-87b8-8a84b400302b"
      },
      "execution_count": 55,
      "outputs": [
        {
          "output_type": "display_data",
          "data": {
            "text/plain": [
              "<IPython.core.display.HTML object>"
            ],
            "text/html": [
              "<!DOCTYPE html>\n",
              "<html lang=\"en\">\n",
              "<head>\n",
              "  <meta charset=\"UTF-8\">\n",
              "  <meta name=\"viewport\" content=\"width=device-width, initial-scale=1.0\">\n",
              "  <title>D3 Zoom Example</title>\n",
              "  <script src=\"https://d3js.org/d3.v7.min.js\"></script>\n",
              "</head>\n",
              "<body>\n",
              "\n",
              "<div id=\"chart-container\"></div>\n",
              "\n",
              "<script>\n",
              "// Define the dimensions of the SVG canvas\n",
              "const width = 600;\n",
              "const height = 400;\n",
              "\n",
              "// Create SVG element\n",
              "const svg = d3.select(\"#chart-container\")\n",
              "  .append(\"svg\")\n",
              "  .attr(\"width\", width)\n",
              "  .attr(\"height\", height)\n",
              "  .style(\"border\", \"1px solid black\");\n",
              "\n",
              "// Create a rectangle inside the SVG\n",
              "svg.append(\"rect\")\n",
              "  .attr(\"width\", 200)\n",
              "  .attr(\"height\", 100)\n",
              "  .attr(\"fill\", \"lightblue\")\n",
              "  .attr(\"x\", 50)\n",
              "  .attr(\"y\", 50);\n",
              "\n",
              "// Define the zoom behavior\n",
              "const zoom = d3.zoom()\n",
              "  .scaleExtent([1, 8]) // Limit zoom scale\n",
              "  .on(\"zoom\", zoomed);\n",
              "\n",
              "// Apply zoom behavior to the SVG\n",
              "svg.call(zoom);\n",
              "\n",
              "// Function to handle zoom event\n",
              "function zoomed(event) {\n",
              "  // Update transform of SVG group element\n",
              "  svg.attr(\"transform\", event.transform);\n",
              "}\n",
              "\n",
              "</script>\n",
              "\n",
              "</body>\n",
              "</html>\n"
            ]
          },
          "metadata": {}
        }
      ]
    },
    {
      "cell_type": "markdown",
      "source": [
        "XMLHttpRequest\n",
        "XMLHttpRequest is the built-in http client to emulate the browser XMLHttpRequest object. It can be used with JS designed for browsers to improve reuse of code and allow the use of existing libraries."
      ],
      "metadata": {
        "id": "iyIDHyShf3G3"
      }
    },
    {
      "cell_type": "code",
      "source": [
        "%%html\n",
        "<!DOCTYPE html>\n",
        "<html>\n",
        "   <head>\n",
        "      <script type = \"text/javascript\" src = \"https://d3js.org/d3.v4.min.js\"></script>\n",
        "   </head>\n",
        "\n",
        "   <body>\n",
        "      <h3> D3.js Requests API </h3>\n",
        "      <script>\n",
        "         d3.csv(\"/content/india.topo.json\", function(data) {\n",
        "            console.log(data);\n",
        "         });\n",
        "      </script>\n",
        "   </body>\n",
        "</html>"
      ],
      "metadata": {
        "colab": {
          "resources": {
            "http://localhost:8080/content/india.topo.json": {
              "data": "CjwhRE9DVFlQRSBodG1sPgo8aHRtbCBsYW5nPWVuPgogIDxtZXRhIGNoYXJzZXQ9dXRmLTg+CiAgPG1ldGEgbmFtZT12aWV3cG9ydCBjb250ZW50PSJpbml0aWFsLXNjYWxlPTEsIG1pbmltdW0tc2NhbGU9MSwgd2lkdGg9ZGV2aWNlLXdpZHRoIj4KICA8dGl0bGU+RXJyb3IgNDA0IChOb3QgRm91bmQpISExPC90aXRsZT4KICA8c3R5bGU+CiAgICAqe21hcmdpbjowO3BhZGRpbmc6MH1odG1sLGNvZGV7Zm9udDoxNXB4LzIycHggYXJpYWwsc2Fucy1zZXJpZn1odG1se2JhY2tncm91bmQ6I2ZmZjtjb2xvcjojMjIyO3BhZGRpbmc6MTVweH1ib2R5e21hcmdpbjo3JSBhdXRvIDA7bWF4LXdpZHRoOjM5MHB4O21pbi1oZWlnaHQ6MTgwcHg7cGFkZGluZzozMHB4IDAgMTVweH0qID4gYm9keXtiYWNrZ3JvdW5kOnVybCgvL3d3dy5nb29nbGUuY29tL2ltYWdlcy9lcnJvcnMvcm9ib3QucG5nKSAxMDAlIDVweCBuby1yZXBlYXQ7cGFkZGluZy1yaWdodDoyMDVweH1we21hcmdpbjoxMXB4IDAgMjJweDtvdmVyZmxvdzpoaWRkZW59aW5ze2NvbG9yOiM3Nzc7dGV4dC1kZWNvcmF0aW9uOm5vbmV9YSBpbWd7Ym9yZGVyOjB9QG1lZGlhIHNjcmVlbiBhbmQgKG1heC13aWR0aDo3NzJweCl7Ym9keXtiYWNrZ3JvdW5kOm5vbmU7bWFyZ2luLXRvcDowO21heC13aWR0aDpub25lO3BhZGRpbmctcmlnaHQ6MH19I2xvZ297YmFja2dyb3VuZDp1cmwoLy93d3cuZ29vZ2xlLmNvbS9pbWFnZXMvbG9nb3MvZXJyb3JwYWdlL2Vycm9yX2xvZ28tMTUweDU0LnBuZykgbm8tcmVwZWF0O21hcmdpbi1sZWZ0Oi01cHh9QG1lZGlhIG9ubHkgc2NyZWVuIGFuZCAobWluLXJlc29sdXRpb246MTkyZHBpKXsjbG9nb3tiYWNrZ3JvdW5kOnVybCgvL3d3dy5nb29nbGUuY29tL2ltYWdlcy9sb2dvcy9lcnJvcnBhZ2UvZXJyb3JfbG9nby0xNTB4NTQtMngucG5nKSBuby1yZXBlYXQgMCUgMCUvMTAwJSAxMDAlOy1tb3otYm9yZGVyLWltYWdlOnVybCgvL3d3dy5nb29nbGUuY29tL2ltYWdlcy9sb2dvcy9lcnJvcnBhZ2UvZXJyb3JfbG9nby0xNTB4NTQtMngucG5nKSAwfX1AbWVkaWEgb25seSBzY3JlZW4gYW5kICgtd2Via2l0LW1pbi1kZXZpY2UtcGl4ZWwtcmF0aW86Mil7I2xvZ297YmFja2dyb3VuZDp1cmwoLy93d3cuZ29vZ2xlLmNvbS9pbWFnZXMvbG9nb3MvZXJyb3JwYWdlL2Vycm9yX2xvZ28tMTUweDU0LTJ4LnBuZykgbm8tcmVwZWF0Oy13ZWJraXQtYmFja2dyb3VuZC1zaXplOjEwMCUgMTAwJX19I2xvZ297ZGlzcGxheTppbmxpbmUtYmxvY2s7aGVpZ2h0OjU0cHg7d2lkdGg6MTUwcHh9CiAgPC9zdHlsZT4KICA8YSBocmVmPS8vd3d3Lmdvb2dsZS5jb20vPjxzcGFuIGlkPWxvZ28gYXJpYS1sYWJlbD1Hb29nbGU+PC9zcGFuPjwvYT4KICA8cD48Yj40MDQuPC9iPiA8aW5zPlRoYXTigJlzIGFuIGVycm9yLjwvaW5zPgogIDxwPiAgPGlucz5UaGF04oCZcyBhbGwgd2Uga25vdy48L2lucz4K",
              "ok": false,
              "headers": [
                [
                  "content-length",
                  "1449"
                ],
                [
                  "content-type",
                  "text/html; charset=utf-8"
                ]
              ],
              "status": 404,
              "status_text": ""
            }
          },
          "base_uri": "https://localhost:8080/",
          "height": 58
        },
        "id": "j0F1zakYfaOG",
        "outputId": "513e6aba-0299-4084-f7a2-f1de3e05f531"
      },
      "execution_count": 58,
      "outputs": [
        {
          "output_type": "display_data",
          "data": {
            "text/plain": [
              "<IPython.core.display.HTML object>"
            ],
            "text/html": [
              "<!DOCTYPE html>\n",
              "<html>\n",
              "   <head>\n",
              "      <script type = \"text/javascript\" src = \"https://d3js.org/d3.v4.min.js\"></script>\n",
              "   </head>\n",
              "\n",
              "   <body>\n",
              "      <h3> D3.js Requests API </h3>\n",
              "      <script>\n",
              "         d3.csv(\"/content/india.topo.json\", function(data) {\n",
              "            console.log(data); \n",
              "         });\n",
              "      </script>\n",
              "   </body>\n",
              "</html>\n"
            ]
          },
          "metadata": {}
        }
      ]
    },
    {
      "cell_type": "markdown",
      "source": [
        "Timer API module is used to perform the concurrent animations with synchronized timing delay. It uses requestAnimationFrame for animation. This chapter explains Timer API module in detail."
      ],
      "metadata": {
        "id": "wp2BGoSlgD4V"
      }
    },
    {
      "cell_type": "code",
      "source": [
        "%%html\n",
        "<!DOCTYPE html>\n",
        "<html>\n",
        "   <head>\n",
        "      <script type = \"text/javascript\" src = \"https://d3js.org/d3.v4.min.js\"></script>\n",
        "   </head>\n",
        "\n",
        "   <body>\n",
        "      <h3> Timer API </h3>\n",
        "      <script>\n",
        "         var timer = d3.timer(function(duration) {\n",
        "            console.log(duration);\n",
        "            if (duration > 150) timer.stop();\n",
        "         }, 100);\n",
        "      </script>\n",
        "   </body>\n",
        "</html>"
      ],
      "metadata": {
        "colab": {
          "base_uri": "https://localhost:8080/",
          "height": 58
        },
        "id": "-YMj2V9-fzHz",
        "outputId": "1ddd2cbe-e647-4ae4-d9aa-1cae72091fa4"
      },
      "execution_count": 59,
      "outputs": [
        {
          "output_type": "display_data",
          "data": {
            "text/plain": [
              "<IPython.core.display.HTML object>"
            ],
            "text/html": [
              "<!DOCTYPE html>\n",
              "<html>\n",
              "   <head>\n",
              "      <script type = \"text/javascript\" src = \"https://d3js.org/d3.v4.min.js\"></script>\n",
              "   </head>\n",
              "\n",
              "   <body>\n",
              "      <h3> Timer API </h3>\n",
              "      <script>\n",
              "         var timer = d3.timer(function(duration) {\n",
              "            console.log(duration);\n",
              "            if (duration > 150) timer.stop();\n",
              "         }, 100);\n",
              "      </script>\n",
              "   </body>\n",
              "</html>\n"
            ]
          },
          "metadata": {}
        }
      ]
    },
    {
      "cell_type": "code",
      "source": [
        "%%html\n",
        "\n",
        "<!DOCTYPE html>\n",
        "<html lang=\"en\">\n",
        "<head>\n",
        "    <meta charset=\"UTF-8\">\n",
        "    <meta name=\"viewport\" content=\"width=device-width, initial-scale=1.0\">\n",
        "    <title>World Map with D3.js</title>\n",
        "    <script src=\"https://d3js.org/d3.v6.min.js\"></script>\n",
        "    <style>\n",
        "        path {\n",
        "            fill: #ccc;\n",
        "            stroke: #fff;\n",
        "            stroke-width: 0.5px;\n",
        "        }\n",
        "    </style>\n",
        "</head>\n",
        "<body>\n",
        "    <div id=\"map\"></div>\n",
        "\n",
        "    <script>\n",
        "        // Set the dimensions of the canvas\n",
        "        var width = 960,\n",
        "            height = 500;\n",
        "\n",
        "        // Create SVG element\n",
        "        var svg = d3.select(\"#map\")\n",
        "            .append(\"svg\")\n",
        "            .attr(\"width\", width)\n",
        "            .attr(\"height\", height);\n",
        "\n",
        "        // Define projection and path generator\n",
        "        var projection = d3.geoNaturalEarth()\n",
        "            .scale(150)\n",
        "            .translate([width / 2, height / 2]);\n",
        "\n",
        "        var path = d3.geoPath()\n",
        "            .projection(projection);\n",
        "\n",
        "        // Load world map data\n",
        "        d3.json(\"/content/india.topo.json\").then(function(world) {\n",
        "            // Draw countries\n",
        "            svg.selectAll(\"path\")\n",
        "                .data(topojson.feature(world, world.objects.countries).features)\n",
        "                .enter().append(\"path\")\n",
        "                .attr(\"d\", path);\n",
        "        });\n",
        "    </script>\n",
        "</body>\n",
        "</html>\n"
      ],
      "metadata": {
        "colab": {
          "base_uri": "https://localhost:8080/",
          "height": 521
        },
        "id": "rv_oAblugI4v",
        "outputId": "1ca54f68-b0f6-4c3c-d902-56a2d434c973"
      },
      "execution_count": 62,
      "outputs": [
        {
          "output_type": "display_data",
          "data": {
            "text/plain": [
              "<IPython.core.display.HTML object>"
            ],
            "text/html": [
              "\n",
              "<!DOCTYPE html>\n",
              "<html lang=\"en\">\n",
              "<head>\n",
              "    <meta charset=\"UTF-8\">\n",
              "    <meta name=\"viewport\" content=\"width=device-width, initial-scale=1.0\">\n",
              "    <title>World Map with D3.js</title>\n",
              "    <script src=\"https://d3js.org/d3.v6.min.js\"></script>\n",
              "    <style>\n",
              "        path {\n",
              "            fill: #ccc;\n",
              "            stroke: #fff;\n",
              "            stroke-width: 0.5px;\n",
              "        }\n",
              "    </style>\n",
              "</head>\n",
              "<body>\n",
              "    <div id=\"map\"></div>\n",
              "\n",
              "    <script>\n",
              "        // Set the dimensions of the canvas\n",
              "        var width = 960,\n",
              "            height = 500;\n",
              "\n",
              "        // Create SVG element\n",
              "        var svg = d3.select(\"#map\")\n",
              "            .append(\"svg\")\n",
              "            .attr(\"width\", width)\n",
              "            .attr(\"height\", height);\n",
              "\n",
              "        // Define projection and path generator\n",
              "        var projection = d3.geoNaturalEarth()\n",
              "            .scale(150)\n",
              "            .translate([width / 2, height / 2]);\n",
              "\n",
              "        var path = d3.geoPath()\n",
              "            .projection(projection);\n",
              "\n",
              "        // Load world map data\n",
              "        d3.json(\"/content/india.topo.json\").then(function(world) {\n",
              "            // Draw countries\n",
              "            svg.selectAll(\"path\")\n",
              "                .data(topojson.feature(world, world.objects.countries).features)\n",
              "                .enter().append(\"path\")\n",
              "                .attr(\"d\", path);\n",
              "        });\n",
              "    </script>\n",
              "</body>\n",
              "</html>\n"
            ]
          },
          "metadata": {}
        }
      ]
    },
    {
      "cell_type": "code",
      "source": [],
      "metadata": {
        "id": "n-KEohFAgcjo"
      },
      "execution_count": null,
      "outputs": []
    }
  ]
}