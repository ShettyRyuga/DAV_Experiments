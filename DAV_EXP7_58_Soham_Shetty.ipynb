{
  "nbformat": 4,
  "nbformat_minor": 0,
  "metadata": {
    "colab": {
      "provenance": [],
      "authorship_tag": "ABX9TyMPQRbYUnfuJLXm6i5vEXjp",
      "include_colab_link": true
    },
    "kernelspec": {
      "name": "ir",
      "display_name": "R"
    },
    "language_info": {
      "name": "R"
    }
  },
  "cells": [
    {
      "cell_type": "markdown",
      "metadata": {
        "id": "view-in-github",
        "colab_type": "text"
      },
      "source": [
        "<a href=\"https://colab.research.google.com/github/ShettyRyuga/DAV_Experiments/blob/main/EXP7_DAV.ipynb\" target=\"_parent\"><img src=\"https://colab.research.google.com/assets/colab-badge.svg\" alt=\"Open In Colab\"/></a>"
      ]
    },
    {
      "cell_type": "markdown",
      "source": [
        "1.Tokenization"
      ],
      "metadata": {
        "id": "UEqFkhjhDP27"
      }
    },
    {
      "cell_type": "code",
      "source": [
        "!pip install nltk\n"
      ],
      "metadata": {
        "colab": {
          "base_uri": "https://localhost:8080/"
        },
        "id": "EUuGcNHAAla4",
        "outputId": "96b200c1-3495-44cf-8695-283c3efa27b2"
      },
      "execution_count": 3,
      "outputs": [
        {
          "output_type": "stream",
          "name": "stdout",
          "text": [
            "Requirement already satisfied: nltk in /usr/local/lib/python3.10/dist-packages (3.8.1)\n",
            "Requirement already satisfied: click in /usr/local/lib/python3.10/dist-packages (from nltk) (8.1.7)\n",
            "Requirement already satisfied: joblib in /usr/local/lib/python3.10/dist-packages (from nltk) (1.3.2)\n",
            "Requirement already satisfied: regex>=2021.8.3 in /usr/local/lib/python3.10/dist-packages (from nltk) (2023.12.25)\n",
            "Requirement already satisfied: tqdm in /usr/local/lib/python3.10/dist-packages (from nltk) (4.66.2)\n"
          ]
        }
      ]
    },
    {
      "cell_type": "code",
      "execution_count": 5,
      "metadata": {
        "colab": {
          "base_uri": "https://localhost:8080/"
        },
        "id": "Tk4MXeDR1fxn",
        "outputId": "16e0dc30-659b-4373-d3d1-e45edf34347f"
      },
      "outputs": [
        {
          "output_type": "stream",
          "name": "stdout",
          "text": [
            "Sentence Tokenization:\n",
            "['Wake up to reality.', 'Nothing ever goes as planned in this world.', 'The longer you live, the more you realize that only pain, suffering, and futility exist in this reality.']\n",
            "\n",
            "Word Tokenization:\n",
            "['Wake', 'up', 'to', 'reality', '.', 'Nothing', 'ever', 'goes', 'as', 'planned', 'in', 'this', 'world', '.', 'The', 'longer', 'you', 'live', ',', 'the', 'more', 'you', 'realize', 'that', 'only', 'pain', ',', 'suffering', ',', 'and', 'futility', 'exist', 'in', 'this', 'reality', '.']\n"
          ]
        },
        {
          "output_type": "stream",
          "name": "stderr",
          "text": [
            "[nltk_data] Downloading package punkt to /root/nltk_data...\n",
            "[nltk_data]   Package punkt is already up-to-date!\n"
          ]
        }
      ],
      "source": [
        "import nltk\n",
        "from nltk.tokenize import sent_tokenize, word_tokenize\n",
        "nltk.download('punkt')\n",
        "text = \"Wake up to reality. Nothing ever goes as planned in this world. The longer you live, the more you realize that only pain, suffering, and futility exist in this reality. \"\n",
        "\n",
        "# Sentence tokenization\n",
        "sentences = sent_tokenize(text)\n",
        "print(\"Sentence Tokenization:\")\n",
        "print(sentences)\n",
        "\n",
        "# Word tokenization\n",
        "words = word_tokenize(text)\n",
        "print(\"\\nWord Tokenization:\")\n",
        "print(words)"
      ]
    },
    {
      "cell_type": "markdown",
      "source": [
        "2.Frequency Distribution"
      ],
      "metadata": {
        "id": "wIsIUpfqDbzt"
      }
    },
    {
      "cell_type": "code",
      "source": [
        "from nltk import FreqDist\n",
        "\n",
        "fdist = FreqDist(words)\n",
        "print(\"Frequency Distribution:\", fdist.most_common())\n"
      ],
      "metadata": {
        "colab": {
          "base_uri": "https://localhost:8080/"
        },
        "id": "lSDSTqM6Axlx",
        "outputId": "58e20bb0-2115-48cc-89e8-43d1a1fe96ed"
      },
      "execution_count": 7,
      "outputs": [
        {
          "output_type": "stream",
          "name": "stdout",
          "text": [
            "Frequency Distribution: [('.', 3), (',', 3), ('reality', 2), ('in', 2), ('this', 2), ('you', 2), ('Wake', 1), ('up', 1), ('to', 1), ('Nothing', 1), ('ever', 1), ('goes', 1), ('as', 1), ('planned', 1), ('world', 1), ('The', 1), ('longer', 1), ('live', 1), ('the', 1), ('more', 1), ('realize', 1), ('that', 1), ('only', 1), ('pain', 1), ('suffering', 1), ('and', 1), ('futility', 1), ('exist', 1)]\n"
          ]
        }
      ]
    },
    {
      "cell_type": "markdown",
      "source": [
        "3.Remove Stopwords & Punctuation"
      ],
      "metadata": {
        "id": "ItIBlbdADhk_"
      }
    },
    {
      "cell_type": "code",
      "source": [
        "nltk.download('stopwords')"
      ],
      "metadata": {
        "colab": {
          "base_uri": "https://localhost:8080/"
        },
        "id": "D0BSXgTKBFRz",
        "outputId": "e30a2faa-ba94-4226-ca9c-1ebed10f83ff"
      },
      "execution_count": 8,
      "outputs": [
        {
          "output_type": "stream",
          "name": "stderr",
          "text": [
            "[nltk_data] Downloading package stopwords to /root/nltk_data...\n",
            "[nltk_data]   Unzipping corpora/stopwords.zip.\n"
          ]
        },
        {
          "output_type": "execute_result",
          "data": {
            "text/plain": [
              "True"
            ]
          },
          "metadata": {},
          "execution_count": 8
        }
      ]
    },
    {
      "cell_type": "code",
      "source": [
        "from nltk.corpus import stopwords\n",
        "import string\n",
        "\n",
        "stop_words = set(stopwords.words('english'))\n",
        "filtered_words = [word for word in words if word.lower() not in stop_words and word not in string.punctuation]\n",
        "\n",
        "print(\"Filtered Words:\", filtered_words)\n"
      ],
      "metadata": {
        "colab": {
          "base_uri": "https://localhost:8080/"
        },
        "id": "5hNcpr2ZBUFe",
        "outputId": "c6183141-db21-45c5-d044-ad0cfa7fcf8d"
      },
      "execution_count": 9,
      "outputs": [
        {
          "output_type": "stream",
          "name": "stdout",
          "text": [
            "Filtered Words: ['Wake', 'reality', 'Nothing', 'ever', 'goes', 'planned', 'world', 'longer', 'live', 'realize', 'pain', 'suffering', 'futility', 'exist', 'reality']\n"
          ]
        }
      ]
    },
    {
      "cell_type": "markdown",
      "source": [
        "4.Lexicon Normalization (Stemming, Lemmatization):"
      ],
      "metadata": {
        "id": "HsA5UiZgDpJv"
      }
    },
    {
      "cell_type": "code",
      "source": [
        "nltk.download('wordnet')"
      ],
      "metadata": {
        "colab": {
          "base_uri": "https://localhost:8080/"
        },
        "id": "GrOIpVPkBYzh",
        "outputId": "203f01d6-1346-4a61-d77f-293d47556cf1"
      },
      "execution_count": 10,
      "outputs": [
        {
          "output_type": "stream",
          "name": "stderr",
          "text": [
            "[nltk_data] Downloading package wordnet to /root/nltk_data...\n"
          ]
        },
        {
          "output_type": "execute_result",
          "data": {
            "text/plain": [
              "True"
            ]
          },
          "metadata": {},
          "execution_count": 10
        }
      ]
    },
    {
      "cell_type": "code",
      "source": [
        "from nltk.stem import PorterStemmer, WordNetLemmatizer\n",
        "\n",
        "stemmer = PorterStemmer()\n",
        "lemmatizer = WordNetLemmatizer()\n",
        "\n",
        "stemmed_words = [stemmer.stem(word) for word in filtered_words]\n",
        "lemmatized_words = [lemmatizer.lemmatize(word) for word in filtered_words]\n",
        "\n",
        "print(\"Stemmed Words:\", stemmed_words)\n",
        "print(\"Lemmatized Words:\", lemmatized_words)"
      ],
      "metadata": {
        "colab": {
          "base_uri": "https://localhost:8080/"
        },
        "id": "pS9KJeYmBgPN",
        "outputId": "5e716dd3-6e63-4e27-c464-583df53e39dc"
      },
      "execution_count": 11,
      "outputs": [
        {
          "output_type": "stream",
          "name": "stdout",
          "text": [
            "Stemmed Words: ['wake', 'realiti', 'noth', 'ever', 'goe', 'plan', 'world', 'longer', 'live', 'realiz', 'pain', 'suffer', 'futil', 'exist', 'realiti']\n",
            "Lemmatized Words: ['Wake', 'reality', 'Nothing', 'ever', 'go', 'planned', 'world', 'longer', 'live', 'realize', 'pain', 'suffering', 'futility', 'exist', 'reality']\n"
          ]
        }
      ]
    },
    {
      "cell_type": "markdown",
      "source": [
        "5.Parts of Speech Tagging"
      ],
      "metadata": {
        "id": "jnWcUCZWDvDq"
      }
    },
    {
      "cell_type": "code",
      "source": [
        "nltk.download('averaged_perceptron_tagger')"
      ],
      "metadata": {
        "colab": {
          "base_uri": "https://localhost:8080/"
        },
        "id": "VAn6xzFeBlD0",
        "outputId": "7d1e0fb1-52d0-4998-a280-fb92da6e4ee9"
      },
      "execution_count": 12,
      "outputs": [
        {
          "output_type": "stream",
          "name": "stderr",
          "text": [
            "[nltk_data] Downloading package averaged_perceptron_tagger to\n",
            "[nltk_data]     /root/nltk_data...\n",
            "[nltk_data]   Unzipping taggers/averaged_perceptron_tagger.zip.\n"
          ]
        },
        {
          "output_type": "execute_result",
          "data": {
            "text/plain": [
              "True"
            ]
          },
          "metadata": {},
          "execution_count": 12
        }
      ]
    },
    {
      "cell_type": "code",
      "source": [
        "pos_tags = nltk.pos_tag(filtered_words)\n",
        "print(\"POS tags:\", pos_tags)"
      ],
      "metadata": {
        "colab": {
          "base_uri": "https://localhost:8080/"
        },
        "id": "ItVPjGU1Bwea",
        "outputId": "e63f592c-037d-4701-b210-e0b034c2ef8f"
      },
      "execution_count": 13,
      "outputs": [
        {
          "output_type": "stream",
          "name": "stdout",
          "text": [
            "POS tags: [('Wake', 'NNP'), ('reality', 'NN'), ('Nothing', 'NNP'), ('ever', 'RB'), ('goes', 'VBZ'), ('planned', 'JJ'), ('world', 'NN'), ('longer', 'RBR'), ('live', 'JJ'), ('realize', 'NN'), ('pain', 'NN'), ('suffering', 'VBG'), ('futility', 'NN'), ('exist', 'VBP'), ('reality', 'NN')]\n"
          ]
        }
      ]
    },
    {
      "cell_type": "markdown",
      "source": [
        "6.Entity Recognition"
      ],
      "metadata": {
        "id": "PyAiR6P_D1Id"
      }
    },
    {
      "cell_type": "code",
      "source": [
        "nltk.download('maxent_ne_chunker')"
      ],
      "metadata": {
        "colab": {
          "base_uri": "https://localhost:8080/"
        },
        "id": "iVu1VVg5B1Aw",
        "outputId": "6b410297-6a2f-463a-a64d-d74be61d2153"
      },
      "execution_count": 14,
      "outputs": [
        {
          "output_type": "stream",
          "name": "stderr",
          "text": [
            "[nltk_data] Downloading package maxent_ne_chunker to\n",
            "[nltk_data]     /root/nltk_data...\n",
            "[nltk_data]   Unzipping chunkers/maxent_ne_chunker.zip.\n"
          ]
        },
        {
          "output_type": "execute_result",
          "data": {
            "text/plain": [
              "True"
            ]
          },
          "metadata": {},
          "execution_count": 14
        }
      ]
    },
    {
      "cell_type": "code",
      "source": [
        "\n",
        "nltk.download('words')"
      ],
      "metadata": {
        "colab": {
          "base_uri": "https://localhost:8080/"
        },
        "id": "V824UorGB_bG",
        "outputId": "6aaf86a6-5927-4cf9-8331-c5c020bbc040"
      },
      "execution_count": 15,
      "outputs": [
        {
          "output_type": "stream",
          "name": "stderr",
          "text": [
            "[nltk_data] Downloading package words to /root/nltk_data...\n",
            "[nltk_data]   Unzipping corpora/words.zip.\n"
          ]
        },
        {
          "output_type": "execute_result",
          "data": {
            "text/plain": [
              "True"
            ]
          },
          "metadata": {},
          "execution_count": 15
        }
      ]
    },
    {
      "cell_type": "code",
      "source": [
        "from nltk import ne_chunk\n",
        "\n",
        "entities = ne_chunk(pos_tags)\n",
        "print(\"Named Entities:\", entities)"
      ],
      "metadata": {
        "colab": {
          "base_uri": "https://localhost:8080/"
        },
        "id": "IZFxW8tPCDUw",
        "outputId": "5753afce-7bb2-45b3-ec2d-5ef60dec37cb"
      },
      "execution_count": 16,
      "outputs": [
        {
          "output_type": "stream",
          "name": "stdout",
          "text": [
            "Named Entities: (S\n",
            "  (GPE Wake/NNP)\n",
            "  reality/NN\n",
            "  Nothing/NNP\n",
            "  ever/RB\n",
            "  goes/VBZ\n",
            "  planned/JJ\n",
            "  world/NN\n",
            "  longer/RBR\n",
            "  live/JJ\n",
            "  realize/NN\n",
            "  pain/NN\n",
            "  suffering/VBG\n",
            "  futility/NN\n",
            "  exist/VBP\n",
            "  reality/NN)\n"
          ]
        }
      ]
    },
    {
      "cell_type": "markdown",
      "source": [
        "### WebScrapping"
      ],
      "metadata": {
        "id": "rd7F8BHtCNV_"
      }
    },
    {
      "cell_type": "code",
      "source": [
        "import requests\n",
        "from bs4 import BeautifulSoup"
      ],
      "metadata": {
        "id": "R5Dhl3n9CGer"
      },
      "execution_count": 17,
      "outputs": []
    },
    {
      "cell_type": "code",
      "source": [
        "url = \"https://www.geeksforgeeks.org/\"\n",
        "response = requests.get(url)\n",
        "soup = BeautifulSoup(response.content, \"html.parser\")\n",
        "\n",
        "# Find all <a> tags to get URLs\n",
        "links = soup.find_all('a')\n",
        "urls = [link.get('href') for link in links if link.get('href')]\n",
        "\n",
        "# Find all headings (h1 to h6)\n",
        "headings = soup.find_all(['h1', 'h2', 'h3', 'h4', 'h5', 'h6'])\n",
        "headings_text = [heading.text.strip() for heading in headings]\n",
        "\n",
        "print(\"URLs:\", urls)\n",
        "print(\"Headings:\", headings_text)"
      ],
      "metadata": {
        "colab": {
          "base_uri": "https://localhost:8080/"
        },
        "id": "SyTwl1cWCMtp",
        "outputId": "fc5ed118-5797-4b36-bb1f-4a00ed13c3f8"
      },
      "execution_count": 20,
      "outputs": [
        {
          "output_type": "stream",
          "name": "stdout",
          "text": [
            "URLs: ['#main', 'https://www.geeksforgeeks.org/', 'https://www.geeksforgeeks.org/taking-input-in-python/?ref=outind', 'https://www.geeksforgeeks.org/python-operators/?ref=outind', 'https://www.geeksforgeeks.org/python-numbers/?ref=outind', 'https://www.geeksforgeeks.org/python-string/?ref=outind', 'https://www.geeksforgeeks.org/python-lists/?ref=outind', 'https://www.geeksforgeeks.org/python-tuples/?ref=outind', 'https://www.geeksforgeeks.org/sets-in-python/?ref=outind', 'https://www.geeksforgeeks.org/python-dictionary/?ref=outind', 'https://www.geeksforgeeks.org/python-if-else/?ref=outind', 'https://www.geeksforgeeks.org/python-for-loops/?ref=outind', 'https://www.geeksforgeeks.org/python-while-loop/?ref=outind', 'https://www.geeksforgeeks.org/python-break-statement/?ref=outind', 'https://www.geeksforgeeks.org/python-continue-statement/?ref=outind', 'https://www.geeksforgeeks.org/python-pass-statement/?ref=outind', 'https://www.geeksforgeeks.org/python-functions/?ref=outind', 'https://www.geeksforgeeks.org/python-oops-concepts/?ref=outind', 'https://www.geeksforgeeks.org/python-data-structures-and-algorithms/?ref=outind', 'https://www.geeksforgeeks.org/python-linked-list/?ref=outind', 'https://www.geeksforgeeks.org/stack-in-python/?ref=outind', 'https://www.geeksforgeeks.org/queue-in-python/?ref=outind', 'https://www.geeksforgeeks.org/binary-tree-data-structure/?ref=outind', 'https://www.geeksforgeeks.org/introduction-to-heap-data-structure-and-algorithm-tutorials/?ref=outind', 'https://www.geeksforgeeks.org/introduction-to-hashing-data-structure-and-algorithm-tutorials/?ref=outind', 'https://www.geeksforgeeks.org/introduction-to-graphs-data-structure-and-algorithm-tutorials/?ref=outind', 'https://www.geeksforgeeks.org/introduction-to-set-data-structure-and-algorithm-tutorials/?ref=outind', 'https://www.geeksforgeeks.org/introduction-to-map-data-structure-and-algorithm-tutorials/?ref=outind', 'https://www.geeksforgeeks.org/advanced-data-structures/?ref=outind', 'https://www.geeksforgeeks.org/sorting-algorithms-in-python/?ref=outind', 'https://www.geeksforgeeks.org/searching-algorithms/?ref=outind', 'https://www.geeksforgeeks.org/python-exception-handling/?ref=outind', 'https://www.geeksforgeeks.org/file-handling-python/?ref=outind', 'https://www.geeksforgeeks.org/python-list-exercise/?ref=outind', 'https://www.geeksforgeeks.org/python-string-exercise/?ref=outind', 'https://www.geeksforgeeks.org/python-tuple-exercise/?ref=outind', 'https://www.geeksforgeeks.org/python-dictionary-exercise/?ref=outind', 'https://www.geeksforgeeks.org/python-set-exercise/?ref=outind', 'https://www.geeksforgeeks.org/python-design-patterns/?ref=outind', 'https://www.geeksforgeeks.org/python-programming-examples/?ref=outind', 'https://www.geeksforgeeks.org/python-exercises-practice-questions-and-solutions/?ref=outind', 'https://www.geeksforgeeks.org/java/?ref=outind', 'https://www.geeksforgeeks.org/data-types-in-java/?ref=outind', 'https://www.geeksforgeeks.org/variables-in-java/?ref=outind', 'https://www.geeksforgeeks.org/operators-in-java/?ref=outind', 'https://www.geeksforgeeks.org/java-arithmetic-operators-with-examples/?ref=outind', 'https://www.geeksforgeeks.org/java-unary-operator-with-examples/?ref=outind', 'https://www.geeksforgeeks.org/java-assignment-operator-with-examples/?ref=outind', 'https://www.geeksforgeeks.org/java-relational-operators-with-examples/?ref=outind', 'https://www.geeksforgeeks.org/java-logical-operators-with-examples/?ref=outind', 'https://www.geeksforgeeks.org/java-ternary-operator-with-examples/?ref=outind', 'https://www.geeksforgeeks.org/decision-making-javaif-else-switch-break-continue-jump/?ref=outind', 'https://www.geeksforgeeks.org/java-if-statement-with-examples/?ref=outind', 'https://www.geeksforgeeks.org/java-if-else-statement-with-examples/?ref=outind', 'https://www.geeksforgeeks.org/java-if-else-if-ladder-with-examples/?ref=outind', 'https://www.geeksforgeeks.org/continue-statement-in-java/?ref=outind', 'https://www.geeksforgeeks.org/break-statement-in-java/?ref=outind', 'https://www.geeksforgeeks.org/return-keyword-java/?ref=outind', 'https://www.geeksforgeeks.org/java-while-loop-with-examples/?ref=outind', 'https://www.geeksforgeeks.org/java-do-while-loop-with-examples/?ref=outind', 'https://www.geeksforgeeks.org/java-for-loop-with-examples/?ref=outind', 'https://www.geeksforgeeks.org/for-each-loop-in-java/?ref=outind', 'https://www.geeksforgeeks.org/methods-in-java/?ref=outind', 'https://www.geeksforgeeks.org/strings-in-java/?ref=outind', 'https://www.geeksforgeeks.org/arrays-in-java/?ref=outind', 'https://www.geeksforgeeks.org/object-oriented-programming-oops-concept-in-java/?ref=outind', 'https://www.geeksforgeeks.org/classes-objects-java/?ref=outind', 'https://www.geeksforgeeks.org/access-modifiers-java/?ref=outind', 'https://www.geeksforgeeks.org/inheritance-in-java/?ref=outind', 'https://www.geeksforgeeks.org/abstraction-in-java-2/?ref=outind', 'https://www.geeksforgeeks.org/encapsulation-in-java/?ref=outind', 'https://www.geeksforgeeks.org/polymorphism-in-java/?ref=outind', 'https://www.geeksforgeeks.org/interfaces-in-java/?ref=outind', 'https://www.geeksforgeeks.org/packages-in-java/?ref=outind', 'https://www.geeksforgeeks.org/multithreading-in-java/?ref=outind', 'https://www.geeksforgeeks.org/file-handling-in-java/?ref=outind', 'https://www.geeksforgeeks.org/regular-expressions-in-java/?ref=outind', 'https://www.geeksforgeeks.org/collections-in-java-2/?ref=outind', 'https://www.geeksforgeeks.org/collections-class-in-java/?ref=outind', 'https://www.geeksforgeeks.org/list-interface-java-examples/?ref=outind', 'https://www.geeksforgeeks.org/arraylist-in-java/?ref=outind', 'https://www.geeksforgeeks.org/java-util-vector-class-java/?ref=outind', 'https://www.geeksforgeeks.org/stack-class-in-java/?ref=outind', 'https://www.geeksforgeeks.org/linked-list-in-java/?ref=outind', 'https://www.geeksforgeeks.org/queue-interface-java/?ref=outind', 'https://www.geeksforgeeks.org/set-in-java/?ref=outind', 'https://www.geeksforgeeks.org/hashset-in-java/?ref=outind', 'https://www.geeksforgeeks.org/treeset-in-java-with-examples/?ref=outind', 'https://www.geeksforgeeks.org/map-interface-java-examples/?ref=outind', 'https://www.geeksforgeeks.org/java-util-hashmap-in-java-with-examples/?ref=outind', 'https://www.geeksforgeeks.org/hashtable-in-java/?ref=outind', 'https://www.geeksforgeeks.org/iterators-in-java/?ref=outind', 'https://www.geeksforgeeks.org/comparator-interface-java/?ref=outind', 'https://www.geeksforgeeks.org/java-collections-interview-questions/?ref=outind', 'https://www.geeksforgeeks.org/java-8-features/?ref=outind', 'https://www.geeksforgeeks.org/java-programming-examples/?ref=outind', 'https://www.geeksforgeeks.org/java-array-programs/?ref=outind', 'https://www.geeksforgeeks.org/java-string-programs/?ref=outind', 'https://www.geeksforgeeks.org/java-date-time-programs/?ref=outind', 'https://www.geeksforgeeks.org/java-file-handling-programs/?ref=outind', 'https://www.geeksforgeeks.org/java-collection-programs/?ref=outind', 'https://www.geeksforgeeks.org/java-jdbc-programs/?ref=outind', 'https://www.geeksforgeeks.org/java-apache-poi-programs/?ref=outind', 'https://www.geeksforgeeks.org/java-opencv-programs/?ref=outind', 'https://www.geeksforgeeks.org/java-interview-questions/?ref=outind', 'https://www.geeksforgeeks.org/core-java-interview-questions-for-freshers/?ref=outind', 'https://www.geeksforgeeks.org/top-20-java-multithreading-interview-questions-answers/?ref=outind', 'https://www.geeksforgeeks.org/oops-interview-questions/?ref=outind', 'https://www.geeksforgeeks.org/java-exercises/?ref=outind', 'https://www.geeksforgeeks.org/50-java-language-mcqs-with-answers-2/?ref=outind', 'https://www.geeksforgeeks.org/java-multiple-choice-questions/?ref=outind', 'https://www.geeksforgeeks.org/java-projects/?ref=outind', 'https://www.geeksforgeeks.org/spring/?ref=outind', 'https://www.geeksforgeeks.org/spring-boot/?ref=outind', 'https://www.geeksforgeeks.org/spring-boot-interview-questions/?ref=outind', 'https://www.geeksforgeeks.org/spring-mvc/?ref=outind', 'https://www.geeksforgeeks.org/spring-mvc-interview-questions/?ref=outind', 'https://www.geeksforgeeks.org/hibernate-tutorial/?ref=outind', 'https://www.geeksforgeeks.org/hibernate-interview-questions/?ref=outind', 'https://www.geeksforgeeks.org/c-programming-language/?ref=outind', 'https://www.geeksforgeeks.org/c-plus-plus/?ref=outind', 'https://www.geeksforgeeks.org/learn-javascript-js-roadmap-for-beginners/?ref=outind', 'https://www.geeksforgeeks.org/php-tutorials/?ref=outind', 'https://www.geeksforgeeks.org/r-tutorial/?ref=outind', 'https://www.geeksforgeeks.org/csharp-programming-language/?ref=outind', 'https://www.geeksforgeeks.org/sql-tutorial/?ref=outind', 'https://www.geeksforgeeks.org/scala-programming-language/?ref=outind', 'https://www.geeksforgeeks.org/perl-programming-language/?ref=outind', 'https://www.geeksforgeeks.org/golang/?ref=outind', 'https://www.geeksforgeeks.org/kotlin-programming-language/?ref=outind', 'https://www.geeksforgeeks.org/what-is-system-design-learn-system-design/?ref=outind', 'https://www.geeksforgeeks.org/important-key-concepts-and-terminologies-learn-system-design/?ref=outind', 'https://www.geeksforgeeks.org/analysis-of-monolithic-and-distributed-systems-learn-system-design/?ref=outind', 'https://www.geeksforgeeks.org/what-is-scalability-and-how-to-achieve-it-learn-system-design/?ref=outind', 'https://www.geeksforgeeks.org/complete-reference-to-databases-in-designing-systems/?ref=outind', 'https://www.geeksforgeeks.org/what-is-high-level-design-learn-system-design/?ref=outind', 'https://www.geeksforgeeks.org/what-is-low-level-design-or-lld-learn-system-design/?ref=outind', 'https://www.geeksforgeeks.org/communication-protocols-in-system-design/?ref=outind', 'https://www.geeksforgeeks.org/web-server-proxies-and-their-role-in-designing-systems/?ref=outind', 'https://www.geeksforgeeks.org/top-10-system-design-interview-questions-and-answers/?ref=outind', 'https://www.geeksforgeeks.org/system-design-tutorial/?ref=outind', 'https://www.geeksforgeeks.org/design-patterns-set-1-introduction/?ref=outind', 'https://www.geeksforgeeks.org/observer-pattern-set-1-introduction/?ref=outind', 'https://www.geeksforgeeks.org/singleton-design-pattern/?ref=outind', 'https://www.geeksforgeeks.org/decorator-pattern/?ref=outind', 'https://www.geeksforgeeks.org/strategy-pattern-set-1/?ref=outind', 'https://www.geeksforgeeks.org/adapter-pattern/?ref=outind', 'https://www.geeksforgeeks.org/command-pattern/?ref=outind', 'https://www.geeksforgeeks.org/iterator-pattern/?ref=outind', 'https://www.geeksforgeeks.org/prototype-design-pattern/?ref=outind', 'https://www.geeksforgeeks.org/software-design-patterns/?ref=outind', 'https://www.geeksforgeeks.org/complete-roadmap-to-learn-system-design/?ref=outind', 'https://www.geeksforgeeks.org/top-10-system-design-interview-questions-and-answers/?ref=outind', 'https://www.geeksforgeeks.org/company-preparation/?ref=outind', 'https://www.geeksforgeeks.org/interview-preparation-for-software-developer/?ref=outind', 'https://practice.geeksforgeeks.org/company-tags/?ref=outind', 'https://www.geeksforgeeks.org/company-interview-corner/?ref=outind', 'https://www.geeksforgeeks.org/experienced-interview-experiences-company-wise/?ref=outind', 'https://www.geeksforgeeks.org/internship-interview-experiences-company-wise/?ref=outind', 'https://www.geeksforgeeks.org/competitive-programming-a-complete-guide/?ref=outind', 'https://www.geeksforgeeks.org/quiz-corner-gq/?ref=outind', 'https://www.geeksforgeeks.org/aptitude-questions-and-answers/?ref=outind', 'https://www.geeksforgeeks.org/engineering-mathematics-tutorials/?ref=outind', 'https://www.geeksforgeeks.org/operating-systems/?ref=outind', 'https://www.geeksforgeeks.org/dbms/?ref=outind', 'https://www.geeksforgeeks.org/computer-network-tutorials/?ref=outind', 'https://www.geeksforgeeks.org/computer-organization-and-architecture-tutorials/?ref=outind', 'https://www.geeksforgeeks.org/theory-of-computation-automata-tutorials/?ref=outind', 'https://www.geeksforgeeks.org/compiler-design-tutorials/?ref=outind', 'https://www.geeksforgeeks.org/digital-electronics-logic-design-tutorials/#blg/?ref=outind', 'https://www.geeksforgeeks.org/software-engineering/?ref=outind', 'https://www.geeksforgeeks.org/git-tutorial/?ref=outind', 'https://www.geeksforgeeks.org/aws-tutorial/?ref=outind', 'https://www.geeksforgeeks.org/docker-tutorial/?ref=outind', 'https://www.geeksforgeeks.org/kubernetes-tutorial/?ref=outind', 'https://www.geeksforgeeks.org/microsoft-azure/?ref=outind', 'https://www.geeksforgeeks.org/google-cloud-platform-tutorial/?ref=outind', 'https://www.geeksforgeeks.org/linux-tutorial/?ref=outind', 'https://www.geeksforgeeks.org/linux-commands/?ref=outind', 'https://www.geeksforgeeks.org/linux-commands-cheat-sheet/?ref=outind', 'https://www.geeksforgeeks.org/basic-linux-commands/?ref=outind', 'https://www.geeksforgeeks.org/file-management-in-linux/?ref=outind', 'https://www.geeksforgeeks.org/chmod-command-linux/?ref=outind', 'https://www.geeksforgeeks.org/chown-command-in-linux-with-examples/?ref=outind', 'https://www.geeksforgeeks.org/chgrp-command-in-linux-with-examples/?ref=outind', 'https://www.geeksforgeeks.org/umask-command-in-linux-with-examples/?ref=outind', 'https://www.geeksforgeeks.org/beginners-guide-to-linux-system-administration/?ref=outind', 'https://www.geeksforgeeks.org/linux-file-system/?ref=outind', 'https://www.geeksforgeeks.org/introduction-linux-shell-shell-scripting/?ref=outind', 'https://www.geeksforgeeks.org/network-configuration-trouble-shooting-commands-linux/?ref=outind', 'https://www.geeksforgeeks.org/linux-firewall/?ref=outind', 'https://www.geeksforgeeks.org/linux-interview-questions/?ref=outind', 'https://www.geeksforgeeks.org/software-testing-tutorial/?ref=outind', 'https://www.geeksforgeeks.org/software-testing-basics/?ref=outind', 'https://www.geeksforgeeks.org/software-engineering-seven-principles-of-software-testing/?ref=outind', 'https://www.geeksforgeeks.org/types-software-testing/?ref=outind', 'https://www.geeksforgeeks.org/levels-of-software-testing/?ref=outind', 'https://www.geeksforgeeks.org/automation-testing-software-testing/?ref=outind', 'https://www.geeksforgeeks.org/software-testing-manual-testing/?ref=outind', 'https://www.geeksforgeeks.org/software-testing-tools/?ref=outind', 'https://www.geeksforgeeks.org/software-testing-defect-testing-tools/?ref=outind', 'https://www.geeksforgeeks.org/software-testing-cross-browser-testing-tools/?ref=outind', 'https://www.geeksforgeeks.org/software-testing-integration-testing-tool/?ref=outind', 'https://www.geeksforgeeks.org/software-testing-unit-testing-tools/?ref=outind', 'https://www.geeksforgeeks.org/software-testing-mobile-testing-tools/?ref=outind', 'https://www.geeksforgeeks.org/software-testing-gui-testing-tool/?ref=outind', 'https://www.geeksforgeeks.org/software-testing-security-testing-tools/?ref=outind', 'https://www.geeksforgeeks.org/penetration-testing-software-engineering/?ref=outind', 'https://www.geeksforgeeks.org/selenium-python-tutorial/?ref=outind', 'https://www.geeksforgeeks.org/selenium-basics-components-features-uses-and-limitations/?ref=outind', 'https://www.geeksforgeeks.org/selenium-python-introduction-and-installation/?ref=outind', 'https://www.geeksforgeeks.org/jira-tutorial/?ref=outind', 'https://www.geeksforgeeks.org/jira-installation/?ref=outind', 'https://www.geeksforgeeks.org/jira-login/?ref=outind', 'https://www.geeksforgeeks.org/jira-dashboard/?ref=outind', 'https://www.geeksforgeeks.org/software-engineering/?ref=outind', 'https://www.geeksforgeeks.org/software-development-life-cycle-sdlc/?ref=outind', 'https://www.geeksforgeeks.org/software-engineering-software-characteristics/?ref=outind', 'https://www.geeksforgeeks.org/software-engineering-software-quality/?ref=outind', 'https://www.geeksforgeeks.org/waterfall-model/?ref=outind', 'https://www.geeksforgeeks.org/software-engineering-iterative-waterfall-model/?ref=outind', 'https://www.geeksforgeeks.org/software-engineering-spiral-model/?ref=outind', 'https://www.geeksforgeeks.org/software-engineering-prototyping-model/?ref=outind', 'https://www.geeksforgeeks.org/software-engineering-incremental-process-model/?ref=outind', 'https://www.geeksforgeeks.org/software-testing-interview-questions/?ref=outind', 'https://www.geeksforgeeks.org/automation-testing-interview-questions/?ref=outind', 'https://www.geeksforgeeks.org/manual-testing-interview-questions/?ref=outind', 'https://www.geeksforgeeks.org/top-50-software-engineering-interview-questions-and-answers/?ref=outind', 'https://www.geeksforgeeks.org/top-50-penetration-testing-interview-questions-and-answers/?ref=outind', 'https://www.geeksforgeeks.org/api-testing-interview-questions/?ref=outind', 'https://www.geeksforgeeks.org/postman-tutorial/?ref=outind', 'https://www.geeksforgeeks.org/introduction-postman-api-development/?ref=outind', 'https://www.geeksforgeeks.org/how-to-download-and-install-postman-on-windows/?ref=outind', 'https://www.geeksforgeeks.org/basics-of-api-testing-using-postman/?ref=outind', 'https://www.geeksforgeeks.org/how-to-generate-html-report-for-postman-collection-using-newman/?ref=outind', 'https://www.geeksforgeeks.org/dbms/?ref=outind', 'https://www.geeksforgeeks.org/sql-tutorial/?ref=outind', 'https://www.geeksforgeeks.org/postgresql-tutorial/?ref=outind', 'https://www.geeksforgeeks.org/mongodb-tutorial/?ref=outind', 'https://www.geeksforgeeks.org/sql-interview-questions/?ref=outind', 'https://www.geeksforgeeks.org/mysql-interview-questions/?ref=outind', 'https://www.geeksforgeeks.org/pl-sql-interview-questions/?ref=outind', 'https://www.geeksforgeeks.org/android-tutorial/?ref=outind', 'https://www.geeksforgeeks.org/android-studio-tutorial/?ref=outind', 'https://www.geeksforgeeks.org/kotlin-android-tutorial/?ref=outind', 'https://www.geeksforgeeks.org/android-projects-from-basic-to-advanced-level/?ref=outind', 'https://www.geeksforgeeks.org/top-50-android-interview-questions-answers-sde-i-to-sde-iii/?ref=outind', 'https://www.geeksforgeeks.org/6-weeks-of-android-app-development-free-project-based-learning/?ref=outind', 'https://www.geeksforgeeks.org/excel-tutorial/?ref=outind', 'https://www.geeksforgeeks.org/introduction-to-ms-excel/?ref=outind', 'https://www.geeksforgeeks.org/data-analysis-in-excel/?ref=outind', 'https://www.geeksforgeeks.org/basic-excel-formulas-and-functions/?ref=outind', 'https://www.geeksforgeeks.org/instant-data-analysis-in-advanced-excel/?ref=outind', 'https://www.geeksforgeeks.org/workbooks-in-microsoft-excel/?ref=outind', 'https://www.geeksforgeeks.org/statistical-functions-in-excel-with-examples/?ref=outind', 'https://www.geeksforgeeks.org/data-visualization-in-excel/?ref=outind', 'https://www.geeksforgeeks.org/pivot-tables-in-excel/?ref=outind', 'https://www.geeksforgeeks.org/working-with-excel-spreadsheets-in-python/?ref=outind', 'https://www.geeksforgeeks.org/basic-excel-shortcuts/?ref=outind', 'https://www.geeksforgeeks.org/number-system-and-arithmetic/?ref=outind', 'https://www.geeksforgeeks.org/algebra/?ref=outind', 'https://www.geeksforgeeks.org/linear-algebra/?ref=outind', 'https://www.geeksforgeeks.org/trigonometry/?ref=outind', 'https://www.geeksforgeeks.org/set-theory/?ref=outind', 'https://www.geeksforgeeks.org/statistics/?ref=outind', 'https://www.geeksforgeeks.org/probability-in-maths/?ref=outind', 'https://www.geeksforgeeks.org/geometry/?ref=outind', 'https://www.geeksforgeeks.org/mensuration/?ref=outind', 'https://www.geeksforgeeks.org/logarithms/?ref=outind', 'https://www.geeksforgeeks.org/calculus/?ref=outind', 'https://www.geeksforgeeks.org/business-studies/?ref=outind', 'https://www.geeksforgeeks.org/accountancy/?ref=outind', 'https://www.geeksforgeeks.org/microeconomics/?ref=outind', 'https://www.geeksforgeeks.org/statistics-for-economics/?ref=outind', 'https://www.geeksforgeeks.org/macroeconomics/?ref=outind', 'https://www.geeksforgeeks.org/human-resource-management-hrm/?ref=outind', 'https://www.geeksforgeeks.org/management/?ref=outind', 'https://www.geeksforgeeks.org/income-tax/?ref=outind', 'https://www.geeksforgeeks.org/finance/?ref=outind', 'https://www.geeksforgeeks.org/commerce/?ref=outind', 'https://www.geeksforgeeks.org/what-is-seo-or-search-engine-optimization/?ref=outind', 'https://www.geeksforgeeks.org/search-engine-optimization-seo-basics/?ref=outind', 'https://www.geeksforgeeks.org/types-of-seo/?ref=outind', 'https://www.geeksforgeeks.org/what-is-keyword-optimization-in-seo/?ref=outind', 'https://www.geeksforgeeks.org/backlinks-in-seo/?ref=outind', 'https://www.geeksforgeeks.org/tag/seo-blogs/?ref=outind', 'https://www.geeksforgeeks.org/mobile-search-engine-optimization-seo/?ref=outind', 'https://www.geeksforgeeks.org/seo-search-engine-optimization/?ref=outind', 'https://www.geeksforgeeks.org/aptitude-questions-and-answers/?ref=outind', 'https://www.geeksforgeeks.org/quantitative-aptitude/?ref=outind', 'https://www.geeksforgeeks.org/logical-reasoning/?ref=outind', 'https://www.geeksforgeeks.org/verbal-ability/?ref=outind', 'https://www.geeksforgeeks.org/complete-guide-to-arrays-data-structure/?ref=outind', 'https://www.geeksforgeeks.org/introduction-to-matrix-or-grid-data-structure-and-algorithms-tutorial/?ref=outind', 'https://www.geeksforgeeks.org/complete-guide-to-string-data-structure/?ref=outind', 'https://www.geeksforgeeks.org/singly-linked-list-definition-meaning-dsa/?ref=outind', 'https://www.geeksforgeeks.org/doubly-linked-list/?ref=outind', 'https://www.geeksforgeeks.org/circular-linked-list/?ref=outind', 'https://www.geeksforgeeks.org/insertion-in-doubly-circular-linked-list/?ref=outind', 'https://www.geeksforgeeks.org/introduction-to-linked-list-data-structure-and-algorithm-tutorial/?ref=outind', 'https://www.geeksforgeeks.org/introduction-to-stack-data-structure-and-algorithm-tutorials/?ref=outind', 'https://www.geeksforgeeks.org/introduction-to-queue-data-structure-and-algorithm-tutorials/?ref=outind', 'https://www.geeksforgeeks.org/generic-treesn-array-trees/?ref=outind', 'https://www.geeksforgeeks.org/introduction-to-binary-tree-data-structure-and-algorithm-tutorials/?ref=outind', 'https://www.geeksforgeeks.org/introduction-to-binary-search-tree-data-structure-and-algorithm-tutorials/?ref=outind', 'https://www.geeksforgeeks.org/introduction-to-avl-tree/?ref=outind', 'https://www.geeksforgeeks.org/introduction-of-b-tree-2/?ref=outind', 'https://www.geeksforgeeks.org/introduction-of-b-tree/?ref=outind', 'https://www.geeksforgeeks.org/introduction-to-red-black-tree/?ref=outind', 'https://www.geeksforgeeks.org/introduction-to-tree-data-structure-and-algorithm-tutorials/?ref=outind', 'https://www.geeksforgeeks.org/introduction-to-heap-data-structure-and-algorithm-tutorials/?ref=outind', 'https://www.geeksforgeeks.org/introduction-to-hashing-data-structure-and-algorithm-tutorials/?ref=outind', 'https://www.geeksforgeeks.org/introduction-to-graphs-data-structure-and-algorithm-tutorials/?ref=outind', 'https://www.geeksforgeeks.org/introduction-to-set-data-structure-and-algorithm-tutorials/?ref=outind', 'https://www.geeksforgeeks.org/introduction-to-map-data-structure-and-algorithm-tutorials/?ref=outind', 'https://www.geeksforgeeks.org/advanced-data-structures/?ref=outind', 'https://www.geeksforgeeks.org/introduction-to-data-structures/?ref=outind', 'https://www.geeksforgeeks.org/design-and-analysis-of-algorithms/?ref=outind', 'https://www.geeksforgeeks.org/analysis-of-algorithms-set-1-asymptotic-analysis/?ref=outind', 'https://www.geeksforgeeks.org/types-of-asymptotic-notations-in-complexity-analysis-of-algorithms/?ref=outind', 'https://www.geeksforgeeks.org/worst-average-and-best-case-analysis-of-algorithms/?ref=outind', 'https://www.geeksforgeeks.org/linear-search/?ref=outind', 'https://www.geeksforgeeks.org/binary-search/?ref=outind', 'https://www.geeksforgeeks.org/searching-algorithms/?ref=outind', 'https://www.geeksforgeeks.org/selection-sort/?ref=outind', 'https://www.geeksforgeeks.org/bubble-sort/?ref=outind', 'https://www.geeksforgeeks.org/insertion-sort/?ref=outind', 'https://www.geeksforgeeks.org/merge-sort/?ref=outind', 'https://www.geeksforgeeks.org/quick-sort/?ref=outind', 'https://www.geeksforgeeks.org/heap-sort/?ref=outind', 'https://www.geeksforgeeks.org/counting-sort/?ref=outind', 'https://www.geeksforgeeks.org/radix-sort/?ref=outind', 'https://www.geeksforgeeks.org/bucket-sort-2/?ref=outind', 'https://www.geeksforgeeks.org/introduction-to-sorting-algorithm/?ref=outind', 'https://www.geeksforgeeks.org/introduction-to-greedy-algorithm-data-structures-and-algorithm-tutorials/?ref=outind', 'https://www.geeksforgeeks.org/introduction-to-dynamic-programming-data-structures-and-algorithm-tutorials/?ref=outind', 'https://www.geeksforgeeks.org/introduction-to-graphs-data-structure-and-algorithm-tutorials/?ref=outind', 'https://www.geeksforgeeks.org/introduction-to-pattern-searching-data-structure-and-algorithm-tutorial/?ref=outind', 'https://www.geeksforgeeks.org/introduction-to-recursion-data-structure-and-algorithm-tutorials/?ref=outind', 'https://www.geeksforgeeks.org/introduction-to-backtracking-data-structure-and-algorithm-tutorials/?ref=outind', 'https://www.geeksforgeeks.org/introduction-to-divide-and-conquer-algorithm-data-structure-and-algorithm-tutorials/?ref=outind', 'https://www.geeksforgeeks.org/mathematical-algorithms/?ref=outind', 'https://www.geeksforgeeks.org/geometric-algorithms/?ref=outind', 'https://www.geeksforgeeks.org/introduction-to-bitwise-algorithms-data-structures-and-algorithms-tutorial/?ref=outind', 'https://www.geeksforgeeks.org/randomized-algorithms/?ref=outind', 'https://www.geeksforgeeks.org/introduction-to-branch-and-bound-data-structures-and-algorithms-tutorial/?ref=outind', 'https://www.geeksforgeeks.org/introduction-to-algorithms/?ref=outind', 'https://www.geeksforgeeks.org/learn-data-structures-and-algorithms-dsa-tutorial/?ref=outind', 'https://www.geeksforgeeks.org/explore?page=1&sortBy=submissions&itm_source=geeksforgeeks&itm_medium=main_header_outIndia&itm_campaign=DSA_Header', 'https://www.geeksforgeeks.org/problem-of-the-day?itm_source=geeksforgeeksitm_source=geeksforgeeks&itm_medium=main_header_outIndia&itm_campaign=DSA_Header', 'https://www.geeksforgeeks.org/explore?page=1&company=Amazon&sortBy=submissions&itm_source=geeksforgeeks&itm_medium=main_header_outIndia&itm_campaign=DSA_Header', 'https://www.geeksforgeeks.org/explore?page=1&company=Microsoft&sortBy=submissions&itm_source=geeksforgeeks&itm_medium=main_header_outIndia&itm_campaign=DSA_Header', 'https://www.geeksforgeeks.org/explore?page=1&company=Flipkart&sortBy=submissions&itm_source=geeksforgeeks&itm_medium=main_header_outIndia&itm_campaign=DSA_Header', 'https://www.geeksforgeeks.org/explore?page=1&sortBy=submissions&itm_source=geeksforgeeks&itm_medium=main_header_outIndia&itm_campaign=DSA_Header', 'https://www.geeksforgeeks.org/explore?page=1&curated[]=1&sortBy=submissions&curated_names[]=SDE Sheet?itm_source=geeksforgeeks&itm_medium=main_header_outIndia&itm_campaign=DSA_Header', 'https://www.geeksforgeeks.org/explore?page=1&difficulty=School&itm_source=geeksforgeeks&itm_medium=main_header_outIndia&itm_campaign=DSA_Header', 'https://www.geeksforgeeks.org/explore?page=1&difficulty=Basic&itm_source=geeksforgeeks&itm_medium=main_header_outIndia&itm_campaign=DSA_Header', 'https://www.geeksforgeeks.org/explore?page=1&difficulty=Easy&itm_source=geeksforgeeks&itm_medium=main_header_outIndia&itm_campaign=DSA_Header', 'https://www.geeksforgeeks.org/explore?page=1&difficulty=Medium&itm_source=geeksforgeeks&itm_medium=main_header_outIndia&itm_campaign=DSA_Header', 'https://www.geeksforgeeks.org/explore?page=1&difficulty=Hard&itm_source=geeksforgeeks&itm_medium=main_header_outIndia&itm_campaign=DSA_Header', 'https://www.geeksforgeeks.org/explore?page=1&category=CPP&itm_source=geeksforgeeks&itm_medium=main_header_outIndia&itm_campaign=DSA_Header', 'https://www.geeksforgeeks.org/explore?page=1&category=Java&itm_source=geeksforgeeks&itm_medium=main_header_outIndia&itm_campaign=DSA_Header', 'https://www.geeksforgeeks.org/explore?category=python&itm_source=geeksforgeeks&itm_medium=main_header_outIndia&itm_campaign=DSA_Header', \"https://www.geeksforgeeks.org/explore?page=1&sprint=ca8ae412173dbd8346c26a0295d098fd&sortBy=submissions&sprint_name=Beginner's DSA Sheet&itm_source=geeksforgeeks&itm_medium=main_header_outIndia&itm_campaign=DSA_Header\", 'https://www.geeksforgeeks.org/explore?page=1&sprint=50746f92a895c22a50504ac0c1fb9c84&sortBy=submissions&sprint_name=Top 50 Array Problems&itm_source=geeksforgeeks&itm_medium=main_header_outIndia&itm_campaign=DSA_Header', 'https://www.geeksforgeeks.org/explore?page=1&sprint=57184072610b884e5df3584cc534115d&sortBy=submissions&sprint_name=Top 50 String Problems&itm_source=geeksforgeeks&itm_medium=main_header_outIndia&itm_campaign=DSA_Header', 'https://www.geeksforgeeks.org/explore?page=1&sprint=93d672753b74440c7427214c8ebf866d&sortBy=submissions&sprint_name=Top 50 DP Problems&itm_source=geeksforgeeks&itm_medium=main_header_outIndia&itm_campaign=DSA_Header', 'https://www.geeksforgeeks.org/explore?page=1&sprint=405e9db0f353691ad3b2d546b19145e9&sortBy=submissions&sprint_name=Top 50 Graph Problems&itm_source=geeksforgeeks&itm_medium=main_header_outIndia&itm_campaign=DSA_Header', 'https://www.geeksforgeeks.org/explore?page=1&sprint=5f24de84b65bf7c4f4399c8111e26b81&sortBy=submissions&sprint_name=Top 50 Tree Problems&itm_source=geeksforgeeks&itm_medium=main_header_outIndia&itm_campaign=DSA_Header', 'https://www.geeksforgeeks.org/competitive-programming-a-complete-guide/?ref=outind', 'https://www.geeksforgeeks.org/facebookmeta-sde-sheet-interview-questions-and-answers/?ref=outind', 'https://www.geeksforgeeks.org/amazon-sde-sheet-interview-questions-and-answers/?ref=outind', 'https://www.geeksforgeeks.org/apple-sde-sheet-interview-questions-and-answers/?ref=outind', 'https://www.geeksforgeeks.org/netflix-sde-sheet-interview-questions-and-answers/?ref=outind', 'https://www.geeksforgeeks.org/google-sde-sheet-interview-questions-and-answers/?ref=outind', 'https://www.geeksforgeeks.org/sde-sheet-a-complete-guide-for-sde-preparation/?ref=outind', 'https://www.geeksforgeeks.org/most-asked-dsa-interview-problems-for-beginners/?ref=outind', 'https://www.geeksforgeeks.org/must-do-coding-questions-for-companies-like-amazon-microsoft-adobe/?ref=outind', 'https://www.geeksforgeeks.org/must-do-coding-questions-for-product-based-companies/?ref=outind', 'https://www.geeksforgeeks.org/must-coding-questions-company-wise/?ref=outind', 'https://www.geeksforgeeks.org/top-100-data-structure-and-algorithms-dsa-interview-questions-topic-wise/?ref=outind', 'https://www.geeksforgeeks.org/puzzles/?ref=outind', 'https://www.geeksforgeeks.org/top-100-puzzles-asked-in-interviews/?ref=outind', 'https://www.geeksforgeeks.org/top-20-puzzles-commonly-asked-during-sde-interviews/?ref=outind', 'https://www.geeksforgeeks.org/python-programming-language/?ref=outind', 'https://www.geeksforgeeks.org/r-tutorial/?ref=outind', 'https://www.geeksforgeeks.org/machine-learning/?ref=outind', 'https://www.geeksforgeeks.org/data-science-tutorial/?ref=outind', 'https://www.geeksforgeeks.org/r-programming-for-data-science/?ref=outind', 'https://www.geeksforgeeks.org/pandas-tutorial/?ref=outind', 'https://www.geeksforgeeks.org/numpy-tutorial/?ref=outind', 'https://www.geeksforgeeks.org/python-data-visualization-tutorial/?ref=outind', 'https://www.geeksforgeeks.org/data-visualization-in-r/?ref=outind', 'https://www.geeksforgeeks.org/data-analysis-with-python/?ref=outind', 'https://www.geeksforgeeks.org/data-analysis-using-r/?ref=outind', 'https://www.geeksforgeeks.org/deep-learning-tutorial/?ref=outind', 'https://www.geeksforgeeks.org/natural-language-processing-nlp-tutorial/?ref=outind', 'https://www.geeksforgeeks.org/html-tutorials/?ref=outind', 'https://www.geeksforgeeks.org/css-tutorials/?ref=outind', 'https://www.geeksforgeeks.org/javascript/?ref=outind', 'https://www.geeksforgeeks.org/php-tutorial/?ref=outind', 'https://www.geeksforgeeks.org/reactjs-tutorials/?ref=outind', 'https://www.geeksforgeeks.org/nodejs/?ref=outind', 'https://www.geeksforgeeks.org/introduction-to-angularjs/?ref=outind', 'https://www.geeksforgeeks.org/bootstrap/?ref=outind', 'https://www.geeksforgeeks.org/getting-started-with-django/?ref=outind', 'https://www.geeksforgeeks.org/how-to-create-an-app-in-django/?ref=outind', 'https://www.geeksforgeeks.org/views-in-django-python/?ref=outind', 'https://www.geeksforgeeks.org/django-templates/?ref=outind', 'https://www.geeksforgeeks.org/django-url-patterns-python/?ref=outind', 'https://www.geeksforgeeks.org/python-django-admin-interface/?ref=outind', 'https://www.geeksforgeeks.org/django-models/?ref=outind', 'https://www.geeksforgeeks.org/how-to-integrate-mysql-database-with-django/?ref=outind', 'https://www.geeksforgeeks.org/django-crud-create-retrieve-update-delete-function-based-views/?ref=outind', 'https://www.geeksforgeeks.org/django-forms/?ref=outind', 'https://www.geeksforgeeks.org/django-static-file/?ref=outind', 'https://www.geeksforgeeks.org/top-django-projects-for-beginners/?ref=outind', 'https://www.geeksforgeeks.org/django-tutorial/?ref=outind', 'https://www.geeksforgeeks.org/flask-creating-first-simple-application/?ref=outind', 'https://www.geeksforgeeks.org/flask-app-routing/?ref=outind', 'https://www.geeksforgeeks.org/redirecting-to-url-in-flask/?ref=outind', 'https://www.geeksforgeeks.org/flask-rendering-templates/?ref=outind', 'https://www.geeksforgeeks.org/templating-with-jinja2-in-flask/?ref=outind', 'https://www.geeksforgeeks.org/declaring-models-in-flask/?ref=outind', 'https://www.geeksforgeeks.org/connect-flask-to-a-database-with-flask-sqlalchemy/?ref=outind', 'https://www.geeksforgeeks.org/how-to-add-authentication-to-your-app-with-flask-login/?ref=outind', 'https://www.geeksforgeeks.org/create-contact-us-using-wtforms-in-flask/?ref=outind', 'https://www.geeksforgeeks.org/how-to-serve-static-files-in-flask/?ref=outind', 'https://www.geeksforgeeks.org/flask-projects/?ref=outind', 'https://www.geeksforgeeks.org/flask-interview-questions-and-answers/?ref=outind', 'https://www.geeksforgeeks.org/design-a-webpage-for-online-food-delivery-system-using-html-and-css/?ref=outind', 'https://www.geeksforgeeks.org/design-a-webpage-for-online-food-delivery-system-using-html-and-css/?ref=outind', 'https://www.geeksforgeeks.org/python-todo-webapp-using-django/?ref=outind', 'https://www.geeksforgeeks.org/building-blog-cms-content-management-system-with-django/?ref=outind', 'https://www.geeksforgeeks.org/how-to-add-pagination-in-django-project/?ref=outind', 'https://www.geeksforgeeks.org/how-to-use-tailwind-css-with-django/?ref=outind', 'https://www.geeksforgeeks.org/how-to-connect-django-with-reactjs/?ref=outind', 'https://www.geeksforgeeks.org/introduction-postman-api-development/?ref=outind', 'https://www.geeksforgeeks.org/introduction-to-github/?ref=outind', 'https://www.geeksforgeeks.org/json/?ref=outind', 'https://www.geeksforgeeks.org/typescript/?ref=outind', 'https://www.geeksforgeeks.org/wordpress-tutorial/?ref=outind', 'https://www.geeksforgeeks.org/web-design/?ref=outind', 'https://www.geeksforgeeks.org/google-chrome-browser/?ref=outind', 'https://www.geeksforgeeks.org/mozilla-firefox-browser/?ref=outind', 'https://www.geeksforgeeks.org/apple-safari-browser/?ref=outind', 'https://www.geeksforgeeks.org/microsoft-edge-browser/?ref=outind', 'https://www.geeksforgeeks.org/tor-browser/?ref=outind', 'https://www.geeksforgeeks.org/html-cheat-sheet-a-basic-guide-to-html/?ref=outind', 'https://www.geeksforgeeks.org/css-cheat-sheet-a-basic-guide-to-css/?ref=outind', 'https://www.geeksforgeeks.org/javascript-cheat-sheet-a-basic-guide-to-javascript/?ref=outind', 'https://www.geeksforgeeks.org/react-cheat-sheet/?ref=outind', 'https://www.geeksforgeeks.org/angular-cheat-sheet-a-basic-guide-to-angular/?ref=outind', 'https://www.geeksforgeeks.org/jquery-cheat-sheet-a-basic-guide-to-jquery/?ref=outind', 'https://www.geeksforgeeks.org/bootstrap-cheatsheet-a-basic-guide-to-bootstrap/?ref=outind', 'https://www.geeksforgeeks.org/top-javascript-projects/?ref=outind', 'https://www.geeksforgeeks.org/web-development/?ref=outind', 'https://www.geeksforgeeks.org/web-browser-a-complete-overview/?ref=outind', 'https://www.geeksforgeeks.org/courses/coding-for-everyone?itm_source=geeksforgeeks&itm_medium=main_header&itm_campaign=courses', 'https://www.geeksforgeeks.org/courses/dsa-to-development-coding-guide?itm_source=geeksforgeeks&itm_medium=main_header&itm_campaign=courses', 'https://www.geeksforgeeks.org/courses/data-science-live?itm_source=geeksforgeeks&itm_medium=main_header&itm_campaign=courses', 'https://www.geeksforgeeks.org/courses/dsa-self-paced?itm_source=geeksforgeeks&itm_medium=main_header&itm_campaign=courses', 'https://www.geeksforgeeks.org/courses/Data-Structures-With-Python?itm_source=geeksforgeeks&itm_medium=main_header&itm_campaign=courses', 'https://www.geeksforgeeks.org/courses/data-structures-and-algorithms-in-javascript?itm_source=geeksforgeeks&itm_medium=main_header&itm_campaign=courses', 'https://www.geeksforgeeks.org/courses/cpp-programming-basic-to-advanced?itm_source=geeksforgeeks&itm_medium=main_header&itm_campaign=courses', 'https://www.geeksforgeeks.org/courses/Java-Programming-basic-to-advanced?itm_source=geeksforgeeks&itm_medium=main_header&itm_campaign=courses', 'https://www.geeksforgeeks.org/courses/Python-Foundation?itm_source=geeksforgeeks&itm_medium=main_header&itm_campaign=courses', 'https://www.geeksforgeeks.org/courses/javascript?itm_source=geeksforgeeks&itm_medium=main_header&itm_campaign=courses', 'https://www.geeksforgeeks.org/courses/c-Programming-basic-to-advanced?itm_source=geeksforgeeks&itm_medium=main_header&itm_campaign=courses', 'https://www.geeksforgeeks.org/?ref=ghm', 'https://www.geeksforgeeks.org/videos/watchlist/?ref=ghm', 'https://practice.geeksforgeeks.org/courses?utm_source=geeksforgeeks&utm_medium=main_header&utm_campaign=courses', 'https://www.geeksforgeeks.org/learn-data-structures-and-algorithms-dsa-tutorial/?ref=ghm', 'https://www.geeksforgeeks.org/data-structures/?ref=ghm', 'https://www.geeksforgeeks.org/fundamentals-of-algorithms/?ref=ghm', 'https://www.geeksforgeeks.org/top-100-data-structure-and-algorithms-dsa-interview-questions-topic-wise/?ref=ghm', 'https://www.geeksforgeeks.org/dsa-roadmap-for-beginner-to-advanced-by-sandeep-jain/?ref=ghm', 'https://www.geeksforgeeks.org/python-programming-language/?ref=ghm', 'https://www.geeksforgeeks.org/data-science-tutorial/?ref=ghm', 'https://www.geeksforgeeks.org/machine-learning/?ref=ghm', 'https://www.geeksforgeeks.org/deep-learning-tutorial/?ref=ghm', 'https://www.geeksforgeeks.org/natural-language-processing-nlp-tutorial/?ref=ghm', 'https://www.geeksforgeeks.org/computer-vision/?ref=ghm', 'https://www.geeksforgeeks.org/html/?ref=ghm', 'https://www.geeksforgeeks.org/css/?ref=ghm', 'https://www.geeksforgeeks.org/javascript/?ref=ghm', 'https://www.geeksforgeeks.org/reactjs-tutorials/?ref=ghm', 'https://www.geeksforgeeks.org/nodejs/?ref=ghm', 'https://www.geeksforgeeks.org/c-programming-language/?ref=ghm', 'https://www.geeksforgeeks.org/c-plus-plus/?ref=ghm', 'https://www.geeksforgeeks.org/java/?ref=ghm', 'https://www.geeksforgeeks.org/r-tutorial/?ref=ghm', 'https://www.geeksforgeeks.org/golang/?ref=ghm', 'https://www.geeksforgeeks.org/company-interview-corner/?ref=ghm', 'https://www.geeksforgeeks.org/experienced-interview-experiences-company-wise/?ref=ghm', 'https://www.geeksforgeeks.org/internship-interview-experiences-company-wise/?ref=ghm', 'https://www.geeksforgeeks.org/explore?ref=ghm&page=1&sortBy=submissions', 'https://www.geeksforgeeks.org/competitive-programming-a-complete-guide/?ref=ghm', 'https://www.geeksforgeeks.org/operating-systems/?ref=ghm', 'https://www.geeksforgeeks.org/dbms/?ref=ghm', 'https://www.geeksforgeeks.org/computer-network-tutorials/?ref=ghm', 'https://www.geeksforgeeks.org/software-engineering/?ref=ghm', 'https://www.geeksforgeeks.org/software-testing-tutorial/?ref=ghm', 'https://www.geeksforgeeks.org/jobs/?ref=ghm', 'https://practice.geeksforgeeks.org/events/rec/job-a-thon?itm_source=geeksforgeeks&itm_medium=main_header&itm_campaign=jobs', 'https://www.geeksforgeeks.org/hire-with-us/dashboard', 'https://www.geeksforgeeks.org/explore/?ref=ghm&page=1&sortBy=submissions', 'https://www.geeksforgeeks.org/problem-of-the-day?ref=ghm', 'https://www.geeksforgeeks.org/explore/?ref=ghm&page=1&curated[]=1&sortBy=submissions&curated_names[]=SDE Sheet', \"https://www.geeksforgeeks.org/explore/?ref=ghm&page=1&sprint=ca8ae412173dbd8346c26a0295d098fd&sortBy=submissions&sprint_name=Beginner's DSA Sheet\", 'https://www.geeksforgeeks.org/explore/?ref=ghm&page=1&sprint=94ade6723438d94ecf0c00c3937dad55&sortBy=submissions&sprint_name=Love Babbar Sheet', 'https://www.geeksforgeeks.org/explore/?ref=ghm&page=1&sprint=50746f92a895c22a50504ac0c1fb9c84&sortBy=submissions&sprint_name=Top 50 Array Problems', 'https://www.geeksforgeeks.org/explore/?ref=ghm&page=1&sprint=57184072610b884e5df3584cc534115d&sortBy=submissions&sprint_name=Top 50 String Problems', 'https://www.geeksforgeeks.org/explore/?ref=ghm&page=1&sprint=93d672753b74440c7427214c8ebf866d&sortBy=submissions&sprint_name=Top 50 DP Problems', 'https://www.geeksforgeeks.org/explore/?ref=ghm&page=1&sprint=405e9db0f353691ad3b2d546b19145e9&sortBy=submissions&sprint_name=Top 50 Graph Problems', 'https://www.geeksforgeeks.org/explore/?ref=ghm&page=1&sprint=5f24de84b65bf7c4f4399c8111e26b81&sortBy=submissions&sprint_name=Top 50 Tree Problems', 'https://practice.geeksforgeeks.org/hackathon/world-cup-wizard?itm_source=geeksforgeeks&itm_medium=main_header&itm_campaign=hackathon', 'https://practice.geeksforgeeks.org/events/rec/interview-series?itm_source=geeksforgeeks&itm_medium=main_header&itm_campaign=contests', 'https://practice.geeksforgeeks.org/events/rec/job-a-thon?itm_source=geeksforgeeks&itm_medium=main_header&itm_campaign=contests', 'https://practice.geeksforgeeks.org/events/rec/step-up-coding-school?itm_source=geeksforgeeks&itm_medium=main_header&itm_campaign=contests', 'https://practice.geeksforgeeks.org/events?itm_source=geeksforgeeks&itm_medium=main_header&itm_campaign=contests', 'https://www.geeksforgeeks.org/category/guestblogs/?ref=ghm', 'https://www.geeksforgeeks.org/puzzles/?ref=ghm', 'https://www.geeksforgeeks.org/geeks-classes-geeksforgeeks/?ref=ghm', 'https://www.geeksforgeeks.org/trending/', 'https://www.geeksforgeeks.org/data-structures/', 'https://www.geeksforgeeks.org/fundamentals-of-algorithms/', 'https://www.geeksforgeeks.org/system-design-tutorial/', 'https://www.geeksforgeeks.org/courses/category/programming-languages?courseFeeType=paid&utm_source=geeksforgeeks&utm_medium=sub_header&utm_campaign=courses', 'https://www.geeksforgeeks.org/courses/data-science-live?itm_source=geeksforgeeks&itm_medium=gfg_submenu&itm_campaign=DS_Submenu', 'https://practice.geeksforgeeks.org/explore?page=1&sortBy=submissions', 'https://www.geeksforgeeks.org/python-programming-language/', 'https://www.geeksforgeeks.org/machine-learning/', 'https://www.geeksforgeeks.org/data-science-tutorial/', 'https://www.geeksforgeeks.org/django-tutorial/', 'https://www.geeksforgeeks.org/devops-tutorial/', 'https://www.geeksforgeeks.org/javascript/', 'https://www.geeksforgeeks.org/java/', 'https://www.geeksforgeeks.org/c-programming-language/', 'https://www.geeksforgeeks.org/c-plus-plus/', 'https://www.geeksforgeeks.org/learn-reactjs/', 'https://www.geeksforgeeks.org/nodejs/', 'https://www.geeksforgeeks.org/web-development/', 'https://www.geeksforgeeks.org/web-design/', 'https://www.geeksforgeeks.org/web-browser-a-complete-overview/', 'https://www.geeksforgeeks.org/courses/competitive-programming-live?itm_source=geeksforgeeks&itm_medium=gfg_submenu&itm_campaign=DS_Submenu', 'https://www.geeksforgeeks.org/aptitude-questions-and-answers/', 'https://www.geeksforgeeks.org/puzzles/', 'https://www.geeksforgeeks.org/computer-science-projects/', 'https://www.geeksforgeeks.org/learn-data-structures-and-algorithms-dsa-tutorial/', 'https://www.geeksforgeeks.org/software-design-patterns/', 'https://www.geeksforgeeks.org/software-development/', 'https://www.geeksforgeeks.org/seo-search-engine-optimization/', 'https://www.geeksforgeeks.org/product-management/', 'https://www.geeksforgeeks.org/sap-systems-applications-and-products/', 'https://www.geeksforgeeks.org/programming-tutorial/', 'https://www.geeksforgeeks.org/', 'https://www.facebook.com/geeksforgeeks.org/', 'https://www.instagram.com/geeks_for_geeks/', 'https://in.linkedin.com/company/geeksforgeeks', 'https://twitter.com/geeksforgeeks', 'https://www.youtube.com/geeksforgeeksvideos', 'https://geeksforgeeksapp.page.link/gfg-app', 'https://geeksforgeeksapp.page.link/gfg-app', 'https://www.geeksforgeeks.org/about/?ref=footer', 'https://www.geeksforgeeks.org/legal/?ref=footer', 'https://geeksforgeeks.zohorecruit.in/careers?ref=footer', 'https://www.geeksforgeeks.org/press-release/?ref=footer', 'https://www.geeksforgeeks.org/about/contact-us/?ref=footer', 'https://www.geeksforgeeks.org/advertise-with-us/?ref=footer', 'https://www.geeksforgeeks.org/gfg-corporate-solution/?ref=footer', 'https://www.geeksforgeeks.org/campus-training-program/?ref=footer', 'https://practice.geeksforgeeks.org/events/rec/job-a-thon/?ref=footer', 'https://practice.geeksforgeeks.org/events/rec/gfg-hackathon/?ref=footer', 'https://practice.geeksforgeeks.org/events/rec/gfg-weekly-coding-contest?utm_source=geeksforgeeks&utm_medium=footer&utm_campaign=gfgweekly/?ref=footer', 'https://www.geeksforgeeks.org/courses/category/all?courseType=offline&courseFeeType=all/?ref=footer', 'https://www.geeksforgeeks.org/courses/dsa-self-paced?utm_source=geeksforgeeks&utm_medium=footer&utm_campaign=course/?ref=footer', 'https://www.geeksforgeeks.org/courses/mastering-system-design-low-level-to-high-level-solutions?utm_source=geeksforgeeks&utm_medium=footer&utm_campaign=course/?ref=footer', 'https://www.geeksforgeeks.org/courses/competitive-programming-cp?utm_source=geeksforgeeks&utm_medium=footer&utm_campaign=course', 'https://www.geeksforgeeks.org/videos/?ref=footer', 'https://www.geeksforgeeks.org/community/?ref=footer', 'https://www.geeksforgeeks.org/introduction-to-programming-languages/?ref=footer', 'https://www.geeksforgeeks.org/python-programming-language/?ref=footer', 'https://www.geeksforgeeks.org/java/?ref=footer', 'https://www.geeksforgeeks.org/c-plus-plus/?ref=footer', 'https://www.geeksforgeeks.org/php-tutorials/?ref=footer', 'https://www.geeksforgeeks.org/golang/?ref=footer', 'https://www.geeksforgeeks.org/sql-tutorial/?ref=footer', 'https://www.geeksforgeeks.org/r-tutorial/?ref=footer', 'https://www.geeksforgeeks.org/android-tutorial/?ref=footer', 'https://www.geeksforgeeks.org/geeksforgeeks-online-tutorials-free/?ref=footer', 'https://www.geeksforgeeks.org/learn-data-structures-and-algorithms-dsa-tutorial/?ref=footer', 'https://www.geeksforgeeks.org/data-structures/?ref=footer', 'https://www.geeksforgeeks.org/fundamentals-of-algorithms/?ref=footer', 'https://www.geeksforgeeks.org/complete-guide-to-dsa-for-beginners/?ref=footer', 'https://www.geeksforgeeks.org/basic-coding-problems-in-dsa-for-beginners/?ref=footer', 'https://www.geeksforgeeks.org/complete-roadmap-to-learn-dsa-from-scratch/?ref=footer', 'https://www.geeksforgeeks.org/top-100-data-structure-and-algorithms-dsa-interview-questions-topic-wise/?ref=footer', 'https://www.geeksforgeeks.org/dsa-roadmap-for-beginner-to-advanced-by-sandeep-jain/?ref=footer', 'https://www.geeksforgeeks.org/geeksforgeeks-master-sheet-list-of-all-cheat-sheets/?ref=footer', 'https://www.geeksforgeeks.org/data-science-tutorial/?ref=footer', 'https://www.geeksforgeeks.org/data-science-for-beginners/?ref=footer', 'https://www.geeksforgeeks.org/machine-learning/?ref=footer', 'https://www.geeksforgeeks.org/machine-learning-mathematics/?ref=footer', 'https://www.geeksforgeeks.org/python-data-visualization-tutorial/?ref=footer', 'https://www.geeksforgeeks.org/pandas-tutorial/?ref=footer', 'https://www.geeksforgeeks.org/numpy-tutorial/?ref=footer', 'https://www.geeksforgeeks.org/natural-language-processing-nlp-tutorial/?ref=footer', 'https://www.geeksforgeeks.org/deep-learning-tutorial/?ref=footer', 'https://www.geeksforgeeks.org/html-css/?ref=footer', 'https://www.geeksforgeeks.org/html/?ref=footer', 'https://www.geeksforgeeks.org/css/?ref=footer', 'https://www.geeksforgeeks.org/html-and-css-template/?ref=footer', 'https://www.geeksforgeeks.org/css-framework/?ref=footer', 'https://www.geeksforgeeks.org/bootstrap/?ref=footer', 'https://www.geeksforgeeks.org/tailwind-css/?ref=footer', 'https://www.geeksforgeeks.org/sass/?ref=footer', 'https://www.geeksforgeeks.org/less/?ref=footer', 'https://www.geeksforgeeks.org/web-design/?ref=footer', 'https://www.geeksforgeeks.org/python-programming-language/?ref=footer', 'https://www.geeksforgeeks.org/python-programming-examples/?ref=footer', 'https://www.geeksforgeeks.org/django-tutorial/?ref=footer', 'https://www.geeksforgeeks.org/python-projects-beginner-to-advanced/?ref=footer', 'https://www.geeksforgeeks.org/python-tkinter-tutorial/?ref=footer', 'https://www.geeksforgeeks.org/python-web-scraping-tutorial/?ref=footer', 'https://www.geeksforgeeks.org/opencv-python-tutorial/?ref=footer', 'https://www.geeksforgeeks.org/python-interview-questions/?ref=footer', 'https://www.geeksforgeeks.org/gate-cs-notes-gq/?ref=footer', 'https://www.geeksforgeeks.org/gate-cs-notes-gq/?ref=footer', 'https://www.geeksforgeeks.org/operating-systems/?ref=footer', 'https://www.geeksforgeeks.org/computer-network-tutorials/?ref=footer', 'https://www.geeksforgeeks.org/dbms/?ref=footer', 'https://www.geeksforgeeks.org/software-engineering/?ref=footer', 'https://www.geeksforgeeks.org/digital-electronics-logic-design-tutorials/?ref=footer', 'https://www.geeksforgeeks.org/engineering-mathematics-tutorials/?ref=footer', 'https://www.geeksforgeeks.org/devops-tutorial/?ref=footer', 'https://www.geeksforgeeks.org/git-tutorial/?ref=footer', 'https://www.geeksforgeeks.org/aws-tutorial/?ref=footer', 'https://www.geeksforgeeks.org/docker-tutorial/?ref=footer', 'https://www.geeksforgeeks.org/kubernetes-tutorial/?ref=footer', 'https://www.geeksforgeeks.org/microsoft-azure/?ref=footer', 'https://www.geeksforgeeks.org/google-cloud-platform-tutorial/?ref=footer', 'https://www.google.com/url?q=https://www.geeksforgeeks.org/devops-roadmap/&sa=D&source=editors&ust=1701416052078352&usg=AOvVaw245Kv2yCnm71WLx-_R42Jz/?ref=footer', 'https://www.geeksforgeeks.org/competitive-programming-a-complete-guide/?ref=footer', 'https://www.geeksforgeeks.org/top-algorithms-and-data-structures-for-competitive-programming/?ref=footer', 'https://www.geeksforgeeks.org/top-50-tree-coding-problems-for-interviews?ref=footer', 'https://www.geeksforgeeks.org/top-50-graph-coding-problems-for-interviews/?ref=footer', 'https://www.geeksforgeeks.org/top-50-array-coding-problems-for-interviews/?ref=footer', 'https://www.geeksforgeeks.org/top-50-string-coding-problems-for-interviews/?ref=footer', 'https://www.geeksforgeeks.org/top-50-dynamic-programming-coding-problems-for-interviews/?ref=footer', 'https://www.geeksforgeeks.org/top-15-websites-for-coding-challenges-and-competitions/?ref=footer', 'https://www.geeksforgeeks.org/system-design-tutorial/?ref=footer', 'https://www.geeksforgeeks.org/what-is-high-level-design-learn-system-design/?ref=footer', 'https://www.geeksforgeeks.org/what-is-low-level-design-or-lld-learn-system-design/?ref=footer', 'https://www.geeksforgeeks.org/unified-modeling-language-uml-introduction/?ref=footer', 'https://www.geeksforgeeks.org/system-design-interview-guide/?ref=footer', 'https://www.geeksforgeeks.org/software-design-patterns/?ref=footer', 'https://www.geeksforgeeks.org/object-oriented-analysis-and-design/?ref=footer', 'https://www.geeksforgeeks.org/system-design-interview-bootcamp-guide/?ref=footer', 'https://www.geeksforgeeks.org/most-commonly-asked-system-design-interview-problems-questions/?ref=footer', 'https://www.geeksforgeeks.org/javascript/?ref=footer', 'https://www.geeksforgeeks.org/javascript-examples/?ref=footer', 'https://www.geeksforgeeks.org/typescript/?ref=footer', 'https://www.geeksforgeeks.org/learn-reactjs/?ref=footer', 'https://www.geeksforgeeks.org/nextjs/?ref=footer', 'https://www.geeksforgeeks.org/angularjs/?ref=footer', 'https://www.geeksforgeeks.org/nodejs/?ref=footer', 'https://www.geeksforgeeks.org/lodash/?ref=footer', 'https://www.geeksforgeeks.org/web-browser-a-complete-overview/?ref=footer', 'https://www.geeksforgeeks.org/ncert-solutions-for-class-12/?ref=footer', 'https://www.geeksforgeeks.org/ncert-solutions-for-class-11/?ref=footer', 'https://www.geeksforgeeks.org/ncert-solutions-for-class-10-maths/?ref=footer', 'https://www.geeksforgeeks.org/ncert-solutions-for-class-9-maths/?ref=footer', 'https://www.geeksforgeeks.org/ncert-solutions-for-class-8/?ref=footer', 'https://www.geeksforgeeks.org/geeksforgeeks-school/?ref=footer', 'https://www.geeksforgeeks.org/maths/?ref=footer', 'https://www.geeksforgeeks.org/physics/?ref=footer', 'https://www.geeksforgeeks.org/chemistry/?ref=footer', 'https://www.geeksforgeeks.org/biology/?ref=footer', 'https://www.geeksforgeeks.org/social-science/?ref=footer', 'https://www.geeksforgeeks.org/english-grammar/?ref=footer', 'https://www.geeksforgeeks.org/commerce/?ref=footer', 'https://www.geeksforgeeks.org/accountancy/?ref=footer', 'https://www.geeksforgeeks.org/business-studies/?ref=footer', 'https://www.geeksforgeeks.org/economics/?ref=footer', 'https://www.geeksforgeeks.org/management/?ref=footer', 'https://www.geeksforgeeks.org/human-resource-management-hrm/?ref=footer', 'https://www.geeksforgeeks.org/finance/?ref=footer', 'https://www.geeksforgeeks.org/income-tax/?ref=footer', 'https://www.geeksforgeeks.org/important-topics-in-polity-for-upsc/?ref=footer', 'https://www.geeksforgeeks.org/important-topics-of-geography-for-upsc/?ref=footer', 'https://www.geeksforgeeks.org/history-notes-for-upsc-exam/?ref=footer', 'https://www.geeksforgeeks.org/important-topics-of-science-and-technology-for-upsc/?ref=footer', 'https://www.geeksforgeeks.org/indian-economy-notes-upsc/?ref=footer', 'https://www.geeksforgeeks.org/important-topics-in-ethics-for-upsc/?ref=footer', 'https://www.geeksforgeeks.org/upsc-previous-year-question-paper-solutions/?ref=footer', 'https://www.geeksforgeeks.org/ssc-cgl-syllabus-2022/?ref=footer', 'https://www.geeksforgeeks.org/sbi-po-syllabus-2023/?ref=footer', 'https://www.geeksforgeeks.org/sbi-clerk-syllabus-2022/?ref=footer', 'https://www.geeksforgeeks.org/syllabus-of-ibps-po-2022/?ref=footer', 'https://www.geeksforgeeks.org/detailed-syllabus-of-ibps-clerk/?ref=footer', 'https://www.geeksforgeeks.org/ssc-cgl-practice-papers/?ref=footer', 'https://www.geeksforgeeks.org/colleges/?ref=footer', 'https://www.geeksforgeeks.org/indian-colleges-admission-and-campus-experiences/?ref=footer', 'https://www.geeksforgeeks.org/list-of-central-universities-in-india/?ref=footer', 'https://www.geeksforgeeks.org/list-of-colleges-in-delhi-university/?ref=footer', 'https://www.geeksforgeeks.org/list-of-iit-colleges-in-india/?ref=footer', 'https://www.geeksforgeeks.org/list-of-nit-colleges-in-india/?ref=footer', 'https://www.geeksforgeeks.org/list-of-iiit-colleges-in-india/?ref=footer', 'https://www.geeksforgeeks.org/companies/?ref=footer', 'https://www.geeksforgeeks.org/list-of-companies-owned-by-meta/?ref=footer', 'https://www.geeksforgeeks.org/list-of-companies-owned-by-alphabet/?ref=footer', 'https://www.geeksforgeeks.org/list-of-companies-owned-by-tata-group/?ref=footer', 'https://www.geeksforgeeks.org/list-of-companies-owned-by-reliance/?ref=footer', 'https://www.geeksforgeeks.org/list-of-fintech-companies/?ref=footer', 'https://www.geeksforgeeks.org/list-of-edtech-companies/?ref=footer', 'https://www.geeksforgeeks.org/technical-interview-preparation/?ref=footer', 'https://www.geeksforgeeks.org/company-wise-recruitment-process/?ref=footer', 'https://www.geeksforgeeks.org/free-resume-templates/?ref=footer', 'https://www.geeksforgeeks.org/aptitude-questions-and-answers/?ref=footer', 'https://www.geeksforgeeks.org/puzzles/?ref=footer', 'https://www.geeksforgeeks.org/company-preparation/?ref=footer', 'https://www.geeksforgeeks.org/jee-main-2024/?ref=footer', 'https://www.geeksforgeeks.org/jee-advanced/?ref=footer', 'https://www.geeksforgeeks.org/gate-cs-notes-gq/?ref=footer', 'https://www.geeksforgeeks.org/neet-2024/?ref=footer', 'https://www.geeksforgeeks.org/ugc-net-exam/?ref=footer', 'https://www.geeksforgeeks.org/software-development/?ref=footer', 'https://www.geeksforgeeks.org/software-testing-tutorial/?ref=footer', 'https://www.geeksforgeeks.org/product-management/?ref=footer', 'https://www.geeksforgeeks.org/sap-systems-applications-and-products/?ref=footer', 'https://www.geeksforgeeks.org/seo-search-engine-optimization/?ref=footer', 'https://www.geeksforgeeks.org/linux-tutorial/?ref=footer', 'https://www.geeksforgeeks.org/excel-tutorial/?ref=footer', 'https://www.geeksforgeeks.org/free-typing-test/?ref=footer', 'https://www.geeksforgeeks.org/online-image-editor/?ref=footer', 'https://www.geeksforgeeks.org/online-code-formatter/?ref=footer', 'https://www.geeksforgeeks.org/online-file-converters/?ref=footer', 'https://www.geeksforgeeks.org/currency-converter/?ref=footer', 'https://www.geeksforgeeks.org/random-number-generator/?ref=footer', 'https://www.geeksforgeeks.org/random-password-generator/?ref=footer', 'https://write.geeksforgeeks.org/?ref=footer', 'https://www.geeksforgeeks.org/how-to-improve-an-article/?ref=footer', 'https://write.geeksforgeeks.org/pick-article/?ref=footer', 'https://www.geeksforgeeks.org/share-your-experiences-on-geeksforgeeks/?ref=footer', 'https://write.geeksforgeeks.org/internship/?ref=footer', 'https://www.geeksforgeeks.org/', 'https://www.geeksforgeeks.org/copyright-information/', 'https://www.geeksforgeeks.org/cookie-policy/', 'https://www.geeksforgeeks.org/privacy-policy/']\n",
            "Headings: ['Data Structures and Algorithms', 'ML & Data Science', 'Web Development', 'Languages', 'Interview Corner', 'CS Subjects', 'Jobs', 'Practice', 'Contests']\n"
          ]
        }
      ]
    },
    {
      "cell_type": "code",
      "source": [],
      "metadata": {
        "id": "1ZCNW1HmCoI2"
      },
      "execution_count": null,
      "outputs": []
    },
    {
      "cell_type": "markdown",
      "source": [
        "# ***R***"
      ],
      "metadata": {
        "id": "0jrC8y8EGJHB"
      }
    },
    {
      "cell_type": "code",
      "source": [
        "\n",
        "library(tokenizers)\n",
        "\n",
        "text <- \"Wake up to reality. Nothing ever goes as planned in this world. The longer you live, the more you realize that only pain, suffering, and futility exist in this reality.\"\n",
        "\n",
        "sentences <- tokenize_sentences(text)\n",
        "print(\"Sentence Tokenization:\")\n",
        "print(sentences)\n",
        "\n",
        "words <- tokenize_words(text)\n",
        "print(\"\\nWord Tokenization:\")\n",
        "print(words)"
      ],
      "metadata": {
        "colab": {
          "base_uri": "https://localhost:8080/"
        },
        "id": "yksuD5q1GKk-",
        "outputId": "69b90414-b1ef-4b46-d434-570f074f3762"
      },
      "execution_count": 6,
      "outputs": [
        {
          "output_type": "stream",
          "name": "stdout",
          "text": [
            "[1] \"Sentence Tokenization:\"\n",
            "[[1]]\n",
            "[1] \"Wake up to reality.\"                                                                                     \n",
            "[2] \"Nothing ever goes as planned in this world.\"                                                             \n",
            "[3] \"The longer you live, the more you realize that only pain, suffering, and futility exist in this reality.\"\n",
            "\n",
            "[1] \"\\nWord Tokenization:\"\n",
            "[[1]]\n",
            " [1] \"wake\"      \"up\"        \"to\"        \"reality\"   \"nothing\"   \"ever\"     \n",
            " [7] \"goes\"      \"as\"        \"planned\"   \"in\"        \"this\"      \"world\"    \n",
            "[13] \"the\"       \"longer\"    \"you\"       \"live\"      \"the\"       \"more\"     \n",
            "[19] \"you\"       \"realize\"   \"that\"      \"only\"      \"pain\"      \"suffering\"\n",
            "[25] \"and\"       \"futility\"  \"exist\"     \"in\"        \"this\"      \"reality\"  \n",
            "\n"
          ]
        }
      ]
    },
    {
      "cell_type": "code",
      "source": [
        "word_freq <- table(words)\n",
        "print(word_freq)"
      ],
      "metadata": {
        "colab": {
          "base_uri": "https://localhost:8080/"
        },
        "id": "OzCsSrlQH4gh",
        "outputId": "1b432715-5347-479b-da0f-4d0fd36de482"
      },
      "execution_count": 7,
      "outputs": [
        {
          "output_type": "stream",
          "name": "stdout",
          "text": [
            "words\n",
            "      and        as      ever     exist  futility      goes        in      live \n",
            "        1         1         1         1         1         1         2         1 \n",
            "   longer      more   nothing      only      pain   planned   reality   realize \n",
            "        1         1         1         1         1         1         2         1 \n",
            "suffering      that       the      this        to        up      wake     world \n",
            "        1         1         2         2         1         1         1         1 \n",
            "      you \n",
            "        2 \n"
          ]
        }
      ]
    },
    {
      "cell_type": "code",
      "source": [
        "install.packages(\"tm\")\n",
        "library(tm)\n",
        "\n",
        "# Create a Corpus\n",
        "corpus <- Corpus(VectorSource(text))\n",
        "corpus <- tm_map(corpus, content_transformer(tolower))\n",
        "corpus <- tm_map(corpus, removePunctuation)\n",
        "corpus <- tm_map(corpus, removeNumbers)\n",
        "corpus <- tm_map(corpus, removeWords, stopwords(\"english\"))\n",
        "\n",
        "# Tokenize the text into words using the tokenizers package\n",
        "words <- unlist(sapply(corpus, words))\n",
        "\n",
        "# Print the result\n",
        "print(words)"
      ],
      "metadata": {
        "colab": {
          "base_uri": "https://localhost:8080/"
        },
        "id": "_rX8IxTdJTf1",
        "outputId": "5e0840c8-49de-4243-9cfc-1c97ede2f471"
      },
      "execution_count": 11,
      "outputs": [
        {
          "output_type": "stream",
          "name": "stderr",
          "text": [
            "Installing package into ‘/usr/local/lib/R/site-library’\n",
            "(as ‘lib’ is unspecified)\n",
            "\n",
            "also installing the dependency ‘BH’\n",
            "\n",
            "\n",
            "Loading required package: NLP\n",
            "\n",
            "Warning message in tm_map.SimpleCorpus(corpus, content_transformer(tolower)):\n",
            "“transformation drops documents”\n",
            "Warning message in tm_map.SimpleCorpus(corpus, removePunctuation):\n",
            "“transformation drops documents”\n",
            "Warning message in tm_map.SimpleCorpus(corpus, removeNumbers):\n",
            "“transformation drops documents”\n",
            "Warning message in tm_map.SimpleCorpus(corpus, removeWords, stopwords(\"english\")):\n",
            "“transformation drops documents”\n"
          ]
        },
        {
          "output_type": "stream",
          "name": "stdout",
          "text": [
            "      [,1]       \n",
            " [1,] \"wake\"     \n",
            " [2,] \"reality\"  \n",
            " [3,] \"nothing\"  \n",
            " [4,] \"ever\"     \n",
            " [5,] \"goes\"     \n",
            " [6,] \"planned\"  \n",
            " [7,] \"world\"    \n",
            " [8,] \"longer\"   \n",
            " [9,] \"live\"     \n",
            "[10,] \"realize\"  \n",
            "[11,] \"pain\"     \n",
            "[12,] \"suffering\"\n",
            "[13,] \"futility\" \n",
            "[14,] \"exist\"    \n",
            "[15,] \"reality\"  \n"
          ]
        }
      ]
    },
    {
      "cell_type": "code",
      "source": [
        "library(SnowballC)\n",
        "stemmed_words <- wordStem(words)\n",
        "print(stemmed_words)"
      ],
      "metadata": {
        "colab": {
          "base_uri": "https://localhost:8080/"
        },
        "id": "uDWQeoHeKZBH",
        "outputId": "aac1fd7a-836b-4199-ab57-2429c9d79c18"
      },
      "execution_count": 12,
      "outputs": [
        {
          "output_type": "stream",
          "name": "stdout",
          "text": [
            " [1] \"wake\"    \"realiti\" \"noth\"    \"ever\"    \"goe\"     \"plan\"    \"world\"  \n",
            " [8] \"longer\"  \"live\"    \"realiz\"  \"pain\"    \"suffer\"  \"futil\"   \"exist\"  \n",
            "[15] \"realiti\"\n"
          ]
        }
      ]
    },
    {
      "cell_type": "code",
      "source": [
        "\n",
        "# Lemmatization\n",
        "lemmatized_text <- tolower(text)\n",
        "lemmatized_text <- wordStem(lemmatized_text, language = \"en\")\n",
        "\n",
        "cat(\"Lemmatized Text:\", lemmatized_text, \"\\n\")"
      ],
      "metadata": {
        "colab": {
          "base_uri": "https://localhost:8080/"
        },
        "id": "CNboqh3VLWoC",
        "outputId": "ccb51535-6268-4eed-ce3c-b611ba04e47e"
      },
      "execution_count": 20,
      "outputs": [
        {
          "output_type": "stream",
          "name": "stdout",
          "text": [
            "Lemmatized Text: wake up to reality. nothing ever goes as planned in this world. the longer you live, the more you realize that only pain, suffering, and futility exist in this reality. \n"
          ]
        }
      ]
    },
    {
      "cell_type": "code",
      "source": [
        "install.packages(\"dplyr\")\n",
        "install.packages(\"stringr\")\n",
        "install.packages(\"udpipe\")\n",
        "install.packages(\"flextable\")\n",
        "install.packages(\"here\")\n",
        "# install klippy for copy-to-clipboard button in code chunks\n",
        "install.packages(\"remotes\")\n",
        "remotes::install_github(\"rlesur/klippy\")"
      ],
      "metadata": {
        "colab": {
          "base_uri": "https://localhost:8080/"
        },
        "id": "bDZZvWPoLaWA",
        "outputId": "aaeec99f-0faf-4ce8-d71e-cf3b061904e6"
      },
      "execution_count": 22,
      "outputs": [
        {
          "output_type": "stream",
          "name": "stderr",
          "text": [
            "Installing package into ‘/usr/local/lib/R/site-library’\n",
            "(as ‘lib’ is unspecified)\n",
            "\n",
            "Installing package into ‘/usr/local/lib/R/site-library’\n",
            "(as ‘lib’ is unspecified)\n",
            "\n",
            "Installing package into ‘/usr/local/lib/R/site-library’\n",
            "(as ‘lib’ is unspecified)\n",
            "\n",
            "Warning message in install.packages(\"udpipe\"):\n",
            "“installation of package ‘udpipe’ had non-zero exit status”\n",
            "Installing package into ‘/usr/local/lib/R/site-library’\n",
            "(as ‘lib’ is unspecified)\n",
            "\n",
            "also installing the dependencies ‘triebeard’, ‘httpuv’, ‘xtable’, ‘sourcetools’, ‘later’, ‘promises’, ‘urltools’, ‘httpcode’, ‘shiny’, ‘crul’, ‘fontBitstreamVera’, ‘fontLiberation’, ‘gfonts’, ‘fontquiver’, ‘officer’, ‘gdtools’\n",
            "\n",
            "\n",
            "Warning message in install.packages(\"flextable\"):\n",
            "“installation of package ‘triebeard’ had non-zero exit status”\n",
            "Warning message in install.packages(\"flextable\"):\n",
            "“installation of package ‘xtable’ had non-zero exit status”\n",
            "Warning message in install.packages(\"flextable\"):\n",
            "“installation of package ‘later’ had non-zero exit status”\n",
            "Warning message in install.packages(\"flextable\"):\n",
            "“installation of package ‘promises’ had non-zero exit status”\n",
            "Warning message in install.packages(\"flextable\"):\n",
            "“installation of package ‘urltools’ had non-zero exit status”\n",
            "Warning message in install.packages(\"flextable\"):\n",
            "“installation of package ‘httpuv’ had non-zero exit status”\n",
            "Warning message in install.packages(\"flextable\"):\n",
            "“installation of package ‘crul’ had non-zero exit status”\n",
            "Warning message in install.packages(\"flextable\"):\n",
            "“installation of package ‘shiny’ had non-zero exit status”\n",
            "Warning message in install.packages(\"flextable\"):\n",
            "“installation of package ‘gfonts’ had non-zero exit status”\n",
            "Warning message in install.packages(\"flextable\"):\n",
            "“installation of package ‘gdtools’ had non-zero exit status”\n",
            "Warning message in install.packages(\"flextable\"):\n",
            "“installation of package ‘flextable’ had non-zero exit status”\n",
            "Installing package into ‘/usr/local/lib/R/site-library’\n",
            "(as ‘lib’ is unspecified)\n",
            "\n",
            "Installing package into ‘/usr/local/lib/R/site-library’\n",
            "(as ‘lib’ is unspecified)\n",
            "\n",
            "Downloading GitHub repo rlesur/klippy@HEAD\n",
            "\n"
          ]
        },
        {
          "output_type": "stream",
          "name": "stdout",
          "text": [
            "assertthat (NA -> 0.2.1) [CRAN]\n"
          ]
        },
        {
          "output_type": "stream",
          "name": "stderr",
          "text": [
            "Installing 1 packages: assertthat\n",
            "\n",
            "Installing package into ‘/usr/local/lib/R/site-library’\n",
            "(as ‘lib’ is unspecified)\n",
            "\n"
          ]
        },
        {
          "output_type": "stream",
          "name": "stdout",
          "text": [
            "\u001b[36m──\u001b[39m \u001b[36mR CMD build\u001b[39m \u001b[36m─────────────────────────────────────────────────────────────────\u001b[39m\n",
            "* checking for file ‘/tmp/RtmpmI7PCD/remotes21755e56d9fc/RLesur-klippy-378c247/DESCRIPTION’ ... OK\n",
            "* preparing ‘klippy’:\n",
            "* checking DESCRIPTION meta-information ... OK\n",
            "* checking for LF line-endings in source and make files and shell scripts\n",
            "* checking for empty or unneeded directories\n",
            "Omitted ‘LazyData’ from DESCRIPTION\n",
            "* building ‘klippy_0.0.0.9500.tar.gz’\n",
            "\n"
          ]
        },
        {
          "output_type": "stream",
          "name": "stderr",
          "text": [
            "Installing package into ‘/usr/local/lib/R/site-library’\n",
            "(as ‘lib’ is unspecified)\n",
            "\n"
          ]
        }
      ]
    },
    {
      "cell_type": "code",
      "source": [
        "library(udpipe)\n",
        "parsed <- udpipe_annotate(ud_model, x = text)\n",
        "# Extract part-of-speech tags\n",
        "pos_tags <- as.data.frame(parsed)$upos\n",
        "\n",
        "# Print the part-of-speech tags\n",
        "print(pos_tags)"
      ],
      "metadata": {
        "colab": {
          "base_uri": "https://localhost:8080/",
          "height": 106
        },
        "id": "4EIl-y0-VPlz",
        "outputId": "3641c618-8b7a-4a3c-ab3b-a4b351e16011"
      },
      "execution_count": 24,
      "outputs": [
        {
          "output_type": "error",
          "ename": "ERROR",
          "evalue": "Error in library(udpipe): there is no package called ‘udpipe’\n",
          "traceback": [
            "Error in library(udpipe): there is no package called ‘udpipe’\nTraceback:\n",
            "1. library(udpipe)"
          ]
        }
      ]
    },
    {
      "cell_type": "code",
      "source": [
        "install.packages(\"rvest\")\n",
        "library(rvest)\n",
        "url <- 'https://www.google.com/'\n",
        "web_page <- read_html(url)\n",
        "web_text <- html_text(web_page)\n",
        "cat(\"Scraped Data from the Website:\\n\", web_text)\n"
      ],
      "metadata": {
        "colab": {
          "base_uri": "https://localhost:8080/"
        },
        "id": "cF-YuNyiWxjM",
        "outputId": "21abc915-2487-4af9-9cb6-335575a6a98d"
      },
      "execution_count": 29,
      "outputs": [
        {
          "output_type": "stream",
          "name": "stderr",
          "text": [
            "Installing package into ‘/usr/local/lib/R/site-library’\n",
            "(as ‘lib’ is unspecified)\n",
            "\n"
          ]
        },
        {
          "output_type": "stream",
          "name": "stdout",
          "text": [
            "Scraped Data from the Website:\n",
            " Google(function(){var _g={kEI:'GIXnZd63EY_ii-gP9be1gAU',kEXPI:'0,793344,572124,206,4804,1132070,1964,1195788,1010,316298,63430,44799,23792,12317,2817,14765,4998,55519,2872,2891,3926,4422,3406,606,29843,28443,2404,2614,13721,20583,4,57402,2215,27020,6654,7596,1,11943,30211,2,39761,6700,31122,4567,6256,24667,59707,8155,23351,8701,13734,9779,38677,3782,20198,44509,27679,991,3030,15816,1804,11488,9524,26070,476,1159,13493,16257,13713,5216105,6218,712,2,1643,584,3,56,5992679,2839003,6,60,8,4,23939344,2861630,1182080,16673,43886,3,318,4,1281,3,2121778,2585,22636437,392914,12799,8408,6578,9517,2,568,13023,3609,818,2942,6,7629,5878,14606,16386,1923,7290,3668,6407,2863,7668,3315,12952,2212,149,7832,201,1476,2,3219,3,26,3133,57,218,3,2106,3,2998,1628,1153,1720,5,126,5086,4153,1972,2246,300,162,2008,1342,9363,4,168,2,493,108,29,86,664,140,231,1202,3200,1813,3117,26,446,1248,2029,3609,5229,291,1503,359,56,241,294,1267,3,47,491,72,420,712,1195,924,322,283,279,351,390,156,389,10,7,2077,6,230,185,1499,849,57,148,4,800,325,233,25,40,587,50,364,4,2859,32,268,383,3705,713,102,36,253,10,118,418,207,2467,447,52,589,4,596,7,928,508,3,28,1101,9,77,234,14,568,3099,927,5,152,107,1408,813,3,4,225,1,15,143,222,57,66,685,290,14,227,377,4,143,219,106,2,3,625,119,358,2,535,98,337,96,41,28,262,94,605,319,206,1,121,61,349,183,159,514,213,124,607,268,215,1230,2,5,3,480,354,351,397,201,520,23,339,660,643,329,2735,1,21314929,365637,3,3771,1800,492,48,215,359,1122',kBL:'S_cC',kOPI:89978449};(function(){var a;(null==(a=window.google)?0:a.stvsc)?google.kEI=_g.kEI:window.google=_g;}).call(this);})();(function(){google.sn='webhp';google.kHL='nl';})();(function(){\n",
            "var h=this||self;function l(){return void 0!==window.google&&void 0!==window.google.kOPI&&0!==window.google.kOPI?window.google.kOPI:null};var m,n=[];function p(a){for(var b;a&&(!a.getAttribute||!(b=a.getAttribute(\"eid\")));)a=a.parentNode;return b||m}function q(a){for(var b=null;a&&(!a.getAttribute||!(b=a.getAttribute(\"leid\")));)a=a.parentNode;return b}function r(a){/^http:/i.test(a)&&\"https:\"===window.location.protocol&&(google.ml&&google.ml(Error(\"a\"),!1,{src:a,glmm:1}),a=\"\");return a}\n",
            "function t(a,b,c,d,k){var e=\"\";-1===b.search(\"&ei=\")&&(e=\"&ei=\"+p(d),-1===b.search(\"&lei=\")&&(d=q(d))&&(e+=\"&lei=\"+d));d=\"\";var g=-1===b.search(\"&cshid=\")&&\"slh\"!==a,f=[];f.push([\"zx\",Date.now().toString()]);h._cshid&&g&&f.push([\"cshid\",h._cshid]);c=c();null!=c&&f.push([\"opi\",c.toString()]);for(c=0;c<f.length;c++){if(0===c||0<c)d+=\"&\";d+=f[c][0]+\"=\"+f[c][1]}return\"/\"+(k||\"gen_204\")+\"?atyp=i&ct=\"+String(a)+\"&cad=\"+(b+e+d)};m=google.kEI;google.getEI=p;google.getLEI=q;google.ml=function(){return null};google.log=function(a,b,c,d,k,e){e=void 0===e?l:e;c||(c=t(a,b,e,d,k));if(c=r(c)){a=new Image;var g=n.length;n[g]=a;a.onerror=a.onload=a.onabort=function(){delete n[g]};a.src=c}};google.logUrl=function(a,b){b=void 0===b?l:b;return t(\"\",a,b)};}).call(this);(function(){google.y={};google.sy=[];google.x=function(a,b){if(a)var c=a.id;else{do c=Math.random();while(google.y[c])}google.y[c]=[a,b];return!1};google.sx=function(a){google.sy.push(a)};google.lm=[];google.plm=function(a){google.lm.push.apply(google.lm,a)};google.lq=[];google.load=function(a,b,c){google.lq.push([[a],b,c])};google.loadAll=function(a,b){google.lq.push([a,b])};google.bx=!1;google.lx=function(){};var d=[];google.fce=function(a,b,c,e){d.push([a,b,c,e])};google.qce=d;}).call(this);google.f={};(function(){\n",
            "document.documentElement.addEventListener(\"submit\",function(b){var a;if(a=b.target){var c=a.getAttribute(\"data-submitfalse\");a=\"1\"===c||\"q\"===c&&!a.elements.q.value?!0:!1}else a=!1;a&&(b.preventDefault(),b.stopPropagation())},!0);document.documentElement.addEventListener(\"click\",function(b){var a;a:{for(a=b.target;a&&a!==document.documentElement;a=a.parentElement)if(\"A\"===a.tagName){a=\"1\"===a.getAttribute(\"data-nohref\");break a}a=!1}a&&b.preventDefault()},!0);}).call(this);#gbar,#guser{font-size:13px;padding-top:1px !important;}#gbar{height:22px}#guser{padding-bottom:7px !important;text-align:right}.gbh,.gbd{border-top:1px solid #c9d7f1;font-size:1px}.gbh{height:0;position:absolute;top:24px;width:100%}@media all{.gb1{height:22px;margin-right:.5em;vertical-align:top}#gbar{float:left}}a.gb1,a.gb4{text-decoration:underline !important}a.gb1,a.gb4{color:#00c !important}.gbi .gb4{color:#dd8e27 !important}.gbf .gb4{color:#900 !important}\n",
            "body,td,a,p,.h{font-family:arial,sans-serif}body{margin:0;overflow-y:scroll}#gog{padding:3px 8px 0}td{line-height:.8em}.gac_m td{line-height:17px}form{margin-bottom:20px}.h{color:#1967d2}em{font-weight:bold;font-style:normal}.lst{height:25px;width:496px}.gsfi,.lst{font:18px arial,sans-serif}.gsfs{font:17px arial,sans-serif}.ds{display:inline-box;display:inline-block;margin:3px 0 4px;margin-left:4px}input{font-family:inherit}body{background:#fff;color:#000}a{color:#681da8;text-decoration:none}a:hover,a:active{text-decoration:underline}.fl a{color:#1967d2}a:visited{color:#681da8}.sblc{padding-top:5px}.sblc a{display:block;margin:2px 0;margin-left:13px;font-size:11px}.lsbb{background:#f8f9fa;border:solid 1px;border-color:#dadce0 #70757a #70757a #dadce0;height:30px}.lsbb{display:block}#WqQANb a{display:inline-block;margin:0 12px}.lsb{background:url(/images/nav_logo229.png) 0 -261px repeat-x;color:#000;border:none;cursor:pointer;height:30px;margin:0;outline:0;font:15px arial,sans-serif;vertical-align:top}.lsb:active{background:#dadce0}.lst:focus{outline:none}(function(){window.google.erd={jsr:1,bv:1965,de:true};\n",
            "var h=this||self;var k,l=null!=(k=h.mei)?k:1,n,p=null!=(n=h.sdo)?n:!0,q=0,r,t=google.erd,v=t.jsr;google.ml=function(a,b,d,m,e){e=void 0===e?2:e;b&&(r=a&&a.message);void 0===d&&(d={});d.cad=\"ple_\"+google.ple+\".aple_\"+google.aple;if(google.dl)return google.dl(a,e,d),null;b=d;if(0>v){window.console&&console.error(a,b);if(-2===v)throw a;b=!1}else b=!a||!a.message||\"Error loading script\"===a.message||q>=l&&!m?!1:!0;if(!b)return null;q++;d=d||{};b=encodeURIComponent;var c=\"/gen_204?atyp=i&ei=\"+b(google.kEI);google.kEXPI&&(c+=\"&jexpid=\"+b(google.kEXPI));c+=\"&srcpg=\"+b(google.sn)+\"&jsr=\"+b(t.jsr)+\"&bver=\"+\n",
            "b(t.bv);var f=a.lineNumber;void 0!==f&&(c+=\"&line=\"+f);var g=a.fileName;g&&(0<g.indexOf(\"-extension:/\")&&(e=3),c+=\"&script=\"+b(g),f&&g===window.location.href&&(f=document.documentElement.outerHTML.split(\"\\n\")[f],c+=\"&cad=\"+b(f?f.substring(0,300):\"No script found.\")));google.ple&&1===google.ple&&(e=2);c+=\"&jsel=\"+e;for(var u in d)c+=\"&\",c+=b(u),c+=\"=\",c+=b(d[u]);c=c+\"&emsg=\"+b(a.name+\": \"+a.message);c=c+\"&jsst=\"+b(a.stack||\"N/A\");12288<=c.length&&(c=c.substr(0,12288));a=c;m||google.log(0,\"\",a);return a};window.onerror=function(a,b,d,m,e){r!==a&&(a=e instanceof Error?e:Error(a),void 0===d||\"lineNumber\"in a||(a.lineNumber=d),void 0===b||\"fileName\"in a||(a.fileName=b),google.ml(a,!1,void 0,!1,\"SyntaxError\"===a.name||\"SyntaxError\"===a.message.substring(0,11)||-1!==a.message.indexOf(\"Script error\")?3:0));r=null;p&&q>=l&&(window.onerror=null)};})();(function(){var src='/images/nav_logo229.png';var iesg=false;document.body.onload = function(){window.n && window.n();if (document.images){new Image().src=src;}\n",
            "if (!iesg){document.f&&document.f.q.focus();document.gbqf&&document.gbqf.q.focus();}\n",
            "}\n",
            "})();Zoeken Afbeeldingen Maps Play YouTube Nieuws Gmail Drive Meer »Webgeschiedenis | Instellingen | Inloggen (function(){var id='tsuid_1';document.getElementById(id).onclick = function(){if (this.form.q.value){this.checked = 1;if (this.form.iflsig)this.form.iflsig.disabled = false;}\n",
            "else top.location='/doodles/';};})();Geavanceerd zoeken(function(){var a,b=\"1\";if(document&&document.getElementById)if(\"undefined\"!=typeof XMLHttpRequest)b=\"2\";else if(\"undefined\"!=typeof ActiveXObject){var c,d,e=[\"MSXML2.XMLHTTP.6.0\",\"MSXML2.XMLHTTP.3.0\",\"MSXML2.XMLHTTP\",\"Microsoft.XMLHTTP\"];for(c=0;d=e[c++];)try{new ActiveXObject(d),b=\"2\"}catch(h){}}a=b;if(\"2\"==a&&-1==location.search.indexOf(\"&gbv=2\")){var f=google.gbvu,g=document.getElementById(\"gbv\");g&&(g.value=a);f&&window.setTimeout(function(){location.href=f},0)};}).call(this);#gws-output-pages-elements-homepage_additional_languages__als{font-size:small;margin-bottom:24px}#SIvCob{color:#3c4043;display:inline-block;line-height:28px;}#SIvCob a{padding:0 3px;}.H6sW5{display:inline-block;margin:0 2px;white-space:nowrap}.z4hgWe{display:inline-block;margin:0 2px}Google aangeboden in:  Frysk  AdverterenBedrijfsoplossingenAlles over GoogleGoogle.nl© 2024 - Privacy - Voorwaarden(function(){window.google.cdo={height:757,width:1440};(function(){var a=window.innerWidth,b=window.innerHeight;if(!a||!b){var c=window.document,d=\"CSS1Compat\"==c.compatMode?c.documentElement:c.body;a=d.clientWidth;b=d.clientHeight}\n",
            "if(a&&b&&(a!=google.cdo.width||b!=google.cdo.height)){var e=google,f=e.log,g=\"/client_204?&atyp=i&biw=\"+a+\"&bih=\"+b+\"&ei=\"+google.kEI,h=\"\",k=[],l=void 0!==window.google&&void 0!==window.google.kOPI&&0!==window.google.kOPI?window.google.kOPI:null;null!=l&&k.push([\"opi\",l.toString()]);for(var m=0;m<k.length;m++){if(0===m||0<m)h+=\"&\";h+=k[m][0]+\"=\"+k[m][1]}f.call(e,\"\",\"\",g+h)};}).call(this);})();(function(){google.xjs={ck:'xjs.hp.2L2D0I172qU.L.X.O',combam:'AAAAAAAAAAAAAAAAAAAAAAAAAAABAAAAAABwAAAAAUAAAACAAQAAAAAAAIAA4CA6AoABOAIAAC8',cs:'ACT90oGCwioN1zbvsMjZx_G01KiSxQ_Dgg',cssam:'AAAAAAAAAAAAAAAAAAAAAAAAAAAAAAAAAAAAAAAAAUAAAAAAAAAAAAAAAIA',cssopt:true,csss:'ACT90oHATmjvJgCVwjtC9frysaTlM2DFEg',excm:[],jsam:'AAAAAAAAAAAAAAAAAAAAAAAAAAABAAAAAABwAAAAAAAAAACAAQAAAAAAAAAA4CA6AoABOAIAAC8',jss:'ACT90oGxe9zdmIIknDgv-hKghoSaJBHaMQ',noinlinecss:false,sepam:true,sepcss:true};})();(function(){var u='/xjs/_/js/k\\x3dxjs.hp.en.9AC7fcv4Lwo.O/am\\x3dAAAAAAAAAAAAAAAAAAAAAAAAAAABAAAAAABwAAAAAUAAAACAAQAAAAAAAIAA4CA6AoABOAIAAC8/d\\x3d1/ed\\x3d1/rs\\x3dACT90oG-5jyCPtxM6R0lH0HogrMLtpdJwg/m\\x3dsb_he,d';var amd=0;\n",
            "var e=this||self,f=function(a){return a};var g;var h=function(a){this.g=a};h.prototype.toString=function(){return this.g+\"\"};var k={};var l=function(){var a=document;var b=\"SCRIPT\";\"application/xhtml+xml\"===a.contentType&&(b=b.toLowerCase());return a.createElement(b)};\n",
            "function m(a,b){a.src=b instanceof h&&b.constructor===h?b.g:\"type_error:TrustedResourceUrl\";var c,d;(c=(b=null==(d=(c=(a.ownerDocument&&a.ownerDocument.defaultView||window).document).querySelector)?void 0:d.call(c,\"script[nonce]\"))?b.nonce||b.getAttribute(\"nonce\")||\"\":\"\")&&a.setAttribute(\"nonce\",c)};function n(a){a=null===a?\"null\":void 0===a?\"undefined\":a;if(void 0===g){var b=null;var c=e.trustedTypes;if(c&&c.createPolicy){try{b=c.createPolicy(\"goog#html\",{createHTML:f,createScript:f,createScriptURL:f})}catch(d){e.console&&e.console.error(d.message)}g=b}else g=b}a=(b=g)?b.createScriptURL(a):a;return new h(a,k)};void 0===google.ps&&(google.ps=[]);function p(){var a=u,b=function(){};google.lx=google.stvsc?b:function(){q(a);google.lx=b};google.bx||google.lx()}function r(a,b){b&&m(a,n(b));var c=a.onload;a.onload=function(d){c&&c(d);google.ps=google.ps.filter(function(t){return a!==t})};google.ps.push(a);document.body.appendChild(a)}google.as=r;function q(a){google.timers&&google.timers.load&&google.tick&&google.tick(\"load\",\"xjsls\");var b=l();b.onerror=function(){google.ple=1};b.onload=function(){google.ple=0};google.xjsus=void 0;r(b,a);google.aple=-1;google.psa=!0};google.xjsu=u;e._F_jsUrl=u;setTimeout(function(){0<amd?google.caft(function(){return p()},amd):p()},0);})();window._ = window._ || {};window._DumpException = _._DumpException = function(e){throw e;};window._s = window._s || {};_s._DumpException = _._DumpException;window._qs = window._qs || {};_qs._DumpException = _._DumpException;(function(){var t=[1,4,0,0,0,1280,0,4124,2113537,134610944,67108864,2621440,37363936,149030400,49283072];window._F_toggles = window._xjs_toggles = t;})();function _F_installCss(c){}\n",
            "(function(){google.jl={bfl:0,dw:false,dwu:true,emtn:0,ico:false,ikb:0,ine:false,lls:'default',snet:true,ubm:false,uwp:true};})();(function(){var pmc='{\\x22d\\x22:{},\\x22sb_he\\x22:{\\x22agen\\x22:false,\\x22cgen\\x22:false,\\x22client\\x22:\\x22heirloom-hp\\x22,\\x22dh\\x22:true,\\x22ds\\x22:\\x22\\x22,\\x22fl\\x22:true,\\x22host\\x22:\\x22google.com\\x22,\\x22jsonp\\x22:true,\\x22msgs\\x22:{\\x22cibl\\x22:\\x22Zoekopdracht wissen\\x22,\\x22dym\\x22:\\x22Bedoelde je:\\x22,\\x22lcky\\x22:\\x22Ik doe een gok\\x22,\\x22lml\\x22:\\x22Meer informatie\\x22,\\x22psrc\\x22:\\x22Deze zoekopdracht is verwijderd uit je \\\\u003Ca href\\x3d\\\\\\x22/history\\\\\\x22\\\\u003EWebgeschiedenis\\\\u003C/a\\\\u003E\\x22,\\x22psrl\\x22:\\x22Verwijderen\\x22,\\x22sbit\\x22:\\x22Zoeken op afbeelding\\x22,\\x22srch\\x22:\\x22Google Zoeken\\x22},\\x22ovr\\x22:{},\\x22pq\\x22:\\x22\\x22,\\x22rfs\\x22:[],\\x22sbas\\x22:\\x220 3px 8px 0 rgba(0,0,0,0.2),0 0 0 1px rgba(0,0,0,0.08)\\x22,\\x22stok\\x22:\\x221fNGzk1PH53_eO7m1vMuQDFyTZU\\x22}}';google.pmc=JSON.parse(pmc);})();(function(){var b=function(a){var c=0;return function(){return c<a.length?{done:!1,value:a[c++]}:{done:!0}}};\n",
            "var e=this||self;var g,h;a:{for(var k=[\"CLOSURE_FLAGS\"],l=e,n=0;n<k.length;n++)if(l=l[k[n]],null==l){h=null;break a}h=l}var p=h&&h[610401301];g=null!=p?p:!1;var q,r=e.navigator;q=r?r.userAgentData||null:null;function t(a){return g?q?q.brands.some(function(c){return(c=c.brand)&&-1!=c.indexOf(a)}):!1:!1}function u(a){var c;a:{if(c=e.navigator)if(c=c.userAgent)break a;c=\"\"}return-1!=c.indexOf(a)};function v(){return g?!!q&&0<q.brands.length:!1}function w(){return u(\"Safari\")&&!(x()||(v()?0:u(\"Coast\"))||(v()?0:u(\"Opera\"))||(v()?0:u(\"Edge\"))||(v()?t(\"Microsoft Edge\"):u(\"Edg/\"))||(v()?t(\"Opera\"):u(\"OPR\"))||u(\"Firefox\")||u(\"FxiOS\")||u(\"Silk\")||u(\"Android\"))}function x(){return v()?t(\"Chromium\"):(u(\"Chrome\")||u(\"CriOS\"))&&!(v()?0:u(\"Edge\"))||u(\"Silk\")}function y(){return u(\"Android\")&&!(x()||u(\"Firefox\")||u(\"FxiOS\")||(v()?0:u(\"Opera\"))||u(\"Silk\"))};var z=v()?!1:u(\"Trident\")||u(\"MSIE\");y();x();w();Object.freeze(new function(){});Object.freeze(new function(){});var A=!z&&!w(),D=function(a){if(/-[a-z]/.test(\"ved\"))return null;if(A&&a.dataset){if(y()&&!(\"ved\"in a.dataset))return null;a=a.dataset.ved;return void 0===a?null:a}return a.getAttribute(\"data-\"+\"ved\".replace(/([A-Z])/g,\"-$1\").toLowerCase())};var E=[],F=null;function G(a){a=a.target;var c=performance.now(),f=[],H=f.concat,d=E;if(!(d instanceof Array)){var m=\"undefined\"!=typeof Symbol&&Symbol.iterator&&d[Symbol.iterator];if(m)d=m.call(d);else if(\"number\"==typeof d.length)d={next:b(d)};else throw Error(\"a`\"+String(d));for(var B=[];!(m=d.next()).done;)B.push(m.value);d=B}E=H.call(f,d,[c]);if(a&&a instanceof HTMLElement)if(a===F){if(c=4<=E.length)c=5>(E[E.length-1]-E[E.length-4])/1E3;if(c){c=google.getEI(a);a.hasAttribute(\"data-ved\")?f=a?D(a)||\"\":\"\":f=(f=\n",
            "a.closest(\"[data-ved]\"))?D(f)||\"\":\"\";f=f||\"\";if(a.hasAttribute(\"jsname\"))a=a.getAttribute(\"jsname\");else{var C;a=null==(C=a.closest(\"[jsname]\"))?void 0:C.getAttribute(\"jsname\")}google.log(\"rcm\",\"&ei=\"+c+\"&ved=\"+f+\"&jsname=\"+(a||\"\"))}}else F=a,E=[c]}window.document.addEventListener(\"DOMContentLoaded\",function(){document.body.addEventListener(\"click\",G)});}).call(this);"
          ]
        }
      ]
    },
    {
      "cell_type": "code",
      "source": [],
      "metadata": {
        "id": "cg8MTgWnXM8z"
      },
      "execution_count": null,
      "outputs": []
    }
  ]
}
