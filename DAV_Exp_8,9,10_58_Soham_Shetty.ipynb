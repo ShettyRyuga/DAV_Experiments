{
  "nbformat": 4,
  "nbformat_minor": 0,
  "metadata": {
    "colab": {
      "provenance": [],
      "authorship_tag": "ABX9TyMg5jbRiVUIgGH16ClT2VeX",
      "include_colab_link": true
    },
    "kernelspec": {
      "name": "python3",
      "display_name": "Python 3"
    },
    "language_info": {
      "name": "python"
    }
  },
  "cells": [
    {
      "cell_type": "markdown",
      "metadata": {
        "id": "view-in-github",
        "colab_type": "text"
      },
      "source": [
        "<a href=\"https://colab.research.google.com/github/ShettyRyuga/DAV_Experiments/blob/main/DAV_Exp_8%2C9%2C10_58_Soham_Shetty.ipynb\" target=\"_parent\"><img src=\"https://colab.research.google.com/assets/colab-badge.svg\" alt=\"Open In Colab\"/></a>"
      ]
    },
    {
      "cell_type": "markdown",
      "source": [
        "Data visualization is the presentation of data in a pictorial or graphical format.\n",
        "\n",
        "### What is D3.js?\n",
        "D3.js is a JavaScript library used to create interactive visualizations in the browser. The D3.js library allows us to manipulate elements of a webpage in the context of a data set. These elements can be HTML, SVG, or Canvas elements and can be introduced, removed, or edited according to the contents of the data set. It is a library for manipulating the DOM objects. D3.js can be a valuable aid in data exploration, it gives you control over your data's representation and lets you add interactivity.\n",
        "\n",
        "D3.js Features\n",
        "D3.js is one of the best data visualization framework and it can be used to generate simple as well as complex visualizations along with user interaction and transition effects. Some of its salient features are listed below −\n",
        "\n",
        "* Extremely flexible.\n",
        "* Easy to use and fast.\n",
        "* Supports large datasets.\n",
        "* Declarative programming.\n",
        "* Code reusability.\n",
        "* Has wide variety of curve generating functions.\n",
        "* Associates data to an element or group of elements in the html page."
      ],
      "metadata": {
        "id": "yjFxUp3EQs-G"
      }
    },
    {
      "cell_type": "code",
      "execution_count": null,
      "metadata": {
        "colab": {
          "base_uri": "https://localhost:8080/",
          "height": 580
        },
        "id": "owKi7modPcqn",
        "outputId": "b5130e39-aa0b-4773-eec1-073d6fcab203"
      },
      "outputs": [
        {
          "output_type": "display_data",
          "data": {
            "text/plain": [
              "<IPython.core.display.HTML object>"
            ],
            "text/html": [
              "<!DOCTYPE html>\n",
              "<html lang = \"en\">\n",
              "   <head>\n",
              "      <meta charset = \"UTF-8\">\n",
              "      <title></title>\n",
              "   </head>\n",
              "\n",
              "   <body>\n",
              "   <h1> Soham </h1>\n",
              "   <svg width = \"500\" height = \"500\">\n",
              "   <rect x = \"0\" y = \"0\" width = \"300\" height = \"200\" fill = \"yellow\"></rect>\n",
              "</svg>\n",
              "   </body>\n",
              "</html>\n"
            ]
          },
          "metadata": {}
        }
      ],
      "source": [
        "%%HTML\n",
        "<!DOCTYPE html>\n",
        "<html lang = \"en\">\n",
        "   <head>\n",
        "      <meta charset = \"UTF-8\">\n",
        "      <title></title>\n",
        "   </head>\n",
        "\n",
        "   <body>\n",
        "   <h1> Soham </h1>\n",
        "   <svg width = \"500\" height = \"500\">\n",
        "   <rect x = \"0\" y = \"0\" width = \"300\" height = \"200\" fill = \"yellow\"></rect>\n",
        "</svg>\n",
        "   </body>\n",
        "</html>"
      ]
    },
    {
      "cell_type": "markdown",
      "source": [
        "D3.js helps to select elements from the HTML page using the following two methods −\n",
        "\n",
        "select() − Selects only one DOM element by matching the given CSS selector. If there are more than one elements for the given CSS selector, it selects the first one only.\n",
        "\n",
        "selectAll() − Selects all DOM elements by matching the given CSS selector. If you are familiar with selecting elements with jQuery, D3.js selectors are almost the same."
      ],
      "metadata": {
        "id": "e4vbwvzyViXP"
      }
    },
    {
      "cell_type": "code",
      "source": [
        "%%html\n",
        "<!DOCTYPE html>\n",
        "<html>\n",
        "   <head>\n",
        "      <script type = \"text/javascript\" src = \"https://d3js.org/d3.v4.min.js\"></script>\n",
        "   </head>\n",
        "\n",
        "   <body>\n",
        "      <div class = \"myclass\" >\n",
        "         Hello World!\n",
        "      </div>\n",
        "\n",
        "      <script>\n",
        "         d3.select(\"div\").text();\n",
        "         d3.select(\".myclass\").text();\n",
        "      </script>\n",
        "   </body>\n",
        "</html>\n"
      ],
      "metadata": {
        "colab": {
          "base_uri": "https://localhost:8080/",
          "height": 34
        },
        "id": "ykJG6g_TPnxE",
        "outputId": "2e441769-fe0f-4e0a-b4bc-e08ffb406c07"
      },
      "execution_count": null,
      "outputs": [
        {
          "output_type": "display_data",
          "data": {
            "text/plain": [
              "<IPython.core.display.HTML object>"
            ],
            "text/html": [
              "<!DOCTYPE html>\n",
              "<html>\n",
              "   <head>\n",
              "      <script type = \"text/javascript\" src = \"https://d3js.org/d3.v4.min.js\"></script>\n",
              "   </head>\n",
              "\n",
              "   <body>\n",
              "      <div class = \"myclass\" >\n",
              "         Hello World!    \n",
              "      </div>\n",
              "      \n",
              "      <script>\n",
              "         d3.select(\"div\").text();\n",
              "         d3.select(\".myclass\").text();\n",
              "      </script>\n",
              "   </body>\n",
              "</html>\n"
            ]
          },
          "metadata": {}
        }
      ]
    },
    {
      "cell_type": "markdown",
      "source": [
        "Adding DOM Elements\n",
        "\n",
        "%%The append() Method"
      ],
      "metadata": {
        "id": "iPMSG1kjXatG"
      }
    },
    {
      "cell_type": "code",
      "source": [
        "%%HTML\n",
        "\n",
        "\n",
        "<!DOCTYPE html>\n",
        "<html>\n",
        "   <head>\n",
        "      <script type = \"text/javascript\" src = \"https://d3js.org/d3.v4.min.js\"></script>\n",
        "   </head>\n",
        "\n",
        "   <body>\n",
        "\n",
        "      <div class = \"myclass\">\n",
        "         Hello World!\n",
        "      </div>\n",
        "\n",
        "      <script>\n",
        "         d3.select(\"div.myclass\").append(\"span\").text(\" from D3.js\");\n",
        "      </script>\n",
        "   </body>\n",
        "</html>\n"
      ],
      "metadata": {
        "colab": {
          "base_uri": "https://localhost:8080/",
          "height": 34
        },
        "id": "8Uz_WRo5TS43",
        "outputId": "d7039c29-5f54-41f0-f0a2-0e1c03629538"
      },
      "execution_count": null,
      "outputs": [
        {
          "output_type": "display_data",
          "data": {
            "text/plain": [
              "<IPython.core.display.HTML object>"
            ],
            "text/html": [
              " \n",
              "\n",
              "<!DOCTYPE html>\n",
              "<html>\n",
              "   <head>\n",
              "      <script type = \"text/javascript\" src = \"https://d3js.org/d3.v4.min.js\"></script>\n",
              "   </head>\n",
              "\n",
              "   <body>\n",
              "     \n",
              "      <div class = \"myclass\">\n",
              "         Hello World!\n",
              "      </div>\n",
              "      \n",
              "      <script>\n",
              "         d3.select(\"div.myclass\").append(\"span\").text(\" from D3.js\");\n",
              "      </script>\n",
              "   </body>\n",
              "</html>\n"
            ]
          },
          "metadata": {}
        }
      ]
    },
    {
      "cell_type": "markdown",
      "source": [
        "Here we are using element select to append a text \" from D3.js \" in a span tag using script tag(javascript)\n"
      ],
      "metadata": {
        "id": "A6t4m4s7ajEu"
      }
    },
    {
      "cell_type": "code",
      "source": [
        "%%html\n",
        "<!DOCTYPE html>\n",
        "<html>\n",
        "   <head>\n",
        "      <script type = \"text/javascript\" src = \"https://d3js.org/d3.v4.min.js\"></script>\n",
        "   </head>\n",
        "<body>\n",
        "      <div class = \"myclass\">\n",
        "         Hello World!\n",
        "      </div>\n",
        "\n",
        "      <script>\n",
        "         d3.select(\".myclass\").attr(\"style\", \"color: red\");\n",
        "      </script>\n",
        "   </body>\n",
        "  </html>"
      ],
      "metadata": {
        "colab": {
          "base_uri": "https://localhost:8080/",
          "height": 34
        },
        "id": "AAkxTBArX_5X",
        "outputId": "ec6f08b5-c688-408d-9375-09bb347130e7"
      },
      "execution_count": null,
      "outputs": [
        {
          "output_type": "display_data",
          "data": {
            "text/plain": [
              "<IPython.core.display.HTML object>"
            ],
            "text/html": [
              "<!DOCTYPE html>\n",
              "<html>\n",
              "   <head>\n",
              "      <script type = \"text/javascript\" src = \"https://d3js.org/d3.v4.min.js\"></script>\n",
              "   </head>\n",
              "<body>\n",
              "      <div class = \"myclass\">\n",
              "         Hello World!\n",
              "      </div>\n",
              "      \n",
              "      <script>\n",
              "         d3.select(\".myclass\").attr(\"style\", \"color: red\");\n",
              "      </script>\n",
              "   </body>\n",
              "  </html>\n"
            ]
          },
          "metadata": {}
        }
      ]
    },
    {
      "cell_type": "markdown",
      "source": [
        "using the attr() method we can add styles and more attributes to the select tag\n",
        "an alterantive is .style() method which can be used similarly"
      ],
      "metadata": {
        "id": "MkJzTX0tbyzn"
      }
    },
    {
      "cell_type": "code",
      "source": [
        "%%html\n",
        "<!DOCTYPE html>\n",
        "<html>\n",
        "   <head>\n",
        "      <script type = \"text/javascript\" src = \"https://d3js.org/d3.v4.min.js\"></script>\n",
        "   </head>\n",
        "<body>\n",
        "      <div class = \"myclass\" >\n",
        "         Hello World!\n",
        "      </div>\n",
        "\n",
        "      <script>\n",
        "        d3.select(\".myclass\").classed(\"myanotherclass\", True);\n",
        "         d3.select(\".myanotherclass\").attr(\"style\", \"color: red\");\n",
        "      </script>\n",
        "   </body>\n",
        "  </html>"
      ],
      "metadata": {
        "colab": {
          "base_uri": "https://localhost:8080/",
          "height": 34
        },
        "id": "jSFhSs7waB6v",
        "outputId": "534e745e-2c21-4f07-9793-a82d044ce224"
      },
      "execution_count": null,
      "outputs": [
        {
          "output_type": "display_data",
          "data": {
            "text/plain": [
              "<IPython.core.display.HTML object>"
            ],
            "text/html": [
              "<!DOCTYPE html>\n",
              "<html>\n",
              "   <head>\n",
              "      <script type = \"text/javascript\" src = \"https://d3js.org/d3.v4.min.js\"></script>\n",
              "   </head>\n",
              "<body>\n",
              "      <div class = \"myclass\" >\n",
              "         Hello World!\n",
              "      </div>\n",
              "      \n",
              "      <script>\n",
              "        d3.select(\".myclass\").classed(\"myanotherclass\", false);\n",
              "         d3.select(\".myanotherclass\").attr(\"style\", \"color: red\");\n",
              "      </script>\n",
              "   </body>\n",
              "  </html>\n"
            ]
          },
          "metadata": {}
        }
      ]
    },
    {
      "cell_type": "markdown",
      "source": [
        "Here We added a class using the classed() method and then added attributes to it"
      ],
      "metadata": {
        "id": "kXfaxjEOfOd-"
      }
    },
    {
      "cell_type": "code",
      "source": [
        "%%html\n",
        "\n",
        "<!DOCTYPE html>\n",
        "<html>\n",
        "   <head>\n",
        "      <script type = \"text/javascript\" src = \"https://d3js.org/d3.v4.min.js\"></script>\n",
        "   </head>\n",
        "\n",
        "   <body>\n",
        "      <h2 class = \"myclass\">Khalid is stupid </h2>\n",
        "      <div class = \"myclass\">\n",
        "        Will Alok be a good friend?\n",
        "      </div>\n",
        "\n",
        "      <script>\n",
        "         d3.selectAll(\".myclass\").attr(\"style\", \"color: red\");\n",
        "      </script>\n",
        "   </body>\n",
        "</html>"
      ],
      "metadata": {
        "colab": {
          "base_uri": "https://localhost:8080/",
          "height": 82
        },
        "id": "ka1aqft_esU2",
        "outputId": "198a43f8-bc48-425c-a7d8-760182d46e90"
      },
      "execution_count": null,
      "outputs": [
        {
          "output_type": "display_data",
          "data": {
            "text/plain": [
              "<IPython.core.display.HTML object>"
            ],
            "text/html": [
              "\n",
              "<!DOCTYPE html>\n",
              "<html>\n",
              "   <head>\n",
              "      <script type = \"text/javascript\" src = \"https://d3js.org/d3.v4.min.js\"></script>\n",
              "   </head>\n",
              "\n",
              "   <body>\n",
              "      <h2 class = \"myclass\">Khalid is stupid </h2>\n",
              "      <div class = \"myclass\">\n",
              "        Will Alok be a good friend? \n",
              "      </div>\n",
              "      \n",
              "      <script>\n",
              "         d3.selectAll(\".myclass\").attr(\"style\", \"color: red\");\n",
              "      </script>\n",
              "   </body>\n",
              "</html>\n"
            ]
          },
          "metadata": {}
        }
      ]
    },
    {
      "cell_type": "markdown",
      "source": [],
      "metadata": {
        "id": "WCq0HeXrgZVu"
      }
    },
    {
      "cell_type": "code",
      "source": [
        "%%html\n",
        "<!DOCTYPE html>\n",
        "<html>\n",
        "   <head>\n",
        "      <script type = \"text/javascript\" src = \"https://d3js.org/d3.v4.min.js\"></script>\n",
        "      <style>\n",
        "         body { font-family: Arial; }\n",
        "      </style>\n",
        "   </head>\n",
        "\n",
        "   <body>\n",
        "      <ul id = \"list\">\n",
        "         <li></li>\n",
        "         <li></li>\n",
        "      </ul>\n",
        "\n",
        "      <input type = \"button\" name = \"remove\" value = \"Remove fourth value\"\n",
        "         onclick = \"javascript:remove()\" />\n",
        "\n",
        "      <script>\n",
        "         d3.select(\"#list\").selectAll(\"li\")\n",
        "            .data([10, 20, 30, 25, 15])\n",
        "            .text(function(d)\n",
        "               { return \"This is pre-existing element and the value is \" + d; })\n",
        "            .enter()\n",
        "            .append(\"li\")\n",
        "            .text(function(d)\n",
        "               { return \"This is dynamically created element and the value is \" + d; });\n",
        "\n",
        "         function remove() {\n",
        "            d3.selectAll(\"li\")\n",
        "            .data([10, 20, 30, 15])\n",
        "            .exit()\n",
        "            .remove()\n",
        "         }\n",
        "      </script>\n",
        "   </body>\n",
        "</html>"
      ],
      "metadata": {
        "colab": {
          "base_uri": "https://localhost:8080/",
          "height": 135
        },
        "id": "cyTvJA_cgOkm",
        "outputId": "bdb36fd4-d7b2-4990-9376-05b206c9a3da"
      },
      "execution_count": null,
      "outputs": [
        {
          "output_type": "display_data",
          "data": {
            "text/plain": [
              "<IPython.core.display.HTML object>"
            ],
            "text/html": [
              "<!DOCTYPE html>\n",
              "<html>\n",
              "   <head>\n",
              "      <script type = \"text/javascript\" src = \"https://d3js.org/d3.v4.min.js\"></script>\n",
              "      <style>\n",
              "         body { font-family: Arial; }\n",
              "      </style>\n",
              "   </head>\n",
              "\n",
              "   <body>\n",
              "      <ul id = \"list\">\n",
              "         <li></li>\n",
              "         <li></li>\n",
              "      </ul>\n",
              "        \n",
              "      <input type = \"button\" name = \"remove\" value = \"Remove fourth value\" \n",
              "         onclick = \"javascript:remove()\" />\n",
              "      \n",
              "      <script>\n",
              "         d3.select(\"#list\").selectAll(\"li\")\n",
              "            .data([10, 20, 30, 25, 15])\n",
              "            .text(function(d) \n",
              "               { return \"This is pre-existing element and the value is \" + d; })\n",
              "            .enter()\n",
              "            .append(\"li\")\n",
              "            .text(function(d) \n",
              "               { return \"This is dynamically created element and the value is \" + d; });\n",
              "             \n",
              "         function remove() {\n",
              "            d3.selectAll(\"li\")\n",
              "            .data([10, 20, 30, 15])\n",
              "            .exit()\n",
              "            .remove()\n",
              "         }\n",
              "      </script>\n",
              "   </body>\n",
              "</html>\n"
            ]
          },
          "metadata": {}
        }
      ]
    },
    {
      "cell_type": "markdown",
      "source": [
        "**SVG stands for Scalable Vector Graphics**. SVG is an XML-based vector graphics format. It provides options to draw different shapes such as Lines, Rectangles, Circles, Ellipses, etc. Hence, designing visualizations with SVG gives you more power and flexibility.\n",
        "\n",
        "Features of SVG −\n",
        "\n",
        "SVG is a vector based image format and it is text-based.\n",
        "\n",
        "SVG is similar in structure to HTML.\n",
        "\n",
        "SVG can be represented as a Document object model.\n",
        "\n",
        "SVG properties can be specified as attributes.\n",
        "\n",
        "SVG should have absolute positions relative to the origin (0, 0).\n",
        "\n",
        "SVG can be included as is in the HTML document."
      ],
      "metadata": {
        "id": "nIpms3UHO5P6"
      }
    },
    {
      "cell_type": "code",
      "source": [
        "%%html\n",
        "<!DOCTYPE html>\n",
        "<html>\n",
        "   <head>\n",
        "      <script type = \"text/javascript\" src = \"https://d3js.org/d3.v4.min.js\"></script>\n",
        "   </head>\n",
        "\n",
        "   <body>\n",
        "      <div id = \"svgcontainer\"></div>\n",
        "      <script>\n",
        "         var width = 300;\n",
        "         var height = 300;\n",
        "         //Create SVG element\n",
        "         var svg = d3.select(\"#svgcontainer\")\n",
        "            .append(\"svg\")\n",
        "            .attr(\"width\", width)\n",
        "            .attr(\"height\", height);\n",
        "         //Append circle\n",
        "         svg.append(\"circle\")\n",
        "            .attr(\"cx\", 200)\n",
        "            .attr(\"cy\", 50)\n",
        "            .attr(\"r\", 20)\n",
        "            .attr(\"fill\", \"green\");\n",
        "      </script>\n",
        "   </body>\n",
        "</html>\n",
        "<html>\n",
        "   <head>\n",
        "      <script type = \"text/javascript\" src = \"https://d3js.org/d3.v4.min.js\"></script>\n",
        "   </head>\n",
        "\n",
        "   <body>\n",
        "      <div id = \"svgcontainer\"></div>\n",
        "      <script>\n",
        "         var width = 300;\n",
        "         var height = 300;\n",
        "         var svg = d3.select(\"#svgcontainer\")\n",
        "            .append(\"svg\")\n",
        "            .attr(\"width\", width)\n",
        "            .attr(\"height\", height);\n",
        "         svg.append(\"ellipse\")\n",
        "            .attr(\"cx\", 200)\n",
        "            .attr(\"cy\", 50)\n",
        "            .attr(\"rx\", 100)\n",
        "            .attr(\"ry\", 50)\n",
        "            .attr(\"fill\", \"green\")\n",
        "      </script>\n",
        "   </body>\n",
        "</html>\n"
      ],
      "metadata": {
        "id": "OCFLEnNMg5WW",
        "colab": {
          "base_uri": "https://localhost:8080/",
          "height": 321
        },
        "outputId": "118167b7-34ef-40c6-a163-1eff73d25cda"
      },
      "execution_count": null,
      "outputs": [
        {
          "output_type": "display_data",
          "data": {
            "text/plain": [
              "<IPython.core.display.HTML object>"
            ],
            "text/html": [
              "<!DOCTYPE html>\n",
              "<html>\n",
              "   <head>\n",
              "      <script type = \"text/javascript\" src = \"https://d3js.org/d3.v4.min.js\"></script>\n",
              "   </head>\n",
              "\n",
              "   <body>\n",
              "      <div id = \"svgcontainer\"></div>\n",
              "      <script>\n",
              "         var width = 300;\n",
              "         var height = 300;\n",
              "         //Create SVG element\n",
              "         var svg = d3.select(\"#svgcontainer\")\n",
              "            .append(\"svg\")\n",
              "            .attr(\"width\", width)\n",
              "            .attr(\"height\", height);\n",
              "         //Append circle \n",
              "         svg.append(\"circle\")\n",
              "            .attr(\"cx\", 200)\n",
              "            .attr(\"cy\", 50)\n",
              "            .attr(\"r\", 20)\n",
              "            .attr(\"fill\", \"green\");\n",
              "      </script>\n",
              "   </body>\n",
              "</html>\n",
              "<html>\n",
              "   <head>\n",
              "      <script type = \"text/javascript\" src = \"https://d3js.org/d3.v4.min.js\"></script>\n",
              "   </head>\n",
              "\n",
              "   <body>\n",
              "      <div id = \"svgcontainer\"></div>\n",
              "      <script>\n",
              "         var width = 300;\n",
              "         var height = 300;\n",
              "         var svg = d3.select(\"#svgcontainer\")\n",
              "            .append(\"svg\")\n",
              "            .attr(\"width\", width)\n",
              "            .attr(\"height\", height);\n",
              "         svg.append(\"ellipse\")\n",
              "            .attr(\"cx\", 200)\n",
              "            .attr(\"cy\", 50)\n",
              "            .attr(\"rx\", 100)\n",
              "            .attr(\"ry\", 50)\n",
              "            .attr(\"fill\", \"green\")\n",
              "      </script>\n",
              "   </body>\n",
              "</html>\n"
            ]
          },
          "metadata": {}
        }
      ]
    },
    {
      "cell_type": "markdown",
      "source": [
        "Introduction to SVG Transformation\n",
        "\n",
        "* Translate − It takes two options,tx refers translation along the x-axis and ty refers to the translation along the y-axis.\n",
        "\n",
        "For Example− translate(30 30).\n",
        "\n",
        "* Rotate − It takes three options, angle refers rotation angle, cx and cy refers to the center of the rotation in the x and y axis. If cx and cy are not specified, then it defaults to the current origin of the coordinate system.\n",
        "\n",
        "\n",
        "For Example − rotate(60).\n",
        "\n",
        "* Scale − It takes two options, sx refers to the scaling factor along the x-axis and sy refers to the scaling factor along the y-axis. Here, sy is optional and it takes the value of sx, if it is not specified.\n",
        "\n",
        "For Example − scale(10).\n",
        "\n",
        "* Skew (SkewX and SkewY) − It takes a single option; the skew-angle refers to the angle along the x-axis for SkewX and the angle along the y-axis for SkewY.\n",
        "\n",
        " For Example − skewx(20)."
      ],
      "metadata": {
        "id": "pH1i9BYFWbiG"
      }
    },
    {
      "cell_type": "code",
      "source": [
        "%%html\n",
        "<html>\n",
        "   <head>\n",
        "      <script type = \"text/javascript\" src = \"https://d3js.org/d3.v4.min.js\"></script>\n",
        "   </head>\n",
        "\n",
        "   <body>\n",
        "      <svg width = \"300\" height = \"300\">\n",
        "         <g transform = \"translate(150,60) rotate(175)\">\n",
        "            <rect x = \"20\"\n",
        "               y = \"20\"\n",
        "               width = \"60\"\n",
        "               height = \"30\"\n",
        "               fill = \"green\">\n",
        "            </rect>\n",
        "            <circle cx = \"01\"\n",
        "               cy = \"-30\"\n",
        "               r = \"30\"\n",
        "               fill = \"red\"/>\n",
        "         </g>\n",
        "      </svg>\n",
        "   </body>\n",
        "</html>"
      ],
      "metadata": {
        "colab": {
          "base_uri": "https://localhost:8080/",
          "height": 321
        },
        "id": "th98L62jWSsg",
        "outputId": "828a1941-335a-4006-8719-cbab65b9e367"
      },
      "execution_count": null,
      "outputs": [
        {
          "output_type": "display_data",
          "data": {
            "text/plain": [
              "<IPython.core.display.HTML object>"
            ],
            "text/html": [
              "<html>\n",
              "   <head>\n",
              "      <script type = \"text/javascript\" src = \"https://d3js.org/d3.v4.min.js\"></script>\n",
              "   </head>\n",
              "\n",
              "   <body>\n",
              "      <svg width = \"300\" height = \"300\">\n",
              "         <g transform = \"translate(150,60) rotate(175)\">\n",
              "            <rect x = \"20\" \n",
              "               y = \"20\" \n",
              "               width = \"60\" \n",
              "               height = \"30\" \n",
              "               fill = \"green\">\n",
              "            </rect>\n",
              "            <circle cx = \"01\" \n",
              "               cy = \"-30\" \n",
              "               r = \"30\" \n",
              "               fill = \"red\"/>\n",
              "         </g>\n",
              "      </svg>\n",
              "   </body>\n",
              "</html>\n"
            ]
          },
          "metadata": {}
        }
      ]
    },
    {
      "cell_type": "markdown",
      "source": [
        "The transition() method\n",
        "The transition() method is available for all selectors and it starts the transition process. This method supports most of the selection methods such as – attr(), style(), etc. But, It does not support the append() and the data() methods, which need to be called before the transition() method. Also, it provides methods specific to transition like duration(), ease(), etc. A simple transition can be defined as follows −"
      ],
      "metadata": {
        "id": "9nPBHaCnX5LL"
      }
    },
    {
      "cell_type": "code",
      "source": [
        "%%html\n",
        "\n",
        "<!DOCTYPE html>\n",
        "<html>\n",
        "   <head>\n",
        "      <script type = \"text/javascript\" src = \"https://d3js.org/d3.v4.min.js\"></script>\n",
        "   </head>\n",
        "\n",
        "   <body>\n",
        "      <h3>Simple transitions</h3>\n",
        "      <script>\n",
        "         d3.select(\"body\").transition().style(\"background-color\", \"gray\");\n",
        "      </script>\n",
        "   </body>\n",
        "</html>"
      ],
      "metadata": {
        "colab": {
          "base_uri": "https://localhost:8080/",
          "height": 58
        },
        "id": "FHzKBmGGXHWG",
        "outputId": "05d9471d-acd0-4303-936d-e5b046c42a63"
      },
      "execution_count": null,
      "outputs": [
        {
          "output_type": "display_data",
          "data": {
            "text/plain": [
              "<IPython.core.display.HTML object>"
            ],
            "text/html": [
              "\n",
              "<!DOCTYPE html>\n",
              "<html>\n",
              "   <head>\n",
              "      <script type = \"text/javascript\" src = \"https://d3js.org/d3.v4.min.js\"></script>\n",
              "   </head>\n",
              "\n",
              "   <body>\n",
              "      <h3>Simple transitions</h3>\n",
              "      <script>\n",
              "         d3.select(\"body\").transition().style(\"background-color\", \"gray\");\n",
              "      </script>\n",
              "   </body>\n",
              "</html>\n"
            ]
          },
          "metadata": {}
        }
      ]
    },
    {
      "cell_type": "code",
      "source": [
        "%%html\n",
        "<!DOCTYPE html>\n",
        "<html>\n",
        "   <head>\n",
        "      <script type = \"text/javascript\" src = \"https://d3js.org/d3.v4.min.js\"></script>\n",
        "   </head>\n",
        "\n",
        "   <body>\n",
        "      <h3> Shreeprasad X Khalid </h3>\n",
        "      <script>\n",
        "          d3.select(\"body\").style(\"background-color\", \"lightblue\")\n",
        "         // make the background-color lightblue.transition()\n",
        "         .style(\"background-color\", \"gray\");\n",
        "         d3.selectAll(\"h3\").transition().style(\"color\",\"green\").duration(5000).style(\"font-size\",\"28px\").delay(2000).duration(2000);\n",
        "      </script>\n",
        "   </body>\n",
        "</html>"
      ],
      "metadata": {
        "colab": {
          "base_uri": "https://localhost:8080/",
          "height": 84
        },
        "id": "wVyh7xoUX9Pp",
        "outputId": "58b8f472-ff36-4227-963f-68b951bac06e"
      },
      "execution_count": null,
      "outputs": [
        {
          "output_type": "display_data",
          "data": {
            "text/plain": [
              "<IPython.core.display.HTML object>"
            ],
            "text/html": [
              "<!DOCTYPE html>\n",
              "<html>\n",
              "   <head>\n",
              "      <script type = \"text/javascript\" src = \"https://d3js.org/d3.v4.min.js\"></script>\n",
              "   </head>\n",
              "\n",
              "   <body>\n",
              "      <h3> Shreeprasad X Khalid </h3>\n",
              "      <script>\n",
              "          d3.select(\"body\").style(\"background-color\", \"lightblue\") \n",
              "         // make the background-color lightblue.transition()\n",
              "         .style(\"background-color\", \"gray\");\n",
              "         d3.selectAll(\"h3\").transition().style(\"color\",\"green\").duration(5000).style(\"font-size\",\"28px\").delay(2000).duration(2000);\n",
              "      </script>\n",
              "   </body>\n",
              "</html>\n"
            ]
          },
          "metadata": {}
        }
      ]
    },
    {
      "cell_type": "code",
      "source": [
        "%%html\n",
        "<!DOCTYPE html>\n",
        "<html>\n",
        "   <head>\n",
        "      <script type = \"text/javascript\" src = \"https://d3js.org/d3.v4.min.js\"></script>\n",
        "   </head>\n",
        "\n",
        "   <body>\n",
        "      <h3> SAM  </h3>\n",
        "      <script>\n",
        "          d3.select(\"body\").transition().style(\"background-color\", \"lightblue\").delay(2000).each(\"start\", function() { d3.select(this).style(\"color\", \"green\"); }).style(\"color\", \"red\");\n",
        "\n",
        "      </script>\n",
        "   </body>\n",
        "</html>"
      ],
      "metadata": {
        "colab": {
          "base_uri": "https://localhost:8080/",
          "height": 58
        },
        "id": "t3l8vSQaYZ9n",
        "outputId": "74073f4d-2694-4aed-c8c6-ee9c5d42c9b3"
      },
      "execution_count": null,
      "outputs": [
        {
          "output_type": "display_data",
          "data": {
            "text/plain": [
              "<IPython.core.display.HTML object>"
            ],
            "text/html": [
              "<!DOCTYPE html>\n",
              "<html>\n",
              "   <head>\n",
              "      <script type = \"text/javascript\" src = \"https://d3js.org/d3.v4.min.js\"></script>\n",
              "   </head>\n",
              "\n",
              "   <body>\n",
              "      <h3> SAM  </h3>\n",
              "      <script>\n",
              "          d3.select(\"body\").transition().style(\"background-color\", \"lightblue\").delay(2000).each(\"start\", function() { d3.select(this).style(\"color\", \"green\"); }).style(\"color\", \"red\");\n",
              "          d3.selectAll(\"h3\").transition().style(\"color\",\"green\").duration(5000).style(\"font-size\",\"28px\").delay(2000).duration(2000);\n",
              "      </script>\n",
              "   </body>\n",
              "</html>\n"
            ]
          },
          "metadata": {}
        }
      ]
    },
    {
      "cell_type": "markdown",
      "source": [
        "D3.js is used to create a static SVG chart. It helps to draw the following charts −\n",
        "\n",
        "* Bar Chart\n",
        "* Circle Chart\n",
        "* Pie Chart\n",
        "* Donut Chart\n",
        "* Line Chart\n",
        "* Bubble Chart, etc."
      ],
      "metadata": {
        "id": "DtzwL9RlaY5N"
      }
    },
    {
      "cell_type": "code",
      "source": [
        "%%html\n",
        "<html>\n",
        "   <head>\n",
        "      <script type = \"text/javascript\" src = \"https://d3js.org/d3.v4.min.js\"></script>\n",
        "   </head>\n",
        "\n",
        "   <body>\n",
        "      <script>\n",
        "         var width = 350;\n",
        "\n",
        "         var height = 350;\n",
        "\n",
        "         var data = [20, 30, 35];\n",
        "\n",
        "         var colors = ['green', 'purple', 'yellow'];\n",
        "\n",
        "         var svg = d3\n",
        "            .select(\"body\")\n",
        "            .append(\"svg\")\n",
        "            .attr(\"width\", width)\n",
        "            .attr(\"height\", height);\n",
        "\n",
        "         var g = svg.selectAll(\"g\")\n",
        "            .data(data)\n",
        "            .enter()\n",
        "            .append(\"g\")\n",
        "            .attr(\"transform\", function(d, i) {\n",
        "               return \"translate(0,0)\";\n",
        "            })\n",
        "\n",
        "         g.append(\"circle\").attr(\"cx\", function(d, i) {\n",
        "            return i*90 + 50;\n",
        "         })\n",
        "\n",
        "         .attr(\"cy\", function(d, i) {\n",
        "            return 75;\n",
        "         })\n",
        "\n",
        "         .attr(\"r\", function(d) {\n",
        "            return d*1.5;\n",
        "         })\n",
        "\n",
        "         .attr(\"fill\", function(d, i){\n",
        "            return colors[i];\n",
        "         })\n",
        "\n",
        "         g.append(\"text\").attr(\"x\", function(d, i) {\n",
        "            return i * 90 + 25;\n",
        "         })\n",
        "\n",
        "         .attr(\"y\", 80)\n",
        "         .attr(\"stroke\", \"teal\")\n",
        "         .attr(\"font-size\", \"10px\")\n",
        "         .attr(\"font-family\", \"sans-serif\").text(function(d) {\n",
        "            return d;\n",
        "         });\n",
        "      </script>\n",
        "   </body>\n",
        "</html>"
      ],
      "metadata": {
        "colab": {
          "base_uri": "https://localhost:8080/",
          "height": 371
        },
        "id": "T9rIa_uLZS2a",
        "outputId": "fe981b63-bef9-4924-c043-0e6c8a8181a4"
      },
      "execution_count": null,
      "outputs": [
        {
          "output_type": "display_data",
          "data": {
            "text/plain": [
              "<IPython.core.display.HTML object>"
            ],
            "text/html": [
              "<html>\n",
              "   <head>\n",
              "      <script type = \"text/javascript\" src = \"https://d3js.org/d3.v4.min.js\"></script>\n",
              "   </head>\n",
              "\n",
              "   <body>\n",
              "      <script>\n",
              "         var width = 350;\n",
              "         \n",
              "         var height = 350;\n",
              "         \n",
              "         var data = [20, 30, 35];\n",
              "         \n",
              "         var colors = ['green', 'purple', 'yellow'];\n",
              "         \n",
              "         var svg = d3\n",
              "            .select(\"body\")\n",
              "            .append(\"svg\")\n",
              "            .attr(\"width\", width)\n",
              "            .attr(\"height\", height);\n",
              "         \n",
              "         var g = svg.selectAll(\"g\")\n",
              "            .data(data)\n",
              "            .enter()\n",
              "            .append(\"g\")\n",
              "            .attr(\"transform\", function(d, i) {\n",
              "               return \"translate(0,0)\";\n",
              "            })\n",
              "         \n",
              "         g.append(\"circle\").attr(\"cx\", function(d, i) {\n",
              "            return i*90 + 50;\n",
              "         })\n",
              "         \n",
              "         .attr(\"cy\", function(d, i) {\n",
              "            return 75;\n",
              "         })\n",
              "  \n",
              "         .attr(\"r\", function(d) {\n",
              "            return d*1.5;\n",
              "         })\n",
              "         \n",
              "         .attr(\"fill\", function(d, i){\n",
              "            return colors[i];\n",
              "         })\n",
              "         \n",
              "         g.append(\"text\").attr(\"x\", function(d, i) {\n",
              "            return i * 90 + 25;\n",
              "         })\n",
              "         \n",
              "         .attr(\"y\", 80)\n",
              "         .attr(\"stroke\", \"teal\")\n",
              "         .attr(\"font-size\", \"10px\")\n",
              "         .attr(\"font-family\", \"sans-serif\").text(function(d) {\n",
              "            return d;\n",
              "         });\n",
              "      </script>\n",
              "   </body>\n",
              "</html>\n"
            ]
          },
          "metadata": {}
        }
      ]
    },
    {
      "cell_type": "code",
      "source": [
        "%%html\n",
        "<!DOCTYPE html>\n",
        "<html lang=\"en\">\n",
        "<head>\n",
        "  <meta charset=\"UTF-8\">\n",
        "  <meta name=\"viewport\" content=\"width=device-width, initial-scale=1.0\">\n",
        "  <title>D3.js Map Example</title>\n",
        "  <script src=\"https://d3js.org/d3.v7.min.js\"></script>\n",
        "  <style>\n",
        "    svg {\n",
        "      width: 100%;\n",
        "      height: auto;\n",
        "    }\n",
        "  </style>\n",
        "</head>\n",
        "<body>\n",
        "  <svg id=\"map\"></svg>\n",
        "\n",
        "  <script>\n",
        "    // Width and height of the SVG container\n",
        "    const width = 800;\n",
        "    const height = 600;\n",
        "\n",
        "    // Create SVG element\n",
        "    const svg = d3.select(\"#map\")\n",
        "                  .attr(\"width\", width)\n",
        "                  .attr(\"height\", height);\n",
        "\n",
        "    // Define projection and path generator\n",
        "    const projection = d3.geoMercator()\n",
        "                         .center([0, 5])\n",
        "                         .scale(150)\n",
        "                         .rotate([-180,0]);\n",
        "\n",
        "    const path = d3.geoPath().projection(projection);\n",
        "\n",
        "    // Load GeoJSON data\n",
        "    d3.json(\"/content/india.topo.json\").then(function(world) {\n",
        "      // Draw map\n",
        "      svg.selectAll(\"path\")\n",
        "         .data(world.features)\n",
        "         .enter().append(\"path\")\n",
        "         .attr(\"d\", path)\n",
        "         .attr(\"fill\", \"lightblue\")\n",
        "         .attr(\"stroke\", \"black\");\n",
        "    }).catch(function(error) {\n",
        "      console.log(error);\n",
        "    });\n",
        "  </script>\n",
        "</body>\n",
        "</html>"
      ],
      "metadata": {
        "colab": {
          "resources": {
            "http://localhost:8080/content/india.topo.json": {
              "data": "CjwhRE9DVFlQRSBodG1sPgo8aHRtbCBsYW5nPWVuPgogIDxtZXRhIGNoYXJzZXQ9dXRmLTg+CiAgPG1ldGEgbmFtZT12aWV3cG9ydCBjb250ZW50PSJpbml0aWFsLXNjYWxlPTEsIG1pbmltdW0tc2NhbGU9MSwgd2lkdGg9ZGV2aWNlLXdpZHRoIj4KICA8dGl0bGU+RXJyb3IgNDA0IChOb3QgRm91bmQpISExPC90aXRsZT4KICA8c3R5bGU+CiAgICAqe21hcmdpbjowO3BhZGRpbmc6MH1odG1sLGNvZGV7Zm9udDoxNXB4LzIycHggYXJpYWwsc2Fucy1zZXJpZn1odG1se2JhY2tncm91bmQ6I2ZmZjtjb2xvcjojMjIyO3BhZGRpbmc6MTVweH1ib2R5e21hcmdpbjo3JSBhdXRvIDA7bWF4LXdpZHRoOjM5MHB4O21pbi1oZWlnaHQ6MTgwcHg7cGFkZGluZzozMHB4IDAgMTVweH0qID4gYm9keXtiYWNrZ3JvdW5kOnVybCgvL3d3dy5nb29nbGUuY29tL2ltYWdlcy9lcnJvcnMvcm9ib3QucG5nKSAxMDAlIDVweCBuby1yZXBlYXQ7cGFkZGluZy1yaWdodDoyMDVweH1we21hcmdpbjoxMXB4IDAgMjJweDtvdmVyZmxvdzpoaWRkZW59aW5ze2NvbG9yOiM3Nzc7dGV4dC1kZWNvcmF0aW9uOm5vbmV9YSBpbWd7Ym9yZGVyOjB9QG1lZGlhIHNjcmVlbiBhbmQgKG1heC13aWR0aDo3NzJweCl7Ym9keXtiYWNrZ3JvdW5kOm5vbmU7bWFyZ2luLXRvcDowO21heC13aWR0aDpub25lO3BhZGRpbmctcmlnaHQ6MH19I2xvZ297YmFja2dyb3VuZDp1cmwoLy93d3cuZ29vZ2xlLmNvbS9pbWFnZXMvbG9nb3MvZXJyb3JwYWdlL2Vycm9yX2xvZ28tMTUweDU0LnBuZykgbm8tcmVwZWF0O21hcmdpbi1sZWZ0Oi01cHh9QG1lZGlhIG9ubHkgc2NyZWVuIGFuZCAobWluLXJlc29sdXRpb246MTkyZHBpKXsjbG9nb3tiYWNrZ3JvdW5kOnVybCgvL3d3dy5nb29nbGUuY29tL2ltYWdlcy9sb2dvcy9lcnJvcnBhZ2UvZXJyb3JfbG9nby0xNTB4NTQtMngucG5nKSBuby1yZXBlYXQgMCUgMCUvMTAwJSAxMDAlOy1tb3otYm9yZGVyLWltYWdlOnVybCgvL3d3dy5nb29nbGUuY29tL2ltYWdlcy9sb2dvcy9lcnJvcnBhZ2UvZXJyb3JfbG9nby0xNTB4NTQtMngucG5nKSAwfX1AbWVkaWEgb25seSBzY3JlZW4gYW5kICgtd2Via2l0LW1pbi1kZXZpY2UtcGl4ZWwtcmF0aW86Mil7I2xvZ297YmFja2dyb3VuZDp1cmwoLy93d3cuZ29vZ2xlLmNvbS9pbWFnZXMvbG9nb3MvZXJyb3JwYWdlL2Vycm9yX2xvZ28tMTUweDU0LTJ4LnBuZykgbm8tcmVwZWF0Oy13ZWJraXQtYmFja2dyb3VuZC1zaXplOjEwMCUgMTAwJX19I2xvZ297ZGlzcGxheTppbmxpbmUtYmxvY2s7aGVpZ2h0OjU0cHg7d2lkdGg6MTUwcHh9CiAgPC9zdHlsZT4KICA8YSBocmVmPS8vd3d3Lmdvb2dsZS5jb20vPjxzcGFuIGlkPWxvZ28gYXJpYS1sYWJlbD1Hb29nbGU+PC9zcGFuPjwvYT4KICA8cD48Yj40MDQuPC9iPiA8aW5zPlRoYXTigJlzIGFuIGVycm9yLjwvaW5zPgogIDxwPiAgPGlucz5UaGF04oCZcyBhbGwgd2Uga25vdy48L2lucz4K",
              "ok": false,
              "headers": [
                [
                  "content-length",
                  "1449"
                ],
                [
                  "content-type",
                  "text/html; charset=utf-8"
                ]
              ],
              "status": 404,
              "status_text": ""
            }
          },
          "base_uri": "https://localhost:8080/",
          "height": 704
        },
        "id": "QH87Bm-xaoeV",
        "outputId": "5da4c0d7-b6fa-4737-850b-91aef622157e"
      },
      "execution_count": null,
      "outputs": [
        {
          "output_type": "display_data",
          "data": {
            "text/plain": [
              "<IPython.core.display.HTML object>"
            ],
            "text/html": [
              "<!DOCTYPE html>\n",
              "<html lang=\"en\">\n",
              "<head>\n",
              "  <meta charset=\"UTF-8\">\n",
              "  <meta name=\"viewport\" content=\"width=device-width, initial-scale=1.0\">\n",
              "  <title>D3.js Map Example</title>\n",
              "  <script src=\"https://d3js.org/d3.v7.min.js\"></script>\n",
              "  <style>\n",
              "    svg {\n",
              "      width: 100%;\n",
              "      height: auto;\n",
              "    }\n",
              "  </style>\n",
              "</head>\n",
              "<body>\n",
              "  <svg id=\"map\"></svg>\n",
              "\n",
              "  <script>\n",
              "    // Width and height of the SVG container\n",
              "    const width = 800;\n",
              "    const height = 600;\n",
              "\n",
              "    // Create SVG element\n",
              "    const svg = d3.select(\"#map\")\n",
              "                  .attr(\"width\", width)\n",
              "                  .attr(\"height\", height);\n",
              "\n",
              "    // Define projection and path generator\n",
              "    const projection = d3.geoMercator()\n",
              "                         .center([0, 5])\n",
              "                         .scale(150)\n",
              "                         .rotate([-180,0]);\n",
              "    \n",
              "    const path = d3.geoPath().projection(projection);\n",
              "\n",
              "    // Load GeoJSON data\n",
              "    d3.json(\"/content/india.topo.json\").then(function(world) {\n",
              "      // Draw map\n",
              "      svg.selectAll(\"path\")\n",
              "         .data(world.features)\n",
              "         .enter().append(\"path\")\n",
              "         .attr(\"d\", path)\n",
              "         .attr(\"fill\", \"lightblue\")\n",
              "         .attr(\"stroke\", \"black\");\n",
              "    }).catch(function(error) {\n",
              "      console.log(error);\n",
              "    });\n",
              "  </script>\n",
              "</body>\n",
              "</html>\n"
            ]
          },
          "metadata": {}
        }
      ]
    },
    {
      "cell_type": "code",
      "source": [
        "%%html\n",
        "<!DOCTYPE html>\n",
        "<html lang=\"en\">\n",
        "<head>\n",
        "  <meta charset=\"UTF-8\">\n",
        "  <meta name=\"viewport\" content=\"width=device-width, initial-scale=1.0\">\n",
        "  <title>D3.js Map Example</title>\n",
        "  <script src=\"https://d3js.org/d3.v7.min.js\"></script>\n",
        "  <style>\n",
        "    svg {\n",
        "      width: 100%;\n",
        "      height: auto;\n",
        "    }\n",
        "  </style>\n",
        "</head>\n",
        "<body>\n",
        "  <svg id=\"map\"></svg>\n",
        "\n",
        "  <script>\n",
        "    // Width and height of the SVG container\n",
        "    const width = 800;\n",
        "    const height = 600;\n",
        "\n",
        "    // Create SVG element\n",
        "    const svg = d3.select(\"#map\")\n",
        "                  .attr(\"width\", width)\n",
        "                  .attr(\"height\", height);\n",
        "\n",
        "    // Define projection and path generator\n",
        "    const projection = d3.geoMercator()\n",
        "                         .center([0, 20])\n",
        "                         .scale(600)\n",
        "                         .translate([width / 2, height / 2]);\n",
        "\n",
        "    const path = d3.geoPath().projection(projection);\n",
        "\n",
        "    // Load GeoJSON data\n",
        "    d3.json(\"/content/india.topo.json\").then(function(india) {\n",
        "      // Draw map\n",
        "      svg.selectAll(\"path\")\n",
        "         .data(topojson.feature(india, india.objects.india).features)\n",
        "         .enter().append(\"path\")\n",
        "         .attr(\"d\", path)\n",
        "         .attr(\"fill\", \"lightblue\")\n",
        "         .attr(\"stroke\", \"black\");\n",
        "    }).catch(function(error) {\n",
        "      console.log(error);\n",
        "    });\n",
        "  </script>\n",
        "</body>\n",
        "</html>\n"
      ],
      "metadata": {
        "colab": {
          "resources": {
            "http://localhost:8080/content/india.topo.json": {
              "data": "CjwhRE9DVFlQRSBodG1sPgo8aHRtbCBsYW5nPWVuPgogIDxtZXRhIGNoYXJzZXQ9dXRmLTg+CiAgPG1ldGEgbmFtZT12aWV3cG9ydCBjb250ZW50PSJpbml0aWFsLXNjYWxlPTEsIG1pbmltdW0tc2NhbGU9MSwgd2lkdGg9ZGV2aWNlLXdpZHRoIj4KICA8dGl0bGU+RXJyb3IgNDA0IChOb3QgRm91bmQpISExPC90aXRsZT4KICA8c3R5bGU+CiAgICAqe21hcmdpbjowO3BhZGRpbmc6MH1odG1sLGNvZGV7Zm9udDoxNXB4LzIycHggYXJpYWwsc2Fucy1zZXJpZn1odG1se2JhY2tncm91bmQ6I2ZmZjtjb2xvcjojMjIyO3BhZGRpbmc6MTVweH1ib2R5e21hcmdpbjo3JSBhdXRvIDA7bWF4LXdpZHRoOjM5MHB4O21pbi1oZWlnaHQ6MTgwcHg7cGFkZGluZzozMHB4IDAgMTVweH0qID4gYm9keXtiYWNrZ3JvdW5kOnVybCgvL3d3dy5nb29nbGUuY29tL2ltYWdlcy9lcnJvcnMvcm9ib3QucG5nKSAxMDAlIDVweCBuby1yZXBlYXQ7cGFkZGluZy1yaWdodDoyMDVweH1we21hcmdpbjoxMXB4IDAgMjJweDtvdmVyZmxvdzpoaWRkZW59aW5ze2NvbG9yOiM3Nzc7dGV4dC1kZWNvcmF0aW9uOm5vbmV9YSBpbWd7Ym9yZGVyOjB9QG1lZGlhIHNjcmVlbiBhbmQgKG1heC13aWR0aDo3NzJweCl7Ym9keXtiYWNrZ3JvdW5kOm5vbmU7bWFyZ2luLXRvcDowO21heC13aWR0aDpub25lO3BhZGRpbmctcmlnaHQ6MH19I2xvZ297YmFja2dyb3VuZDp1cmwoLy93d3cuZ29vZ2xlLmNvbS9pbWFnZXMvbG9nb3MvZXJyb3JwYWdlL2Vycm9yX2xvZ28tMTUweDU0LnBuZykgbm8tcmVwZWF0O21hcmdpbi1sZWZ0Oi01cHh9QG1lZGlhIG9ubHkgc2NyZWVuIGFuZCAobWluLXJlc29sdXRpb246MTkyZHBpKXsjbG9nb3tiYWNrZ3JvdW5kOnVybCgvL3d3dy5nb29nbGUuY29tL2ltYWdlcy9sb2dvcy9lcnJvcnBhZ2UvZXJyb3JfbG9nby0xNTB4NTQtMngucG5nKSBuby1yZXBlYXQgMCUgMCUvMTAwJSAxMDAlOy1tb3otYm9yZGVyLWltYWdlOnVybCgvL3d3dy5nb29nbGUuY29tL2ltYWdlcy9sb2dvcy9lcnJvcnBhZ2UvZXJyb3JfbG9nby0xNTB4NTQtMngucG5nKSAwfX1AbWVkaWEgb25seSBzY3JlZW4gYW5kICgtd2Via2l0LW1pbi1kZXZpY2UtcGl4ZWwtcmF0aW86Mil7I2xvZ297YmFja2dyb3VuZDp1cmwoLy93d3cuZ29vZ2xlLmNvbS9pbWFnZXMvbG9nb3MvZXJyb3JwYWdlL2Vycm9yX2xvZ28tMTUweDU0LTJ4LnBuZykgbm8tcmVwZWF0Oy13ZWJraXQtYmFja2dyb3VuZC1zaXplOjEwMCUgMTAwJX19I2xvZ297ZGlzcGxheTppbmxpbmUtYmxvY2s7aGVpZ2h0OjU0cHg7d2lkdGg6MTUwcHh9CiAgPC9zdHlsZT4KICA8YSBocmVmPS8vd3d3Lmdvb2dsZS5jb20vPjxzcGFuIGlkPWxvZ28gYXJpYS1sYWJlbD1Hb29nbGU+PC9zcGFuPjwvYT4KICA8cD48Yj40MDQuPC9iPiA8aW5zPlRoYXTigJlzIGFuIGVycm9yLjwvaW5zPgogIDxwPiAgPGlucz5UaGF04oCZcyBhbGwgd2Uga25vdy48L2lucz4K",
              "ok": false,
              "headers": [
                [
                  "content-length",
                  "1449"
                ],
                [
                  "content-type",
                  "text/html; charset=utf-8"
                ]
              ],
              "status": 404,
              "status_text": ""
            }
          },
          "base_uri": "https://localhost:8080/",
          "height": 704
        },
        "id": "JhFhay7qcVRI",
        "outputId": "4ef28dce-ec58-4c3c-f95b-d27ddc847d55"
      },
      "execution_count": null,
      "outputs": [
        {
          "output_type": "display_data",
          "data": {
            "text/plain": [
              "<IPython.core.display.HTML object>"
            ],
            "text/html": [
              "<!DOCTYPE html>\n",
              "<html lang=\"en\">\n",
              "<head>\n",
              "  <meta charset=\"UTF-8\">\n",
              "  <meta name=\"viewport\" content=\"width=device-width, initial-scale=1.0\">\n",
              "  <title>D3.js Map Example</title>\n",
              "  <script src=\"https://d3js.org/d3.v7.min.js\"></script>\n",
              "  <style>\n",
              "    svg {\n",
              "      width: 100%;\n",
              "      height: auto;\n",
              "    }\n",
              "  </style>\n",
              "</head>\n",
              "<body>\n",
              "  <svg id=\"map\"></svg>\n",
              "\n",
              "  <script>\n",
              "    // Width and height of the SVG container\n",
              "    const width = 800;\n",
              "    const height = 600;\n",
              "\n",
              "    // Create SVG element\n",
              "    const svg = d3.select(\"#map\")\n",
              "                  .attr(\"width\", width)\n",
              "                  .attr(\"height\", height);\n",
              "\n",
              "    // Define projection and path generator\n",
              "    const projection = d3.geoMercator()\n",
              "                         .center([0, 20])\n",
              "                         .scale(600)\n",
              "                         .translate([width / 2, height / 2]);\n",
              "    \n",
              "    const path = d3.geoPath().projection(projection);\n",
              "\n",
              "    // Load GeoJSON data\n",
              "    d3.json(\"/content/india.topo.json\").then(function(india) {\n",
              "      // Draw map\n",
              "      svg.selectAll(\"path\")\n",
              "         .data(topojson.feature(india, india.objects.india).features)\n",
              "         .enter().append(\"path\")\n",
              "         .attr(\"d\", path)\n",
              "         .attr(\"fill\", \"lightblue\")\n",
              "         .attr(\"stroke\", \"black\");\n",
              "    }).catch(function(error) {\n",
              "      console.log(error);\n",
              "    });\n",
              "  </script>\n",
              "</body>\n",
              "</html>\n"
            ]
          },
          "metadata": {}
        }
      ]
    },
    {
      "cell_type": "code",
      "source": [
        "%%html\n",
        "<html>\n",
        "   <head>\n",
        "      <script type = \"text/javascript\" src = \"https://d3js.org/d3.v4.min.js\"></script>\n",
        "   </head>\n",
        "\n",
        "   <body>\n",
        "      <h3>D3 collection API</h3>\n",
        "      <script>\n",
        "         var month = {\"jan\": 1, \"Feb\": 2, \"mar\": 3, \"apr\": 4};\n",
        "         console.log(d3.keys(month));\n",
        "         console.log(d3.values(month));\n",
        "         console.log(d3.entries(month));\n",
        "      </script>\n",
        "   </body>\n",
        "</html>"
      ],
      "metadata": {
        "colab": {
          "base_uri": "https://localhost:8080/",
          "height": 58
        },
        "id": "hb7_Knu6eEeX",
        "outputId": "bde843c2-8917-4f0d-f4cc-c1217719f618"
      },
      "execution_count": null,
      "outputs": [
        {
          "output_type": "display_data",
          "data": {
            "text/plain": [
              "<IPython.core.display.HTML object>"
            ],
            "text/html": [
              "<html>\n",
              "   <head>\n",
              "      <script type = \"text/javascript\" src = \"https://d3js.org/d3.v4.min.js\"></script>\n",
              "   </head>\n",
              "\n",
              "   <body>\n",
              "      <h3>D3 collection API</h3>\n",
              "      <script>\n",
              "         var month = {\"jan\": 1, \"Feb\": 2, \"mar\": 3, \"apr\": 4};\n",
              "         console.log(d3.keys(month));\n",
              "         console.log(d3.values(month));\n",
              "         console.log(d3.entries(month));\n",
              "      </script>\n",
              "   </body>\n",
              "</html>\n"
            ]
          },
          "metadata": {}
        }
      ]
    },
    {
      "cell_type": "code",
      "source": [
        "%%html\n",
        "<!DOCTYPE html>\n",
        "<meta charset = \"UTF-8\">\n",
        "   <head>\n",
        "      <title>SVG path line Generator</title>\n",
        "   </head>\n",
        "\n",
        "   <style>\n",
        "      path {\n",
        "         fill: green;\n",
        "         stroke: #aaa;\n",
        "      }\n",
        "   </style>\n",
        "\n",
        "   <body>\n",
        "      <svg width = \"600\" height = \"100\">\n",
        "         <path transform = \"translate(200, 0)\" />\n",
        "      </svg>\n",
        "\n",
        "      <script src = \"https://d3js.org/d3.v4.min.js\"></script>\n",
        "      <script>\n",
        "         var data = [[0, 20], [50, 30], [100, 50], [200, 60], [300, 90]];\n",
        "         var lineGenerator = d3.line();\n",
        "         var pathString = lineGenerator(data);\n",
        "         d3.select('path').attr('d', pathString);\n",
        "      </script>\n",
        "   </body>\n",
        "</html>"
      ],
      "metadata": {
        "colab": {
          "base_uri": "https://localhost:8080/",
          "height": 121
        },
        "id": "xiX8Dk0EeUji",
        "outputId": "5d328177-6ea8-416e-f313-eee4b7a26170"
      },
      "execution_count": null,
      "outputs": [
        {
          "output_type": "display_data",
          "data": {
            "text/plain": [
              "<IPython.core.display.HTML object>"
            ],
            "text/html": [
              "<!DOCTYPE html>\n",
              "<meta charset = \"UTF-8\">\n",
              "   <head>\n",
              "      <title>SVG path line Generator</title>\n",
              "   </head>\n",
              "\n",
              "   <style>\n",
              "      path {\n",
              "         fill: green;\n",
              "         stroke: #aaa;\n",
              "      }\n",
              "   </style>\n",
              "   \n",
              "   <body>\n",
              "      <svg width = \"600\" height = \"100\">\n",
              "         <path transform = \"translate(200, 0)\" />\n",
              "      </svg>\n",
              "      \n",
              "      <script src = \"https://d3js.org/d3.v4.min.js\"></script>\n",
              "      <script>\n",
              "         var data = [[0, 20], [50, 30], [100, 50], [200, 60], [300, 90]];\n",
              "         var lineGenerator = d3.line();\n",
              "         var pathString = lineGenerator(data);\n",
              "         d3.select('path').attr('d', pathString);\n",
              "      </script>\n",
              "   </body>\n",
              "</html>\n"
            ]
          },
          "metadata": {}
        }
      ]
    },
    {
      "cell_type": "code",
      "source": [
        "%%html\n",
        "<!DOCTYPE html>\n",
        "<html lang=\"en\">\n",
        "<head>\n",
        "  <meta charset=\"UTF-8\">\n",
        "  <meta name=\"viewport\" content=\"width=device-width, initial-scale=1.0\">\n",
        "  <title>D3 Zoom Example</title>\n",
        "  <script src=\"https://d3js.org/d3.v7.min.js\"></script>\n",
        "</head>\n",
        "<body>\n",
        "\n",
        "<div id=\"chart-container\"></div>\n",
        "\n",
        "<script>\n",
        "// Define the dimensions of the SVG canvas\n",
        "const width = 600;\n",
        "const height = 400;\n",
        "\n",
        "// Create SVG element\n",
        "const svg = d3.select(\"#chart-container\")\n",
        "  .append(\"svg\")\n",
        "  .attr(\"width\", width)\n",
        "  .attr(\"height\", height)\n",
        "  .style(\"border\", \"1px solid black\");\n",
        "\n",
        "// Create a rectangle inside the SVG\n",
        "svg.append(\"rect\")\n",
        "  .attr(\"width\", 200)\n",
        "  .attr(\"height\", 100)\n",
        "  .attr(\"fill\", \"lightblue\")\n",
        "  .attr(\"x\", 50)\n",
        "  .attr(\"y\", 50);\n",
        "\n",
        "// Define the zoom behavior\n",
        "const zoom = d3.zoom()\n",
        "  .scaleExtent([1, 8]) // Limit zoom scale\n",
        "  .on(\"zoom\", zoomed);\n",
        "\n",
        "// Apply zoom behavior to the SVG\n",
        "svg.call(zoom);\n",
        "\n",
        "// Function to handle zoom event\n",
        "function zoomed(event) {\n",
        "  // Update transform of SVG group element\n",
        "  svg.attr(\"transform\", event.transform);\n",
        "}\n",
        "\n",
        "</script>\n",
        "\n",
        "</body>\n",
        "</html>\n"
      ],
      "metadata": {
        "colab": {
          "base_uri": "https://localhost:8080/",
          "height": 461
        },
        "id": "_AAOKaDpeb8c",
        "outputId": "36430475-c111-4290-87b8-8a84b400302b"
      },
      "execution_count": null,
      "outputs": [
        {
          "output_type": "display_data",
          "data": {
            "text/plain": [
              "<IPython.core.display.HTML object>"
            ],
            "text/html": [
              "<!DOCTYPE html>\n",
              "<html lang=\"en\">\n",
              "<head>\n",
              "  <meta charset=\"UTF-8\">\n",
              "  <meta name=\"viewport\" content=\"width=device-width, initial-scale=1.0\">\n",
              "  <title>D3 Zoom Example</title>\n",
              "  <script src=\"https://d3js.org/d3.v7.min.js\"></script>\n",
              "</head>\n",
              "<body>\n",
              "\n",
              "<div id=\"chart-container\"></div>\n",
              "\n",
              "<script>\n",
              "// Define the dimensions of the SVG canvas\n",
              "const width = 600;\n",
              "const height = 400;\n",
              "\n",
              "// Create SVG element\n",
              "const svg = d3.select(\"#chart-container\")\n",
              "  .append(\"svg\")\n",
              "  .attr(\"width\", width)\n",
              "  .attr(\"height\", height)\n",
              "  .style(\"border\", \"1px solid black\");\n",
              "\n",
              "// Create a rectangle inside the SVG\n",
              "svg.append(\"rect\")\n",
              "  .attr(\"width\", 200)\n",
              "  .attr(\"height\", 100)\n",
              "  .attr(\"fill\", \"lightblue\")\n",
              "  .attr(\"x\", 50)\n",
              "  .attr(\"y\", 50);\n",
              "\n",
              "// Define the zoom behavior\n",
              "const zoom = d3.zoom()\n",
              "  .scaleExtent([1, 8]) // Limit zoom scale\n",
              "  .on(\"zoom\", zoomed);\n",
              "\n",
              "// Apply zoom behavior to the SVG\n",
              "svg.call(zoom);\n",
              "\n",
              "// Function to handle zoom event\n",
              "function zoomed(event) {\n",
              "  // Update transform of SVG group element\n",
              "  svg.attr(\"transform\", event.transform);\n",
              "}\n",
              "\n",
              "</script>\n",
              "\n",
              "</body>\n",
              "</html>\n"
            ]
          },
          "metadata": {}
        }
      ]
    },
    {
      "cell_type": "markdown",
      "source": [
        "XMLHttpRequest\n",
        "XMLHttpRequest is the built-in http client to emulate the browser XMLHttpRequest object. It can be used with JS designed for browsers to improve reuse of code and allow the use of existing libraries."
      ],
      "metadata": {
        "id": "iyIDHyShf3G3"
      }
    },
    {
      "cell_type": "code",
      "source": [
        "%%html\n",
        "<!DOCTYPE html>\n",
        "<html>\n",
        "   <head>\n",
        "      <script type = \"text/javascript\" src = \"https://d3js.org/d3.v4.min.js\"></script>\n",
        "   </head>\n",
        "\n",
        "   <body>\n",
        "      <h3> D3.js Requests API </h3>\n",
        "      <script>\n",
        "         d3.csv(\"/content/india.topo.json\", function(data) {\n",
        "            console.log(data);\n",
        "         });\n",
        "      </script>\n",
        "   </body>\n",
        "</html>"
      ],
      "metadata": {
        "colab": {
          "resources": {
            "http://localhost:8080/content/india.topo.json": {
              "data": "CjwhRE9DVFlQRSBodG1sPgo8aHRtbCBsYW5nPWVuPgogIDxtZXRhIGNoYXJzZXQ9dXRmLTg+CiAgPG1ldGEgbmFtZT12aWV3cG9ydCBjb250ZW50PSJpbml0aWFsLXNjYWxlPTEsIG1pbmltdW0tc2NhbGU9MSwgd2lkdGg9ZGV2aWNlLXdpZHRoIj4KICA8dGl0bGU+RXJyb3IgNDA0IChOb3QgRm91bmQpISExPC90aXRsZT4KICA8c3R5bGU+CiAgICAqe21hcmdpbjowO3BhZGRpbmc6MH1odG1sLGNvZGV7Zm9udDoxNXB4LzIycHggYXJpYWwsc2Fucy1zZXJpZn1odG1se2JhY2tncm91bmQ6I2ZmZjtjb2xvcjojMjIyO3BhZGRpbmc6MTVweH1ib2R5e21hcmdpbjo3JSBhdXRvIDA7bWF4LXdpZHRoOjM5MHB4O21pbi1oZWlnaHQ6MTgwcHg7cGFkZGluZzozMHB4IDAgMTVweH0qID4gYm9keXtiYWNrZ3JvdW5kOnVybCgvL3d3dy5nb29nbGUuY29tL2ltYWdlcy9lcnJvcnMvcm9ib3QucG5nKSAxMDAlIDVweCBuby1yZXBlYXQ7cGFkZGluZy1yaWdodDoyMDVweH1we21hcmdpbjoxMXB4IDAgMjJweDtvdmVyZmxvdzpoaWRkZW59aW5ze2NvbG9yOiM3Nzc7dGV4dC1kZWNvcmF0aW9uOm5vbmV9YSBpbWd7Ym9yZGVyOjB9QG1lZGlhIHNjcmVlbiBhbmQgKG1heC13aWR0aDo3NzJweCl7Ym9keXtiYWNrZ3JvdW5kOm5vbmU7bWFyZ2luLXRvcDowO21heC13aWR0aDpub25lO3BhZGRpbmctcmlnaHQ6MH19I2xvZ297YmFja2dyb3VuZDp1cmwoLy93d3cuZ29vZ2xlLmNvbS9pbWFnZXMvbG9nb3MvZXJyb3JwYWdlL2Vycm9yX2xvZ28tMTUweDU0LnBuZykgbm8tcmVwZWF0O21hcmdpbi1sZWZ0Oi01cHh9QG1lZGlhIG9ubHkgc2NyZWVuIGFuZCAobWluLXJlc29sdXRpb246MTkyZHBpKXsjbG9nb3tiYWNrZ3JvdW5kOnVybCgvL3d3dy5nb29nbGUuY29tL2ltYWdlcy9sb2dvcy9lcnJvcnBhZ2UvZXJyb3JfbG9nby0xNTB4NTQtMngucG5nKSBuby1yZXBlYXQgMCUgMCUvMTAwJSAxMDAlOy1tb3otYm9yZGVyLWltYWdlOnVybCgvL3d3dy5nb29nbGUuY29tL2ltYWdlcy9sb2dvcy9lcnJvcnBhZ2UvZXJyb3JfbG9nby0xNTB4NTQtMngucG5nKSAwfX1AbWVkaWEgb25seSBzY3JlZW4gYW5kICgtd2Via2l0LW1pbi1kZXZpY2UtcGl4ZWwtcmF0aW86Mil7I2xvZ297YmFja2dyb3VuZDp1cmwoLy93d3cuZ29vZ2xlLmNvbS9pbWFnZXMvbG9nb3MvZXJyb3JwYWdlL2Vycm9yX2xvZ28tMTUweDU0LTJ4LnBuZykgbm8tcmVwZWF0Oy13ZWJraXQtYmFja2dyb3VuZC1zaXplOjEwMCUgMTAwJX19I2xvZ297ZGlzcGxheTppbmxpbmUtYmxvY2s7aGVpZ2h0OjU0cHg7d2lkdGg6MTUwcHh9CiAgPC9zdHlsZT4KICA8YSBocmVmPS8vd3d3Lmdvb2dsZS5jb20vPjxzcGFuIGlkPWxvZ28gYXJpYS1sYWJlbD1Hb29nbGU+PC9zcGFuPjwvYT4KICA8cD48Yj40MDQuPC9iPiA8aW5zPlRoYXTigJlzIGFuIGVycm9yLjwvaW5zPgogIDxwPiAgPGlucz5UaGF04oCZcyBhbGwgd2Uga25vdy48L2lucz4K",
              "ok": false,
              "headers": [
                [
                  "content-length",
                  "1449"
                ],
                [
                  "content-type",
                  "text/html; charset=utf-8"
                ]
              ],
              "status": 404,
              "status_text": ""
            }
          },
          "base_uri": "https://localhost:8080/",
          "height": 58
        },
        "id": "j0F1zakYfaOG",
        "outputId": "513e6aba-0299-4084-f7a2-f1de3e05f531"
      },
      "execution_count": null,
      "outputs": [
        {
          "output_type": "display_data",
          "data": {
            "text/plain": [
              "<IPython.core.display.HTML object>"
            ],
            "text/html": [
              "<!DOCTYPE html>\n",
              "<html>\n",
              "   <head>\n",
              "      <script type = \"text/javascript\" src = \"https://d3js.org/d3.v4.min.js\"></script>\n",
              "   </head>\n",
              "\n",
              "   <body>\n",
              "      <h3> D3.js Requests API </h3>\n",
              "      <script>\n",
              "         d3.csv(\"/content/india.topo.json\", function(data) {\n",
              "            console.log(data); \n",
              "         });\n",
              "      </script>\n",
              "   </body>\n",
              "</html>\n"
            ]
          },
          "metadata": {}
        }
      ]
    },
    {
      "cell_type": "markdown",
      "source": [
        "Timer API module is used to perform the concurrent animations with synchronized timing delay. It uses requestAnimationFrame for animation. This chapter explains Timer API module in detail."
      ],
      "metadata": {
        "id": "wp2BGoSlgD4V"
      }
    },
    {
      "cell_type": "code",
      "source": [
        "%%html\n",
        "<!DOCTYPE html>\n",
        "<html>\n",
        "   <head>\n",
        "      <script type = \"text/javascript\" src = \"https://d3js.org/d3.v4.min.js\"></script>\n",
        "   </head>\n",
        "\n",
        "   <body>\n",
        "      <h3> Timer API </h3>\n",
        "      <script>\n",
        "         var timer = d3.timer(function(duration) {\n",
        "            console.log(duration);\n",
        "            if (duration > 150) timer.stop();\n",
        "         }, 100);\n",
        "      </script>\n",
        "   </body>\n",
        "</html>"
      ],
      "metadata": {
        "colab": {
          "base_uri": "https://localhost:8080/",
          "height": 58
        },
        "id": "-YMj2V9-fzHz",
        "outputId": "1ddd2cbe-e647-4ae4-d9aa-1cae72091fa4"
      },
      "execution_count": null,
      "outputs": [
        {
          "output_type": "display_data",
          "data": {
            "text/plain": [
              "<IPython.core.display.HTML object>"
            ],
            "text/html": [
              "<!DOCTYPE html>\n",
              "<html>\n",
              "   <head>\n",
              "      <script type = \"text/javascript\" src = \"https://d3js.org/d3.v4.min.js\"></script>\n",
              "   </head>\n",
              "\n",
              "   <body>\n",
              "      <h3> Timer API </h3>\n",
              "      <script>\n",
              "         var timer = d3.timer(function(duration) {\n",
              "            console.log(duration);\n",
              "            if (duration > 150) timer.stop();\n",
              "         }, 100);\n",
              "      </script>\n",
              "   </body>\n",
              "</html>\n"
            ]
          },
          "metadata": {}
        }
      ]
    },
    {
      "cell_type": "code",
      "source": [
        "%%html\n",
        "<!DOCTYPE html>\n",
        "<html>\n",
        "   <head>\n",
        "      <script type = \"text/javascript\" src = \"https://d3js.org/d3.v4.min.js\"></script>\n",
        "   </head>\n",
        "\n",
        "   <body>\n",
        "      <svg width=\"960\" height=\"500\"></svg>\n",
        "\n",
        "      <style>\n",
        "        body {\n",
        "  margin: 0px;\n",
        "  overflow: hidden;\n",
        "}\n",
        "\n",
        ".sphere {\n",
        "  fill: #4242e4;\n",
        "}\n",
        "\n",
        ".country {\n",
        "  stroke: black;\n",
        "  stroke-width: 0.05px;\n",
        "}\n",
        "\n",
        ".country:hover {\n",
        "  fill: red;\n",
        "}\n",
        "\n",
        ".tick text {\n",
        "  font-size: 1em;\n",
        "  font-family: sans-serif;\n",
        "  fill: black;\n",
        "}\n",
        "\n",
        "rect {opacity: .7;}\n",
        "\n",
        "p {padding-left: 10px;}\n",
        "</style>\n",
        "      <script>\n",
        "         const svg = d3.select('svg');\n",
        "\n",
        "const projection = d3.geoNaturalEarth1();\n",
        "const pathGenerator = d3.geoPath().projection(projection);\n",
        "\n",
        "const g = svg.append('g');\n",
        "\n",
        "const colorLegendG = svg.append('g')\n",
        "   .attr('transform', `translate(40,310)`);\n",
        "\n",
        "\n",
        "g.append('path')\n",
        "    .attr('class', 'sphere')\n",
        "    .attr('d', pathGenerator({type: 'Sphere'}));\n",
        "\n",
        "svg.call(d3.zoom().on('zoom', () => {\n",
        "  g.attr('transform', d3.event.transform);\n",
        "}));\n",
        " const colorScale = d3.scaleOrdinal();\n",
        "\n",
        " const colorValue = d => d.properties.economy;\n",
        "\n",
        "const loadAndProcessData = () =>\n",
        "\n",
        "  Promise.all([\n",
        "    d3.tsv('https://unpkg.com/world-atlas@1.1.4/world/50m.tsv'),\n",
        "    d3.json('https://unpkg.com/world-atlas@1.1.4/world/50m.json')\n",
        "  ])\n",
        "\n",
        "  .then(([tsvData, topoJSONdata]) => {\n",
        "\n",
        "  const rowById = tsvData.reduce((accumulator, d) => {\n",
        "    accumulator[d.iso_n3] = d;\n",
        "    return accumulator;\n",
        "  }, {});\n",
        "\n",
        "  const countries = topojson.feature(topoJSONdata, topoJSONdata.objects.countries);\n",
        "\n",
        "     countries.features.forEach(d =>{\n",
        "   Object.assign(d.properties, rowById[d.id])\n",
        "  });\n",
        "\n",
        "  return countries;\n",
        "\n",
        "});\n",
        "\n",
        "const colorLegend = (selection, props) => {\n",
        "  const {\n",
        "    colorScale,\n",
        "    circleRadius,\n",
        "    spacing,\n",
        "    textOffset,\n",
        "    backgroundRectWidth\n",
        "  } = props;\n",
        "\n",
        "  const backgroundRect = selection.selectAll('rect')\n",
        "    .data([null]);\n",
        "\n",
        "  const n = colorScale.domain().length;\n",
        "  backgroundRect.enter()\n",
        "    .append('rect')\n",
        "    .merge(backgroundRect)\n",
        "    .attr('x', -circleRadius * 2)\n",
        "    .attr('y', -circleRadius * 2)\n",
        "    .attr('rx', circleRadius * 2)\n",
        "    .attr('width', backgroundRectWidth)\n",
        "    .attr('fill', 'white')\n",
        "    .attr('height', spacing * n + circleRadius * 2)\n",
        "\n",
        "  const groups = selection.selectAll('.tick')\n",
        "    .data(colorScale.domain());\n",
        "  const groupsEnter = groups\n",
        "    .enter().append('g')\n",
        "      .attr('class', 'tick');\n",
        "  groupsEnter\n",
        "    .merge(groups)\n",
        "      .attr('transform', (d, i) =>\n",
        "        `translate(0, ${i * spacing})`\n",
        "      );\n",
        "  groups.exit().remove();\n",
        "\n",
        "  groupsEnter.append('circle')\n",
        "    .merge(groups.select('circle'))\n",
        "      .attr('r', circleRadius)\n",
        "      .attr('fill', colorScale);\n",
        "\n",
        "  groupsEnter.append('text')\n",
        "    .merge(groups.select('text'))\n",
        "      .text(d => d)\n",
        "      .attr('dy', '0.32em')\n",
        "      .attr('x', textOffset);\n",
        "}\n",
        "\n",
        "  loadAndProcessData().then(countries => {\n",
        "  console.log(colorScale);\n",
        " colorScale.domain(countries.features.map(colorValue))\n",
        "    .domain(colorScale.domain().sort().reverse())\n",
        "    .range(d3.schemeSpectral[colorScale.domain().length]);\n",
        "\n",
        "  colorLegendG.call(colorLegend, {\n",
        "  colorScale,\n",
        "  circleRadius: 8,\n",
        "  spacing: 20,\n",
        "  textOffset: 15,\n",
        "  backgroundRectWidth: 240\n",
        "});\n",
        "\n",
        "  g.selectAll('path').data(countries.features)\n",
        "    .enter().append('path')\n",
        "      .attr('class', 'country')\n",
        "      .attr('d', pathGenerator)\n",
        "      .attr('fill', d => colorScale(colorValue(d)))\n",
        "    .append('title')\n",
        "      .text(d => d.properties.name + ' : ' + colorValue(d));\n",
        "\n",
        "});\n",
        "      </script>\n",
        "   </body>\n",
        "\n",
        "\n",
        "\n",
        " </html>"
      ],
      "metadata": {
        "colab": {
          "base_uri": "https://localhost:8080/",
          "height": 521
        },
        "id": "rv_oAblugI4v",
        "outputId": "c8686428-953d-4335-9a8d-2835c8166a68"
      },
      "execution_count": 2,
      "outputs": [
        {
          "output_type": "display_data",
          "data": {
            "text/plain": [
              "<IPython.core.display.HTML object>"
            ],
            "text/html": [
              "<!DOCTYPE html>\n",
              "<html>\n",
              "   <head>\n",
              "      <script type = \"text/javascript\" src = \"https://d3js.org/d3.v4.min.js\"></script>\n",
              "   </head>\n",
              "\n",
              "   <body>\n",
              "      <svg width=\"960\" height=\"500\"></svg>\n",
              "\n",
              "      <style>\n",
              "        body {\n",
              "  margin: 0px;\n",
              "  overflow: hidden;\n",
              "}\n",
              "\n",
              ".sphere {\n",
              "  fill: #4242e4;\n",
              "}\n",
              "\n",
              ".country {\n",
              "  stroke: black;\n",
              "  stroke-width: 0.05px;\n",
              "}\n",
              "\n",
              ".country:hover {\n",
              "  fill: red;\n",
              "}\n",
              "\n",
              ".tick text {\n",
              "  font-size: 1em;\n",
              "  font-family: sans-serif;\n",
              "  fill: black;\n",
              "}\n",
              "\n",
              "rect {opacity: .7;}\n",
              "\n",
              "p {padding-left: 10px;}\n",
              "</style>\n",
              "      <script>\n",
              "         const svg = d3.select('svg');\n",
              "\n",
              "const projection = d3.geoNaturalEarth1();\n",
              "const pathGenerator = d3.geoPath().projection(projection);\n",
              "\n",
              "const g = svg.append('g');\n",
              "\n",
              "const colorLegendG = svg.append('g')\n",
              "   .attr('transform', `translate(40,310)`);\n",
              "\n",
              "\n",
              "g.append('path')\n",
              "    .attr('class', 'sphere')\n",
              "    .attr('d', pathGenerator({type: 'Sphere'}));\n",
              "\n",
              "svg.call(d3.zoom().on('zoom', () => {\n",
              "  g.attr('transform', d3.event.transform);\n",
              "}));\n",
              " const colorScale = d3.scaleOrdinal();\n",
              "\n",
              " const colorValue = d => d.properties.economy;\n",
              "\n",
              "const loadAndProcessData = () =>\n",
              "\n",
              "  Promise.all([\n",
              "    d3.tsv('https://unpkg.com/world-atlas@1.1.4/world/50m.tsv'),\n",
              "    d3.json('https://unpkg.com/world-atlas@1.1.4/world/50m.json')\n",
              "  ])\n",
              "  \n",
              "  .then(([tsvData, topoJSONdata]) => {\n",
              "  \n",
              "  const rowById = tsvData.reduce((accumulator, d) => {\n",
              "    accumulator[d.iso_n3] = d;\n",
              "    return accumulator;\n",
              "  }, {});\n",
              "  \n",
              "  const countries = topojson.feature(topoJSONdata, topoJSONdata.objects.countries);\n",
              "    \n",
              "     countries.features.forEach(d =>{\n",
              "   Object.assign(d.properties, rowById[d.id])\n",
              "  });\n",
              "  \n",
              "  return countries;\n",
              "  \n",
              "});\n",
              "\n",
              "const colorLegend = (selection, props) => {\n",
              "  const {\n",
              "    colorScale,\n",
              "    circleRadius,\n",
              "    spacing,\n",
              "    textOffset,\n",
              "    backgroundRectWidth\n",
              "  } = props;\n",
              "  \n",
              "  const backgroundRect = selection.selectAll('rect')\n",
              "    .data([null]);\n",
              "  \n",
              "  const n = colorScale.domain().length;\n",
              "  backgroundRect.enter()\n",
              "    .append('rect')\n",
              "    .merge(backgroundRect)\n",
              "    .attr('x', -circleRadius * 2)\n",
              "    .attr('y', -circleRadius * 2)\n",
              "    .attr('rx', circleRadius * 2)\n",
              "    .attr('width', backgroundRectWidth)\n",
              "    .attr('fill', 'white')\n",
              "    .attr('height', spacing * n + circleRadius * 2)\n",
              "\n",
              "  const groups = selection.selectAll('.tick')\n",
              "    .data(colorScale.domain());\n",
              "  const groupsEnter = groups\n",
              "    .enter().append('g')\n",
              "      .attr('class', 'tick');\n",
              "  groupsEnter\n",
              "    .merge(groups)\n",
              "      .attr('transform', (d, i) =>\n",
              "        `translate(0, ${i * spacing})`\n",
              "      );\n",
              "  groups.exit().remove();\n",
              "  \n",
              "  groupsEnter.append('circle')\n",
              "    .merge(groups.select('circle'))\n",
              "      .attr('r', circleRadius)\n",
              "      .attr('fill', colorScale);\n",
              "  \n",
              "  groupsEnter.append('text')\n",
              "    .merge(groups.select('text'))\n",
              "      .text(d => d)\n",
              "      .attr('dy', '0.32em')\n",
              "      .attr('x', textOffset);\n",
              "}\n",
              "\n",
              "  loadAndProcessData().then(countries => {\n",
              "  console.log(colorScale);\n",
              " colorScale.domain(countries.features.map(colorValue))\n",
              "    .domain(colorScale.domain().sort().reverse())\n",
              "    .range(d3.schemeSpectral[colorScale.domain().length]);\n",
              "    \n",
              "  colorLegendG.call(colorLegend, {\n",
              "  colorScale,\n",
              "  circleRadius: 8,\n",
              "  spacing: 20,\n",
              "  textOffset: 15,\n",
              "  backgroundRectWidth: 240\n",
              "});\n",
              "  \n",
              "  g.selectAll('path').data(countries.features)\n",
              "    .enter().append('path')\n",
              "      .attr('class', 'country')\n",
              "      .attr('d', pathGenerator)\n",
              "      .attr('fill', d => colorScale(colorValue(d)))\n",
              "    .append('title')\n",
              "      .text(d => d.properties.name + ' : ' + colorValue(d));\n",
              "  \n",
              "});\n",
              "      </script>\n",
              "   </body>\n",
              "\n",
              "\n",
              "\n",
              " </html> \n"
            ]
          },
          "metadata": {}
        }
      ]
    },
    {
      "cell_type": "markdown",
      "source": [
        "![image.png](data:image/png;base64,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)"
      ],
      "metadata": {
        "id": "Vhh4lI7sdleB"
      }
    },
    {
      "cell_type": "code",
      "source": [],
      "metadata": {
        "id": "n-KEohFAgcjo"
      },
      "execution_count": null,
      "outputs": []
    }
  ]
}